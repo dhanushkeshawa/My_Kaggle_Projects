{
 "cells": [
  {
   "cell_type": "code",
   "execution_count": 1,
   "id": "a02251a6",
   "metadata": {
    "_cell_guid": "b1076dfc-b9ad-4769-8c92-a6c4dae69d19",
    "_uuid": "8f2839f25d086af736a60e9eeb907d3b93b6e0e5",
    "execution": {
     "iopub.execute_input": "2022-02-02T12:45:10.970674Z",
     "iopub.status.busy": "2022-02-02T12:45:10.967257Z",
     "iopub.status.idle": "2022-02-02T12:45:10.988340Z",
     "shell.execute_reply": "2022-02-02T12:45:10.987546Z",
     "shell.execute_reply.started": "2022-02-02T11:54:21.351080Z"
    },
    "papermill": {
     "duration": 0.091413,
     "end_time": "2022-02-02T12:45:10.988535",
     "exception": false,
     "start_time": "2022-02-02T12:45:10.897122",
     "status": "completed"
    },
    "tags": []
   },
   "outputs": [
    {
     "name": "stdout",
     "output_type": "stream",
     "text": [
      "/kaggle/input/uber-dataset/uber-rides-dataset.csv\n"
     ]
    }
   ],
   "source": [
    "# This Python 3 environment comes with many helpful analytics libraries installed\n",
    "# It is defined by the kaggle/python Docker image: https://github.com/kaggle/docker-python\n",
    "# For example, here's several helpful packages to load\n",
    "\n",
    "import numpy as np # linear algebra\n",
    "import pandas as pd # data processing, CSV file I/O (e.g. pd.read_csv)\n",
    "\n",
    "# Input data files are available in the read-only \"../input/\" directory\n",
    "# For example, running this (by clicking run or pressing Shift+Enter) will list all files under the input directory\n",
    "\n",
    "import os\n",
    "for dirname, _, filenames in os.walk('/kaggle/input'):\n",
    "    for filename in filenames:\n",
    "        print(os.path.join(dirname, filename))\n",
    "\n",
    "# You can write up to 20GB to the current directory (/kaggle/working/) that gets preserved as output when you create a version using \"Save & Run All\" \n",
    "# You can also write temporary files to /kaggle/temp/, but they won't be saved outside of the current session"
   ]
  },
  {
   "cell_type": "markdown",
   "id": "6867023b",
   "metadata": {
    "papermill": {
     "duration": 0.058845,
     "end_time": "2022-02-02T12:45:11.111093",
     "exception": false,
     "start_time": "2022-02-02T12:45:11.052248",
     "status": "completed"
    },
    "tags": []
   },
   "source": [
    "# Comlete EDA about UBER Dataset"
   ]
  },
  {
   "cell_type": "markdown",
   "id": "625acfce",
   "metadata": {
    "papermill": {
     "duration": 0.05811,
     "end_time": "2022-02-02T12:45:11.227808",
     "exception": false,
     "start_time": "2022-02-02T12:45:11.169698",
     "status": "completed"
    },
    "tags": []
   },
   "source": [
    "# # Data Exploration"
   ]
  },
  {
   "cell_type": "code",
   "execution_count": 2,
   "id": "118817f8",
   "metadata": {
    "execution": {
     "iopub.execute_input": "2022-02-02T12:45:11.354012Z",
     "iopub.status.busy": "2022-02-02T12:45:11.353206Z",
     "iopub.status.idle": "2022-02-02T12:45:11.437996Z",
     "shell.execute_reply": "2022-02-02T12:45:11.437430Z",
     "shell.execute_reply.started": "2022-02-02T11:54:21.371695Z"
    },
    "papermill": {
     "duration": 0.149531,
     "end_time": "2022-02-02T12:45:11.438177",
     "exception": false,
     "start_time": "2022-02-02T12:45:11.288646",
     "status": "completed"
    },
    "tags": []
   },
   "outputs": [
    {
     "data": {
      "text/html": [
       "<div>\n",
       "<style scoped>\n",
       "    .dataframe tbody tr th:only-of-type {\n",
       "        vertical-align: middle;\n",
       "    }\n",
       "\n",
       "    .dataframe tbody tr th {\n",
       "        vertical-align: top;\n",
       "    }\n",
       "\n",
       "    .dataframe thead th {\n",
       "        text-align: right;\n",
       "    }\n",
       "</style>\n",
       "<table border=\"1\" class=\"dataframe\">\n",
       "  <thead>\n",
       "    <tr style=\"text-align: right;\">\n",
       "      <th></th>\n",
       "      <th>trip_completed_at</th>\n",
       "      <th>trip_status</th>\n",
       "      <th>ride_hailing_app</th>\n",
       "      <th>trip_uid</th>\n",
       "      <th>driver_uid</th>\n",
       "      <th>rider_uid</th>\n",
       "      <th>customer</th>\n",
       "      <th>trip_start_time</th>\n",
       "      <th>trip_end_time</th>\n",
       "      <th>trip_time</th>\n",
       "      <th>...</th>\n",
       "      <th>distance_kms</th>\n",
       "      <th>temperature_time</th>\n",
       "      <th>temperature_value</th>\n",
       "      <th>feels_like</th>\n",
       "      <th>humidity</th>\n",
       "      <th>wind_speed</th>\n",
       "      <th>cloudness</th>\n",
       "      <th>weather_main</th>\n",
       "      <th>weather_desc</th>\n",
       "      <th>precipitation</th>\n",
       "    </tr>\n",
       "  </thead>\n",
       "  <tbody>\n",
       "    <tr>\n",
       "      <th>0</th>\n",
       "      <td>May 11, 2015 at 6:55PM</td>\n",
       "      <td>Completed</td>\n",
       "      <td>Uber</td>\n",
       "      <td>ee89076fd9da9bddf5f096b0ca42f8d5</td>\n",
       "      <td>05cfeb269e606247fe9d2b6082942c59</td>\n",
       "      <td>3ffa4a71a5aa791a8bc3409f5b15b936</td>\n",
       "      <td>stantyan</td>\n",
       "      <td>2015-05-11 17:26:00</td>\n",
       "      <td>2015-05-11 17:55:00</td>\n",
       "      <td>00:21:33</td>\n",
       "      <td>...</td>\n",
       "      <td>9.29</td>\n",
       "      <td>2015-05-11T17:26:00</td>\n",
       "      <td>12</td>\n",
       "      <td>12</td>\n",
       "      <td>0.69</td>\n",
       "      <td>4.81</td>\n",
       "      <td>0.78</td>\n",
       "      <td>partly-cloudy-day</td>\n",
       "      <td>Mostly Cloudy</td>\n",
       "      <td>none</td>\n",
       "    </tr>\n",
       "    <tr>\n",
       "      <th>1</th>\n",
       "      <td>May 11, 2015 at 8:12PM</td>\n",
       "      <td>Completed</td>\n",
       "      <td>Uber</td>\n",
       "      <td>518be51d403944a03c47e8d1f2c87311</td>\n",
       "      <td>4a4e248742f9d5ff517c5bbbb48d0e54</td>\n",
       "      <td>3ffa4a71a5aa791a8bc3409f5b15b936</td>\n",
       "      <td>stantyan</td>\n",
       "      <td>2015-05-11 18:46:00</td>\n",
       "      <td>2015-05-11 19:12:00</td>\n",
       "      <td>00:19:27</td>\n",
       "      <td>...</td>\n",
       "      <td>9.93</td>\n",
       "      <td>2015-05-11T18:46:00</td>\n",
       "      <td>10</td>\n",
       "      <td>10</td>\n",
       "      <td>0.70</td>\n",
       "      <td>6.53</td>\n",
       "      <td>0.66</td>\n",
       "      <td>partly-cloudy-day</td>\n",
       "      <td>Mostly Cloudy</td>\n",
       "      <td>none</td>\n",
       "    </tr>\n",
       "    <tr>\n",
       "      <th>2</th>\n",
       "      <td>May 13, 2015 at 11:38AM</td>\n",
       "      <td>Completed</td>\n",
       "      <td>Uber</td>\n",
       "      <td>6e460cc8a12c3c6568d0d4a67ac58393</td>\n",
       "      <td>cb249a2bd807ca78697b4ed0348c37da</td>\n",
       "      <td>3ffa4a71a5aa791a8bc3409f5b15b936</td>\n",
       "      <td>stantyan</td>\n",
       "      <td>2015-05-13 09:15:00</td>\n",
       "      <td>2015-05-13 10:38:00</td>\n",
       "      <td>01:06:53</td>\n",
       "      <td>...</td>\n",
       "      <td>18.01</td>\n",
       "      <td>2015-05-13T09:15:00</td>\n",
       "      <td>14</td>\n",
       "      <td>14</td>\n",
       "      <td>0.61</td>\n",
       "      <td>5.25</td>\n",
       "      <td>0.86</td>\n",
       "      <td>partly-cloudy-day</td>\n",
       "      <td>Mostly Cloudy</td>\n",
       "      <td>none</td>\n",
       "    </tr>\n",
       "    <tr>\n",
       "      <th>3</th>\n",
       "      <td>May 16, 2015 at 1:44AM</td>\n",
       "      <td>Completed</td>\n",
       "      <td>Uber</td>\n",
       "      <td>49613a86a04e6c15d72b51d1a2935d81</td>\n",
       "      <td>d3f73f8151c2e8c34b541f961db7f5fa</td>\n",
       "      <td>3ffa4a71a5aa791a8bc3409f5b15b936</td>\n",
       "      <td>stantyan</td>\n",
       "      <td>2015-05-16 00:24:00</td>\n",
       "      <td>2015-05-16 00:44:00</td>\n",
       "      <td>00:13:37</td>\n",
       "      <td>...</td>\n",
       "      <td>5.10</td>\n",
       "      <td>2015-05-16T00:24:00</td>\n",
       "      <td>3</td>\n",
       "      <td>3</td>\n",
       "      <td>0.84</td>\n",
       "      <td>0.87</td>\n",
       "      <td>0.56</td>\n",
       "      <td>partly-cloudy-night</td>\n",
       "      <td>Partly Cloudy</td>\n",
       "      <td>none</td>\n",
       "    </tr>\n",
       "    <tr>\n",
       "      <th>4</th>\n",
       "      <td>May 16, 2015 at 3:18AM</td>\n",
       "      <td>Completed</td>\n",
       "      <td>Uber</td>\n",
       "      <td>9896148fdecdb4c5d977a8691510bdb6</td>\n",
       "      <td>1287d21e6455ee40d4861f6b91c680f4</td>\n",
       "      <td>3ffa4a71a5aa791a8bc3409f5b15b936</td>\n",
       "      <td>stantyan</td>\n",
       "      <td>2015-05-16 01:29:00</td>\n",
       "      <td>2015-05-16 02:18:00</td>\n",
       "      <td>00:38:54</td>\n",
       "      <td>...</td>\n",
       "      <td>21.92</td>\n",
       "      <td>2015-05-16T01:29:00</td>\n",
       "      <td>3</td>\n",
       "      <td>1</td>\n",
       "      <td>0.90</td>\n",
       "      <td>1.61</td>\n",
       "      <td>0.31</td>\n",
       "      <td>partly-cloudy-night</td>\n",
       "      <td>Partly Cloudy</td>\n",
       "      <td>none</td>\n",
       "    </tr>\n",
       "    <tr>\n",
       "      <th>...</th>\n",
       "      <td>...</td>\n",
       "      <td>...</td>\n",
       "      <td>...</td>\n",
       "      <td>...</td>\n",
       "      <td>...</td>\n",
       "      <td>...</td>\n",
       "      <td>...</td>\n",
       "      <td>...</td>\n",
       "      <td>...</td>\n",
       "      <td>...</td>\n",
       "      <td>...</td>\n",
       "      <td>...</td>\n",
       "      <td>...</td>\n",
       "      <td>...</td>\n",
       "      <td>...</td>\n",
       "      <td>...</td>\n",
       "      <td>...</td>\n",
       "      <td>...</td>\n",
       "      <td>...</td>\n",
       "      <td>...</td>\n",
       "      <td>...</td>\n",
       "    </tr>\n",
       "    <tr>\n",
       "      <th>673</th>\n",
       "      <td>April 23, 2018 at 12:11PM</td>\n",
       "      <td>Completed</td>\n",
       "      <td>Uber</td>\n",
       "      <td>ce5bdea8e9c366b2f9f9cdf1bb879965</td>\n",
       "      <td>e96ad9d6f2f0b2c55b2fa2c284507543</td>\n",
       "      <td>3ffa4a71a5aa791a8bc3409f5b15b936</td>\n",
       "      <td>stantyan</td>\n",
       "      <td>2018-04-23 11:59:00</td>\n",
       "      <td>2018-04-23 12:11:00</td>\n",
       "      <td>00:10:37</td>\n",
       "      <td>...</td>\n",
       "      <td>5.79</td>\n",
       "      <td>2018-04-23T11:59:00</td>\n",
       "      <td>6</td>\n",
       "      <td>4</td>\n",
       "      <td>0.39</td>\n",
       "      <td>2.57</td>\n",
       "      <td>0.18</td>\n",
       "      <td>clear-day</td>\n",
       "      <td>Clear</td>\n",
       "      <td>none</td>\n",
       "    </tr>\n",
       "    <tr>\n",
       "      <th>674</th>\n",
       "      <td>April 24, 2018 at 02:58PM</td>\n",
       "      <td>Completed</td>\n",
       "      <td>Uber</td>\n",
       "      <td>3a1df88ce67d8f749ac5f09da8b4dadf</td>\n",
       "      <td>e63e621e61b493e119239f5ff635810d</td>\n",
       "      <td>3ffa4a71a5aa791a8bc3409f5b15b936</td>\n",
       "      <td>stantyan</td>\n",
       "      <td>2018-04-24 14:21:00</td>\n",
       "      <td>2018-04-24 14:58:00</td>\n",
       "      <td>00:23:41</td>\n",
       "      <td>...</td>\n",
       "      <td>11.46</td>\n",
       "      <td>2018-04-24T14:21:00</td>\n",
       "      <td>7</td>\n",
       "      <td>3</td>\n",
       "      <td>0.62</td>\n",
       "      <td>5.37</td>\n",
       "      <td>0.48</td>\n",
       "      <td>partly-cloudy-day</td>\n",
       "      <td>Partly Cloudy</td>\n",
       "      <td>none</td>\n",
       "    </tr>\n",
       "    <tr>\n",
       "      <th>675</th>\n",
       "      <td>April 26, 2018 at 03:57PM</td>\n",
       "      <td>Completed</td>\n",
       "      <td>Uber</td>\n",
       "      <td>1879ce44367d4cc555479253323ec36d</td>\n",
       "      <td>b65196da38435a1dbe8e9009b514a7b8</td>\n",
       "      <td>3ffa4a71a5aa791a8bc3409f5b15b936</td>\n",
       "      <td>stantyan</td>\n",
       "      <td>2018-04-26 15:22:00</td>\n",
       "      <td>2018-04-26 15:57:00</td>\n",
       "      <td>00:16:20</td>\n",
       "      <td>...</td>\n",
       "      <td>6.68</td>\n",
       "      <td>2018-04-26T15:22:00</td>\n",
       "      <td>8</td>\n",
       "      <td>6</td>\n",
       "      <td>0.76</td>\n",
       "      <td>4.02</td>\n",
       "      <td>0.9</td>\n",
       "      <td>partly-cloudy-day</td>\n",
       "      <td>Mostly Cloudy</td>\n",
       "      <td>none</td>\n",
       "    </tr>\n",
       "    <tr>\n",
       "      <th>676</th>\n",
       "      <td>April 26, 2018 at 05:00PM</td>\n",
       "      <td>Completed</td>\n",
       "      <td>Uber</td>\n",
       "      <td>7a237cb245b6ca854498ecb7c842beb3</td>\n",
       "      <td>2af94300321de81edc1eeef8c041fd9a</td>\n",
       "      <td>3ffa4a71a5aa791a8bc3409f5b15b936</td>\n",
       "      <td>stantyan</td>\n",
       "      <td>2018-04-26 16:37:00</td>\n",
       "      <td>2018-04-26 17:00:00</td>\n",
       "      <td>00:19:19</td>\n",
       "      <td>...</td>\n",
       "      <td>7.48</td>\n",
       "      <td>2018-04-26T16:37:00</td>\n",
       "      <td>9</td>\n",
       "      <td>7</td>\n",
       "      <td>0.68</td>\n",
       "      <td>4.28</td>\n",
       "      <td>0.79</td>\n",
       "      <td>partly-cloudy-day</td>\n",
       "      <td>Mostly Cloudy</td>\n",
       "      <td>none</td>\n",
       "    </tr>\n",
       "    <tr>\n",
       "      <th>677</th>\n",
       "      <td>April 27, 2018 at 03:05PM</td>\n",
       "      <td>Completed</td>\n",
       "      <td>Uber</td>\n",
       "      <td>f794daa1e63029828ec58248549815d2</td>\n",
       "      <td>ab02b9b447412505a2f42cefab54520b</td>\n",
       "      <td>3ffa4a71a5aa791a8bc3409f5b15b936</td>\n",
       "      <td>stantyan</td>\n",
       "      <td>2018-04-27 14:15:00</td>\n",
       "      <td>2018-04-27 15:05:00</td>\n",
       "      <td>00:32:46</td>\n",
       "      <td>...</td>\n",
       "      <td>9.03</td>\n",
       "      <td>2018-04-27T14:15:00</td>\n",
       "      <td>8</td>\n",
       "      <td>7</td>\n",
       "      <td>0.77</td>\n",
       "      <td>1.56</td>\n",
       "      <td>0.75</td>\n",
       "      <td>partly-cloudy-day</td>\n",
       "      <td>Mostly Cloudy</td>\n",
       "      <td>none</td>\n",
       "    </tr>\n",
       "  </tbody>\n",
       "</table>\n",
       "<p>678 rows × 45 columns</p>\n",
       "</div>"
      ],
      "text/plain": [
       "             trip_completed_at trip_status ride_hailing_app  \\\n",
       "0       May 11, 2015 at 6:55PM   Completed             Uber   \n",
       "1       May 11, 2015 at 8:12PM   Completed             Uber   \n",
       "2      May 13, 2015 at 11:38AM   Completed             Uber   \n",
       "3       May 16, 2015 at 1:44AM   Completed             Uber   \n",
       "4       May 16, 2015 at 3:18AM   Completed             Uber   \n",
       "..                         ...         ...              ...   \n",
       "673  April 23, 2018 at 12:11PM   Completed             Uber   \n",
       "674  April 24, 2018 at 02:58PM   Completed             Uber   \n",
       "675  April 26, 2018 at 03:57PM   Completed             Uber   \n",
       "676  April 26, 2018 at 05:00PM   Completed             Uber   \n",
       "677  April 27, 2018 at 03:05PM   Completed             Uber   \n",
       "\n",
       "                             trip_uid                        driver_uid  \\\n",
       "0    ee89076fd9da9bddf5f096b0ca42f8d5  05cfeb269e606247fe9d2b6082942c59   \n",
       "1    518be51d403944a03c47e8d1f2c87311  4a4e248742f9d5ff517c5bbbb48d0e54   \n",
       "2    6e460cc8a12c3c6568d0d4a67ac58393  cb249a2bd807ca78697b4ed0348c37da   \n",
       "3    49613a86a04e6c15d72b51d1a2935d81  d3f73f8151c2e8c34b541f961db7f5fa   \n",
       "4    9896148fdecdb4c5d977a8691510bdb6  1287d21e6455ee40d4861f6b91c680f4   \n",
       "..                                ...                               ...   \n",
       "673  ce5bdea8e9c366b2f9f9cdf1bb879965  e96ad9d6f2f0b2c55b2fa2c284507543   \n",
       "674  3a1df88ce67d8f749ac5f09da8b4dadf  e63e621e61b493e119239f5ff635810d   \n",
       "675  1879ce44367d4cc555479253323ec36d  b65196da38435a1dbe8e9009b514a7b8   \n",
       "676  7a237cb245b6ca854498ecb7c842beb3  2af94300321de81edc1eeef8c041fd9a   \n",
       "677  f794daa1e63029828ec58248549815d2  ab02b9b447412505a2f42cefab54520b   \n",
       "\n",
       "                            rider_uid  customer      trip_start_time  \\\n",
       "0    3ffa4a71a5aa791a8bc3409f5b15b936  stantyan  2015-05-11 17:26:00   \n",
       "1    3ffa4a71a5aa791a8bc3409f5b15b936  stantyan  2015-05-11 18:46:00   \n",
       "2    3ffa4a71a5aa791a8bc3409f5b15b936  stantyan  2015-05-13 09:15:00   \n",
       "3    3ffa4a71a5aa791a8bc3409f5b15b936  stantyan  2015-05-16 00:24:00   \n",
       "4    3ffa4a71a5aa791a8bc3409f5b15b936  stantyan  2015-05-16 01:29:00   \n",
       "..                                ...       ...                  ...   \n",
       "673  3ffa4a71a5aa791a8bc3409f5b15b936  stantyan  2018-04-23 11:59:00   \n",
       "674  3ffa4a71a5aa791a8bc3409f5b15b936  stantyan  2018-04-24 14:21:00   \n",
       "675  3ffa4a71a5aa791a8bc3409f5b15b936  stantyan  2018-04-26 15:22:00   \n",
       "676  3ffa4a71a5aa791a8bc3409f5b15b936  stantyan  2018-04-26 16:37:00   \n",
       "677  3ffa4a71a5aa791a8bc3409f5b15b936  stantyan  2018-04-27 14:15:00   \n",
       "\n",
       "           trip_end_time trip_time  ... distance_kms     temperature_time  \\\n",
       "0    2015-05-11 17:55:00  00:21:33  ...         9.29  2015-05-11T17:26:00   \n",
       "1    2015-05-11 19:12:00  00:19:27  ...         9.93  2015-05-11T18:46:00   \n",
       "2    2015-05-13 10:38:00  01:06:53  ...        18.01  2015-05-13T09:15:00   \n",
       "3    2015-05-16 00:44:00  00:13:37  ...         5.10  2015-05-16T00:24:00   \n",
       "4    2015-05-16 02:18:00  00:38:54  ...        21.92  2015-05-16T01:29:00   \n",
       "..                   ...       ...  ...          ...                  ...   \n",
       "673  2018-04-23 12:11:00  00:10:37  ...         5.79  2018-04-23T11:59:00   \n",
       "674  2018-04-24 14:58:00  00:23:41  ...        11.46  2018-04-24T14:21:00   \n",
       "675  2018-04-26 15:57:00  00:16:20  ...         6.68  2018-04-26T15:22:00   \n",
       "676  2018-04-26 17:00:00  00:19:19  ...         7.48  2018-04-26T16:37:00   \n",
       "677  2018-04-27 15:05:00  00:32:46  ...         9.03  2018-04-27T14:15:00   \n",
       "\n",
       "    temperature_value  feels_like humidity wind_speed cloudness  \\\n",
       "0                  12          12     0.69       4.81      0.78   \n",
       "1                  10          10     0.70       6.53      0.66   \n",
       "2                  14          14     0.61       5.25      0.86   \n",
       "3                   3           3     0.84       0.87      0.56   \n",
       "4                   3           1     0.90       1.61      0.31   \n",
       "..                ...         ...      ...        ...       ...   \n",
       "673                 6           4     0.39       2.57      0.18   \n",
       "674                 7           3     0.62       5.37      0.48   \n",
       "675                 8           6     0.76       4.02       0.9   \n",
       "676                 9           7     0.68       4.28      0.79   \n",
       "677                 8           7     0.77       1.56      0.75   \n",
       "\n",
       "            weather_main   weather_desc precipitation  \n",
       "0      partly-cloudy-day  Mostly Cloudy          none  \n",
       "1      partly-cloudy-day  Mostly Cloudy          none  \n",
       "2      partly-cloudy-day  Mostly Cloudy          none  \n",
       "3    partly-cloudy-night  Partly Cloudy          none  \n",
       "4    partly-cloudy-night  Partly Cloudy          none  \n",
       "..                   ...            ...           ...  \n",
       "673            clear-day          Clear          none  \n",
       "674    partly-cloudy-day  Partly Cloudy          none  \n",
       "675    partly-cloudy-day  Mostly Cloudy          none  \n",
       "676    partly-cloudy-day  Mostly Cloudy          none  \n",
       "677    partly-cloudy-day  Mostly Cloudy          none  \n",
       "\n",
       "[678 rows x 45 columns]"
      ]
     },
     "execution_count": 2,
     "metadata": {},
     "output_type": "execute_result"
    }
   ],
   "source": [
    "df = pd.read_csv(\"../input/uber-dataset/uber-rides-dataset.csv\")\n",
    "df"
   ]
  },
  {
   "cell_type": "markdown",
   "id": "184aa5c7",
   "metadata": {
    "papermill": {
     "duration": 0.061089,
     "end_time": "2022-02-02T12:45:11.562394",
     "exception": false,
     "start_time": "2022-02-02T12:45:11.501305",
     "status": "completed"
    },
    "tags": []
   },
   "source": [
    "1. To find shape of datasets"
   ]
  },
  {
   "cell_type": "code",
   "execution_count": 3,
   "id": "b1022343",
   "metadata": {
    "execution": {
     "iopub.execute_input": "2022-02-02T12:45:11.689798Z",
     "iopub.status.busy": "2022-02-02T12:45:11.689070Z",
     "iopub.status.idle": "2022-02-02T12:45:11.692344Z",
     "shell.execute_reply": "2022-02-02T12:45:11.691743Z",
     "shell.execute_reply.started": "2022-02-02T11:54:21.418627Z"
    },
    "papermill": {
     "duration": 0.070438,
     "end_time": "2022-02-02T12:45:11.692495",
     "exception": false,
     "start_time": "2022-02-02T12:45:11.622057",
     "status": "completed"
    },
    "tags": []
   },
   "outputs": [
    {
     "data": {
      "text/plain": [
       "(678, 45)"
      ]
     },
     "execution_count": 3,
     "metadata": {},
     "output_type": "execute_result"
    }
   ],
   "source": [
    "df.shape"
   ]
  },
  {
   "cell_type": "markdown",
   "id": "8e2661f5",
   "metadata": {
    "papermill": {
     "duration": 0.062125,
     "end_time": "2022-02-02T12:45:11.819060",
     "exception": false,
     "start_time": "2022-02-02T12:45:11.756935",
     "status": "completed"
    },
    "tags": []
   },
   "source": [
    "> It shows that there are 678 rows & 45 columns"
   ]
  },
  {
   "cell_type": "markdown",
   "id": "b4784f1f",
   "metadata": {
    "papermill": {
     "duration": 0.060615,
     "end_time": "2022-02-02T12:45:11.943035",
     "exception": false,
     "start_time": "2022-02-02T12:45:11.882420",
     "status": "completed"
    },
    "tags": []
   },
   "source": [
    "2. df.info() method prints information about the DataFrame. The information contains the number of columns, column labels, column data types, memory usage, range index, and the number of cells in each column (non-null values)."
   ]
  },
  {
   "cell_type": "code",
   "execution_count": 4,
   "id": "2a71caad",
   "metadata": {
    "execution": {
     "iopub.execute_input": "2022-02-02T12:45:12.075433Z",
     "iopub.status.busy": "2022-02-02T12:45:12.074685Z",
     "iopub.status.idle": "2022-02-02T12:45:12.098608Z",
     "shell.execute_reply": "2022-02-02T12:45:12.099548Z",
     "shell.execute_reply.started": "2022-02-02T11:54:21.424884Z"
    },
    "papermill": {
     "duration": 0.096071,
     "end_time": "2022-02-02T12:45:12.099793",
     "exception": false,
     "start_time": "2022-02-02T12:45:12.003722",
     "status": "completed"
    },
    "tags": []
   },
   "outputs": [
    {
     "name": "stdout",
     "output_type": "stream",
     "text": [
      "<class 'pandas.core.frame.DataFrame'>\n",
      "RangeIndex: 678 entries, 0 to 677\n",
      "Data columns (total 45 columns):\n",
      " #   Column                 Non-Null Count  Dtype  \n",
      "---  ------                 --------------  -----  \n",
      " 0   trip_completed_at      678 non-null    object \n",
      " 1   trip_status            678 non-null    object \n",
      " 2   ride_hailing_app       678 non-null    object \n",
      " 3   trip_uid               678 non-null    object \n",
      " 4   driver_uid             678 non-null    object \n",
      " 5   rider_uid              678 non-null    object \n",
      " 6   customer               678 non-null    object \n",
      " 7   trip_start_time        678 non-null    object \n",
      " 8   trip_end_time          678 non-null    object \n",
      " 9   trip_time              678 non-null    object \n",
      " 10  total_time             678 non-null    object \n",
      " 11  wait_time              678 non-null    object \n",
      " 12  trip_type              678 non-null    object \n",
      " 13  surge_multiplier       643 non-null    float64\n",
      " 14  vehicle_make_model     678 non-null    object \n",
      " 15  vehicle_license_plate  678 non-null    object \n",
      " 16  driver_name_en         678 non-null    object \n",
      " 17  vehicle_make           678 non-null    object \n",
      " 18  vehicle_model          678 non-null    object \n",
      " 19  driver_gender          678 non-null    object \n",
      " 20  driver_photo_url       678 non-null    object \n",
      " 21  driver_phone_number    678 non-null    object \n",
      " 22  pickup_lat             678 non-null    float64\n",
      " 23  pickup_long            678 non-null    float64\n",
      " 24  dropoff_lat            678 non-null    float64\n",
      " 25  dropoff_long           678 non-null    float64\n",
      " 26  trip_map_image_url     678 non-null    object \n",
      " 27  trip_path_image_url    678 non-null    object \n",
      " 28  city                   678 non-null    object \n",
      " 29  country                678 non-null    object \n",
      " 30  trip_start_address     678 non-null    object \n",
      " 31  trip_end_address       678 non-null    object \n",
      " 32  rub_usd_exchange_rate  678 non-null    float64\n",
      " 33  price_rub              678 non-null    object \n",
      " 34  price_usd              678 non-null    float64\n",
      " 35  distance_kms           678 non-null    float64\n",
      " 36  temperature_time       678 non-null    object \n",
      " 37  temperature_value      678 non-null    int64  \n",
      " 38  feels_like             678 non-null    int64  \n",
      " 39  humidity               678 non-null    float64\n",
      " 40  wind_speed             678 non-null    float64\n",
      " 41  cloudness              678 non-null    object \n",
      " 42  weather_main           678 non-null    object \n",
      " 43  weather_desc           678 non-null    object \n",
      " 44  precipitation          678 non-null    object \n",
      "dtypes: float64(10), int64(2), object(33)\n",
      "memory usage: 238.5+ KB\n"
     ]
    }
   ],
   "source": [
    "df.info()"
   ]
  },
  {
   "cell_type": "markdown",
   "id": "584700da",
   "metadata": {
    "papermill": {
     "duration": 0.060205,
     "end_time": "2022-02-02T12:45:12.223024",
     "exception": false,
     "start_time": "2022-02-02T12:45:12.162819",
     "status": "completed"
    },
    "tags": []
   },
   "source": [
    "* >  So we can conclude that our dataset contains null-valuse in surge_multiplier.bcz it has 643 non-null.\n",
    "* > And trip start,trip end and other time values are in the object(str) dtype, so we  need to convert it to datetime formate."
   ]
  },
  {
   "cell_type": "markdown",
   "id": "85297a69",
   "metadata": {
    "papermill": {
     "duration": 0.060578,
     "end_time": "2022-02-02T12:45:12.346362",
     "exception": false,
     "start_time": "2022-02-02T12:45:12.285784",
     "status": "completed"
    },
    "tags": []
   },
   "source": [
    "3.The describe() method computes and displays summary statistics for a Python dataframe.The describe() method is used for calculating some statistical data like percentile, mean and std of the numerical values of the Series or DataFrame. It analyzes both numeric and object series and also the DataFrame column sets of mixed data types. "
   ]
  },
  {
   "cell_type": "code",
   "execution_count": 5,
   "id": "cb49b692",
   "metadata": {
    "execution": {
     "iopub.execute_input": "2022-02-02T12:45:12.479912Z",
     "iopub.status.busy": "2022-02-02T12:45:12.478839Z",
     "iopub.status.idle": "2022-02-02T12:45:12.523791Z",
     "shell.execute_reply": "2022-02-02T12:45:12.524309Z",
     "shell.execute_reply.started": "2022-02-02T11:54:21.449462Z"
    },
    "papermill": {
     "duration": 0.114792,
     "end_time": "2022-02-02T12:45:12.524501",
     "exception": false,
     "start_time": "2022-02-02T12:45:12.409709",
     "status": "completed"
    },
    "tags": []
   },
   "outputs": [
    {
     "data": {
      "text/html": [
       "<div>\n",
       "<style scoped>\n",
       "    .dataframe tbody tr th:only-of-type {\n",
       "        vertical-align: middle;\n",
       "    }\n",
       "\n",
       "    .dataframe tbody tr th {\n",
       "        vertical-align: top;\n",
       "    }\n",
       "\n",
       "    .dataframe thead th {\n",
       "        text-align: right;\n",
       "    }\n",
       "</style>\n",
       "<table border=\"1\" class=\"dataframe\">\n",
       "  <thead>\n",
       "    <tr style=\"text-align: right;\">\n",
       "      <th></th>\n",
       "      <th>surge_multiplier</th>\n",
       "      <th>pickup_lat</th>\n",
       "      <th>pickup_long</th>\n",
       "      <th>dropoff_lat</th>\n",
       "      <th>dropoff_long</th>\n",
       "      <th>rub_usd_exchange_rate</th>\n",
       "      <th>price_usd</th>\n",
       "      <th>distance_kms</th>\n",
       "      <th>temperature_value</th>\n",
       "      <th>feels_like</th>\n",
       "      <th>humidity</th>\n",
       "      <th>wind_speed</th>\n",
       "    </tr>\n",
       "  </thead>\n",
       "  <tbody>\n",
       "    <tr>\n",
       "      <th>count</th>\n",
       "      <td>643.000000</td>\n",
       "      <td>678.000000</td>\n",
       "      <td>678.000000</td>\n",
       "      <td>678.000000</td>\n",
       "      <td>678.000000</td>\n",
       "      <td>678.000000</td>\n",
       "      <td>678.000000</td>\n",
       "      <td>678.000000</td>\n",
       "      <td>678.000000</td>\n",
       "      <td>678.000000</td>\n",
       "      <td>678.000000</td>\n",
       "      <td>678.000000</td>\n",
       "    </tr>\n",
       "    <tr>\n",
       "      <th>mean</th>\n",
       "      <td>1.011353</td>\n",
       "      <td>59.756784</td>\n",
       "      <td>31.740062</td>\n",
       "      <td>59.758561</td>\n",
       "      <td>31.739366</td>\n",
       "      <td>60.517463</td>\n",
       "      <td>5.061593</td>\n",
       "      <td>10.057788</td>\n",
       "      <td>5.327434</td>\n",
       "      <td>3.002950</td>\n",
       "      <td>0.778083</td>\n",
       "      <td>3.541519</td>\n",
       "    </tr>\n",
       "    <tr>\n",
       "      <th>std</th>\n",
       "      <td>0.096085</td>\n",
       "      <td>0.800432</td>\n",
       "      <td>6.063872</td>\n",
       "      <td>0.799396</td>\n",
       "      <td>6.062101</td>\n",
       "      <td>4.526606</td>\n",
       "      <td>4.251843</td>\n",
       "      <td>8.735132</td>\n",
       "      <td>9.996551</td>\n",
       "      <td>11.912408</td>\n",
       "      <td>0.164886</td>\n",
       "      <td>1.737701</td>\n",
       "    </tr>\n",
       "    <tr>\n",
       "      <th>min</th>\n",
       "      <td>1.000000</td>\n",
       "      <td>55.605800</td>\n",
       "      <td>30.168447</td>\n",
       "      <td>55.599648</td>\n",
       "      <td>29.947507</td>\n",
       "      <td>49.260000</td>\n",
       "      <td>0.840000</td>\n",
       "      <td>0.010000</td>\n",
       "      <td>-22.000000</td>\n",
       "      <td>-29.000000</td>\n",
       "      <td>0.250000</td>\n",
       "      <td>0.050000</td>\n",
       "    </tr>\n",
       "    <tr>\n",
       "      <th>25%</th>\n",
       "      <td>1.000000</td>\n",
       "      <td>59.932134</td>\n",
       "      <td>30.364931</td>\n",
       "      <td>59.933576</td>\n",
       "      <td>30.366456</td>\n",
       "      <td>57.230000</td>\n",
       "      <td>2.760000</td>\n",
       "      <td>4.912500</td>\n",
       "      <td>-2.000000</td>\n",
       "      <td>-5.750000</td>\n",
       "      <td>0.690000</td>\n",
       "      <td>2.350000</td>\n",
       "    </tr>\n",
       "    <tr>\n",
       "      <th>50%</th>\n",
       "      <td>1.000000</td>\n",
       "      <td>59.941415</td>\n",
       "      <td>30.366456</td>\n",
       "      <td>59.941415</td>\n",
       "      <td>30.368724</td>\n",
       "      <td>59.010000</td>\n",
       "      <td>3.735000</td>\n",
       "      <td>7.290000</td>\n",
       "      <td>3.000000</td>\n",
       "      <td>0.000000</td>\n",
       "      <td>0.820000</td>\n",
       "      <td>3.500000</td>\n",
       "    </tr>\n",
       "    <tr>\n",
       "      <th>75%</th>\n",
       "      <td>1.000000</td>\n",
       "      <td>59.960492</td>\n",
       "      <td>30.420179</td>\n",
       "      <td>59.961987</td>\n",
       "      <td>30.417860</td>\n",
       "      <td>64.637500</td>\n",
       "      <td>5.670000</td>\n",
       "      <td>11.665000</td>\n",
       "      <td>14.000000</td>\n",
       "      <td>14.000000</td>\n",
       "      <td>0.900000</td>\n",
       "      <td>4.660000</td>\n",
       "    </tr>\n",
       "    <tr>\n",
       "      <th>max</th>\n",
       "      <td>2.900000</td>\n",
       "      <td>60.126500</td>\n",
       "      <td>60.809913</td>\n",
       "      <td>60.126957</td>\n",
       "      <td>60.809916</td>\n",
       "      <td>79.360000</td>\n",
       "      <td>33.550000</td>\n",
       "      <td>46.740000</td>\n",
       "      <td>32.000000</td>\n",
       "      <td>32.000000</td>\n",
       "      <td>1.000000</td>\n",
       "      <td>8.670000</td>\n",
       "    </tr>\n",
       "  </tbody>\n",
       "</table>\n",
       "</div>"
      ],
      "text/plain": [
       "       surge_multiplier  pickup_lat  pickup_long  dropoff_lat  dropoff_long  \\\n",
       "count        643.000000  678.000000   678.000000   678.000000    678.000000   \n",
       "mean           1.011353   59.756784    31.740062    59.758561     31.739366   \n",
       "std            0.096085    0.800432     6.063872     0.799396      6.062101   \n",
       "min            1.000000   55.605800    30.168447    55.599648     29.947507   \n",
       "25%            1.000000   59.932134    30.364931    59.933576     30.366456   \n",
       "50%            1.000000   59.941415    30.366456    59.941415     30.368724   \n",
       "75%            1.000000   59.960492    30.420179    59.961987     30.417860   \n",
       "max            2.900000   60.126500    60.809913    60.126957     60.809916   \n",
       "\n",
       "       rub_usd_exchange_rate   price_usd  distance_kms  temperature_value  \\\n",
       "count             678.000000  678.000000    678.000000         678.000000   \n",
       "mean               60.517463    5.061593     10.057788           5.327434   \n",
       "std                 4.526606    4.251843      8.735132           9.996551   \n",
       "min                49.260000    0.840000      0.010000         -22.000000   \n",
       "25%                57.230000    2.760000      4.912500          -2.000000   \n",
       "50%                59.010000    3.735000      7.290000           3.000000   \n",
       "75%                64.637500    5.670000     11.665000          14.000000   \n",
       "max                79.360000   33.550000     46.740000          32.000000   \n",
       "\n",
       "       feels_like    humidity  wind_speed  \n",
       "count  678.000000  678.000000  678.000000  \n",
       "mean     3.002950    0.778083    3.541519  \n",
       "std     11.912408    0.164886    1.737701  \n",
       "min    -29.000000    0.250000    0.050000  \n",
       "25%     -5.750000    0.690000    2.350000  \n",
       "50%      0.000000    0.820000    3.500000  \n",
       "75%     14.000000    0.900000    4.660000  \n",
       "max     32.000000    1.000000    8.670000  "
      ]
     },
     "execution_count": 5,
     "metadata": {},
     "output_type": "execute_result"
    }
   ],
   "source": [
    "df.describe()"
   ]
  },
  {
   "cell_type": "markdown",
   "id": "0343b38d",
   "metadata": {
    "papermill": {
     "duration": 0.064006,
     "end_time": "2022-02-02T12:45:12.652994",
     "exception": false,
     "start_time": "2022-02-02T12:45:12.588988",
     "status": "completed"
    },
    "tags": []
   },
   "source": [
    "4.To find Numerical and Object dtype from our datasets. "
   ]
  },
  {
   "cell_type": "code",
   "execution_count": 6,
   "id": "fff7fe97",
   "metadata": {
    "execution": {
     "iopub.execute_input": "2022-02-02T12:45:12.802494Z",
     "iopub.status.busy": "2022-02-02T12:45:12.791944Z",
     "iopub.status.idle": "2022-02-02T12:45:12.808667Z",
     "shell.execute_reply": "2022-02-02T12:45:12.809184Z",
     "shell.execute_reply.started": "2022-02-02T11:54:21.491950Z"
    },
    "papermill": {
     "duration": 0.095247,
     "end_time": "2022-02-02T12:45:12.809381",
     "exception": false,
     "start_time": "2022-02-02T12:45:12.714134",
     "status": "completed"
    },
    "tags": []
   },
   "outputs": [
    {
     "data": {
      "text/html": [
       "<div>\n",
       "<style scoped>\n",
       "    .dataframe tbody tr th:only-of-type {\n",
       "        vertical-align: middle;\n",
       "    }\n",
       "\n",
       "    .dataframe tbody tr th {\n",
       "        vertical-align: top;\n",
       "    }\n",
       "\n",
       "    .dataframe thead th {\n",
       "        text-align: right;\n",
       "    }\n",
       "</style>\n",
       "<table border=\"1\" class=\"dataframe\">\n",
       "  <thead>\n",
       "    <tr style=\"text-align: right;\">\n",
       "      <th></th>\n",
       "      <th>surge_multiplier</th>\n",
       "      <th>pickup_lat</th>\n",
       "      <th>pickup_long</th>\n",
       "      <th>dropoff_lat</th>\n",
       "      <th>dropoff_long</th>\n",
       "      <th>rub_usd_exchange_rate</th>\n",
       "      <th>price_usd</th>\n",
       "      <th>distance_kms</th>\n",
       "      <th>temperature_value</th>\n",
       "      <th>feels_like</th>\n",
       "      <th>humidity</th>\n",
       "      <th>wind_speed</th>\n",
       "    </tr>\n",
       "  </thead>\n",
       "  <tbody>\n",
       "    <tr>\n",
       "      <th>0</th>\n",
       "      <td>1.0</td>\n",
       "      <td>60.031438</td>\n",
       "      <td>30.329826</td>\n",
       "      <td>59.963131</td>\n",
       "      <td>30.307655</td>\n",
       "      <td>51.28</td>\n",
       "      <td>5.17</td>\n",
       "      <td>9.29</td>\n",
       "      <td>12</td>\n",
       "      <td>12</td>\n",
       "      <td>0.69</td>\n",
       "      <td>4.81</td>\n",
       "    </tr>\n",
       "    <tr>\n",
       "      <th>1</th>\n",
       "      <td>1.0</td>\n",
       "      <td>59.963014</td>\n",
       "      <td>30.307313</td>\n",
       "      <td>60.031351</td>\n",
       "      <td>30.329495</td>\n",
       "      <td>51.28</td>\n",
       "      <td>4.97</td>\n",
       "      <td>9.93</td>\n",
       "      <td>10</td>\n",
       "      <td>10</td>\n",
       "      <td>0.70</td>\n",
       "      <td>6.53</td>\n",
       "    </tr>\n",
       "    <tr>\n",
       "      <th>2</th>\n",
       "      <td>1.0</td>\n",
       "      <td>60.031529</td>\n",
       "      <td>30.329416</td>\n",
       "      <td>59.924281</td>\n",
       "      <td>30.387561</td>\n",
       "      <td>49.50</td>\n",
       "      <td>13.01</td>\n",
       "      <td>18.01</td>\n",
       "      <td>14</td>\n",
       "      <td>14</td>\n",
       "      <td>0.61</td>\n",
       "      <td>5.25</td>\n",
       "    </tr>\n",
       "    <tr>\n",
       "      <th>3</th>\n",
       "      <td>2.9</td>\n",
       "      <td>59.959883</td>\n",
       "      <td>30.311159</td>\n",
       "      <td>59.934680</td>\n",
       "      <td>30.308489</td>\n",
       "      <td>49.53</td>\n",
       "      <td>25.99</td>\n",
       "      <td>5.10</td>\n",
       "      <td>3</td>\n",
       "      <td>3</td>\n",
       "      <td>0.84</td>\n",
       "      <td>0.87</td>\n",
       "    </tr>\n",
       "    <tr>\n",
       "      <th>4</th>\n",
       "      <td>1.4</td>\n",
       "      <td>59.934813</td>\n",
       "      <td>30.308553</td>\n",
       "      <td>60.031470</td>\n",
       "      <td>30.329402</td>\n",
       "      <td>49.53</td>\n",
       "      <td>13.43</td>\n",
       "      <td>21.92</td>\n",
       "      <td>3</td>\n",
       "      <td>1</td>\n",
       "      <td>0.90</td>\n",
       "      <td>1.61</td>\n",
       "    </tr>\n",
       "    <tr>\n",
       "      <th>...</th>\n",
       "      <td>...</td>\n",
       "      <td>...</td>\n",
       "      <td>...</td>\n",
       "      <td>...</td>\n",
       "      <td>...</td>\n",
       "      <td>...</td>\n",
       "      <td>...</td>\n",
       "      <td>...</td>\n",
       "      <td>...</td>\n",
       "      <td>...</td>\n",
       "      <td>...</td>\n",
       "      <td>...</td>\n",
       "    </tr>\n",
       "    <tr>\n",
       "      <th>673</th>\n",
       "      <td>1.0</td>\n",
       "      <td>59.939274</td>\n",
       "      <td>30.416977</td>\n",
       "      <td>59.946200</td>\n",
       "      <td>30.474258</td>\n",
       "      <td>61.82</td>\n",
       "      <td>2.60</td>\n",
       "      <td>5.79</td>\n",
       "      <td>6</td>\n",
       "      <td>4</td>\n",
       "      <td>0.39</td>\n",
       "      <td>2.57</td>\n",
       "    </tr>\n",
       "    <tr>\n",
       "      <th>674</th>\n",
       "      <td>1.0</td>\n",
       "      <td>59.941415</td>\n",
       "      <td>30.366456</td>\n",
       "      <td>60.011173</td>\n",
       "      <td>30.386566</td>\n",
       "      <td>61.54</td>\n",
       "      <td>3.92</td>\n",
       "      <td>11.46</td>\n",
       "      <td>7</td>\n",
       "      <td>3</td>\n",
       "      <td>0.62</td>\n",
       "      <td>5.37</td>\n",
       "    </tr>\n",
       "    <tr>\n",
       "      <th>675</th>\n",
       "      <td>1.0</td>\n",
       "      <td>59.941415</td>\n",
       "      <td>30.366456</td>\n",
       "      <td>59.916832</td>\n",
       "      <td>30.450724</td>\n",
       "      <td>62.68</td>\n",
       "      <td>2.78</td>\n",
       "      <td>6.68</td>\n",
       "      <td>8</td>\n",
       "      <td>6</td>\n",
       "      <td>0.76</td>\n",
       "      <td>4.02</td>\n",
       "    </tr>\n",
       "    <tr>\n",
       "      <th>676</th>\n",
       "      <td>1.0</td>\n",
       "      <td>59.916862</td>\n",
       "      <td>30.451020</td>\n",
       "      <td>59.941415</td>\n",
       "      <td>30.366456</td>\n",
       "      <td>62.68</td>\n",
       "      <td>3.33</td>\n",
       "      <td>7.48</td>\n",
       "      <td>9</td>\n",
       "      <td>7</td>\n",
       "      <td>0.68</td>\n",
       "      <td>4.28</td>\n",
       "    </tr>\n",
       "    <tr>\n",
       "      <th>677</th>\n",
       "      <td>1.0</td>\n",
       "      <td>59.941415</td>\n",
       "      <td>30.366456</td>\n",
       "      <td>59.955692</td>\n",
       "      <td>30.356570</td>\n",
       "      <td>62.13</td>\n",
       "      <td>3.41</td>\n",
       "      <td>9.03</td>\n",
       "      <td>8</td>\n",
       "      <td>7</td>\n",
       "      <td>0.77</td>\n",
       "      <td>1.56</td>\n",
       "    </tr>\n",
       "  </tbody>\n",
       "</table>\n",
       "<p>678 rows × 12 columns</p>\n",
       "</div>"
      ],
      "text/plain": [
       "     surge_multiplier  pickup_lat  pickup_long  dropoff_lat  dropoff_long  \\\n",
       "0                 1.0   60.031438    30.329826    59.963131     30.307655   \n",
       "1                 1.0   59.963014    30.307313    60.031351     30.329495   \n",
       "2                 1.0   60.031529    30.329416    59.924281     30.387561   \n",
       "3                 2.9   59.959883    30.311159    59.934680     30.308489   \n",
       "4                 1.4   59.934813    30.308553    60.031470     30.329402   \n",
       "..                ...         ...          ...          ...           ...   \n",
       "673               1.0   59.939274    30.416977    59.946200     30.474258   \n",
       "674               1.0   59.941415    30.366456    60.011173     30.386566   \n",
       "675               1.0   59.941415    30.366456    59.916832     30.450724   \n",
       "676               1.0   59.916862    30.451020    59.941415     30.366456   \n",
       "677               1.0   59.941415    30.366456    59.955692     30.356570   \n",
       "\n",
       "     rub_usd_exchange_rate  price_usd  distance_kms  temperature_value  \\\n",
       "0                    51.28       5.17          9.29                 12   \n",
       "1                    51.28       4.97          9.93                 10   \n",
       "2                    49.50      13.01         18.01                 14   \n",
       "3                    49.53      25.99          5.10                  3   \n",
       "4                    49.53      13.43         21.92                  3   \n",
       "..                     ...        ...           ...                ...   \n",
       "673                  61.82       2.60          5.79                  6   \n",
       "674                  61.54       3.92         11.46                  7   \n",
       "675                  62.68       2.78          6.68                  8   \n",
       "676                  62.68       3.33          7.48                  9   \n",
       "677                  62.13       3.41          9.03                  8   \n",
       "\n",
       "     feels_like  humidity  wind_speed  \n",
       "0            12      0.69        4.81  \n",
       "1            10      0.70        6.53  \n",
       "2            14      0.61        5.25  \n",
       "3             3      0.84        0.87  \n",
       "4             1      0.90        1.61  \n",
       "..          ...       ...         ...  \n",
       "673           4      0.39        2.57  \n",
       "674           3      0.62        5.37  \n",
       "675           6      0.76        4.02  \n",
       "676           7      0.68        4.28  \n",
       "677           7      0.77        1.56  \n",
       "\n",
       "[678 rows x 12 columns]"
      ]
     },
     "execution_count": 6,
     "metadata": {},
     "output_type": "execute_result"
    }
   ],
   "source": [
    "num_data= df.select_dtypes(include=np.number)\n",
    "num_data"
   ]
  },
  {
   "cell_type": "markdown",
   "id": "5a0cf42a",
   "metadata": {
    "papermill": {
     "duration": 0.062024,
     "end_time": "2022-02-02T12:45:12.934715",
     "exception": false,
     "start_time": "2022-02-02T12:45:12.872691",
     "status": "completed"
    },
    "tags": []
   },
   "source": [
    "Syntax for selecting perticular datatype:-\"DataFrame.select_dtypes(include=None, exclude=None)\"\n",
    "\n",
    "Where, include & exclude:-means \n",
    "        A selection of dtypes or strings to be included/excluded. At least one of these parameters must be supplied."
   ]
  },
  {
   "cell_type": "code",
   "execution_count": 7,
   "id": "3c62dceb",
   "metadata": {
    "execution": {
     "iopub.execute_input": "2022-02-02T12:45:13.066295Z",
     "iopub.status.busy": "2022-02-02T12:45:13.065239Z",
     "iopub.status.idle": "2022-02-02T12:45:13.070756Z",
     "shell.execute_reply": "2022-02-02T12:45:13.071378Z",
     "shell.execute_reply.started": "2022-02-02T11:54:21.518877Z"
    },
    "papermill": {
     "duration": 0.074082,
     "end_time": "2022-02-02T12:45:13.071550",
     "exception": false,
     "start_time": "2022-02-02T12:45:12.997468",
     "status": "completed"
    },
    "tags": []
   },
   "outputs": [
    {
     "data": {
      "text/plain": [
       "12"
      ]
     },
     "execution_count": 7,
     "metadata": {},
     "output_type": "execute_result"
    }
   ],
   "source": [
    "num_data.shape[1]"
   ]
  },
  {
   "cell_type": "markdown",
   "id": "fdff5931",
   "metadata": {
    "papermill": {
     "duration": 0.063207,
     "end_time": "2022-02-02T12:45:13.196408",
     "exception": false,
     "start_time": "2022-02-02T12:45:13.133201",
     "status": "completed"
    },
    "tags": []
   },
   "source": [
    "* >  shape[0],means prints shape of rows.\n",
    "* >  shape[1],means prints shape of columns.\n",
    "* >  we have 12 numerical columns out of 45 columns"
   ]
  },
  {
   "cell_type": "code",
   "execution_count": 8,
   "id": "05fba62f",
   "metadata": {
    "execution": {
     "iopub.execute_input": "2022-02-02T12:45:13.326171Z",
     "iopub.status.busy": "2022-02-02T12:45:13.325145Z",
     "iopub.status.idle": "2022-02-02T12:45:13.332755Z",
     "shell.execute_reply": "2022-02-02T12:45:13.333334Z",
     "shell.execute_reply.started": "2022-02-02T11:54:21.525862Z"
    },
    "papermill": {
     "duration": 0.074664,
     "end_time": "2022-02-02T12:45:13.333508",
     "exception": false,
     "start_time": "2022-02-02T12:45:13.258844",
     "status": "completed"
    },
    "tags": []
   },
   "outputs": [
    {
     "data": {
      "text/plain": [
       "33"
      ]
     },
     "execution_count": 8,
     "metadata": {},
     "output_type": "execute_result"
    }
   ],
   "source": [
    "obj_data= df.select_dtypes(include=object)\n",
    "obj_data.shape[1]"
   ]
  },
  {
   "cell_type": "markdown",
   "id": "67c5f680",
   "metadata": {
    "papermill": {
     "duration": 0.063793,
     "end_time": "2022-02-02T12:45:13.461974",
     "exception": false,
     "start_time": "2022-02-02T12:45:13.398181",
     "status": "completed"
    },
    "tags": []
   },
   "source": [
    "Here we can attach shape predictor to object  data, we can get directly 33 columns out of 45 columns"
   ]
  },
  {
   "cell_type": "markdown",
   "id": "a8ba358e",
   "metadata": {
    "papermill": {
     "duration": 0.064932,
     "end_time": "2022-02-02T12:45:13.589912",
     "exception": false,
     "start_time": "2022-02-02T12:45:13.524980",
     "status": "completed"
    },
    "tags": []
   },
   "source": [
    "# Data Cleaning"
   ]
  },
  {
   "cell_type": "markdown",
   "id": "04741d00",
   "metadata": {
    "papermill": {
     "duration": 0.062249,
     "end_time": "2022-02-02T12:45:13.715467",
     "exception": false,
     "start_time": "2022-02-02T12:45:13.653218",
     "status": "completed"
    },
    "tags": []
   },
   "source": [
    "General Steps we follow in the Data Cleaning process are:-\n",
    "* Step 1: Remove duplicate or irrelevant observations.\n",
    "* Step 2: Fix structural errors.\n",
    "* Step 3: Filter unwanted outliers.\n",
    "* Step 4: Handle missing data.\n",
    "* Step 5: Validate and QA."
   ]
  },
  {
   "cell_type": "code",
   "execution_count": 9,
   "id": "4164a3f5",
   "metadata": {
    "execution": {
     "iopub.execute_input": "2022-02-02T12:45:13.845369Z",
     "iopub.status.busy": "2022-02-02T12:45:13.843976Z",
     "iopub.status.idle": "2022-02-02T12:45:13.851696Z",
     "shell.execute_reply": "2022-02-02T12:45:13.852236Z",
     "shell.execute_reply.started": "2022-02-02T11:54:21.544030Z"
    },
    "papermill": {
     "duration": 0.074113,
     "end_time": "2022-02-02T12:45:13.852428",
     "exception": false,
     "start_time": "2022-02-02T12:45:13.778315",
     "status": "completed"
    },
    "tags": []
   },
   "outputs": [
    {
     "data": {
      "text/plain": [
       "Index(['trip_completed_at', 'trip_status', 'ride_hailing_app', 'trip_uid',\n",
       "       'driver_uid', 'rider_uid', 'customer', 'trip_start_time',\n",
       "       'trip_end_time', 'trip_time', 'total_time', 'wait_time', 'trip_type',\n",
       "       'surge_multiplier', 'vehicle_make_model', 'vehicle_license_plate',\n",
       "       'driver_name_en', 'vehicle_make', 'vehicle_model', 'driver_gender',\n",
       "       'driver_photo_url', 'driver_phone_number', 'pickup_lat', 'pickup_long',\n",
       "       'dropoff_lat', 'dropoff_long', 'trip_map_image_url',\n",
       "       'trip_path_image_url', 'city', 'country', 'trip_start_address',\n",
       "       'trip_end_address', 'rub_usd_exchange_rate', 'price_rub', 'price_usd',\n",
       "       'distance_kms', 'temperature_time', 'temperature_value', 'feels_like',\n",
       "       'humidity', 'wind_speed', 'cloudness', 'weather_main', 'weather_desc',\n",
       "       'precipitation'],\n",
       "      dtype='object')"
      ]
     },
     "execution_count": 9,
     "metadata": {},
     "output_type": "execute_result"
    }
   ],
   "source": [
    "df.columns"
   ]
  },
  {
   "cell_type": "markdown",
   "id": "c2688ec2",
   "metadata": {
    "papermill": {
     "duration": 0.06606,
     "end_time": "2022-02-02T12:45:13.983087",
     "exception": false,
     "start_time": "2022-02-02T12:45:13.917027",
     "status": "completed"
    },
    "tags": []
   },
   "source": [
    "Here we have want to delete unnecessary columns which we won't use for analysis.  "
   ]
  },
  {
   "cell_type": "code",
   "execution_count": 10,
   "id": "dce86c0b",
   "metadata": {
    "execution": {
     "iopub.execute_input": "2022-02-02T12:45:14.116199Z",
     "iopub.status.busy": "2022-02-02T12:45:14.114905Z",
     "iopub.status.idle": "2022-02-02T12:45:14.153048Z",
     "shell.execute_reply": "2022-02-02T12:45:14.153695Z",
     "shell.execute_reply.started": "2022-02-02T11:54:21.550698Z"
    },
    "papermill": {
     "duration": 0.107397,
     "end_time": "2022-02-02T12:45:14.153872",
     "exception": false,
     "start_time": "2022-02-02T12:45:14.046475",
     "status": "completed"
    },
    "tags": []
   },
   "outputs": [
    {
     "data": {
      "text/html": [
       "<div>\n",
       "<style scoped>\n",
       "    .dataframe tbody tr th:only-of-type {\n",
       "        vertical-align: middle;\n",
       "    }\n",
       "\n",
       "    .dataframe tbody tr th {\n",
       "        vertical-align: top;\n",
       "    }\n",
       "\n",
       "    .dataframe thead th {\n",
       "        text-align: right;\n",
       "    }\n",
       "</style>\n",
       "<table border=\"1\" class=\"dataframe\">\n",
       "  <thead>\n",
       "    <tr style=\"text-align: right;\">\n",
       "      <th></th>\n",
       "      <th>trip_status</th>\n",
       "      <th>ride_hailing_app</th>\n",
       "      <th>customer</th>\n",
       "      <th>trip_start_time</th>\n",
       "      <th>trip_end_time</th>\n",
       "      <th>wait_time</th>\n",
       "      <th>driver_name_en</th>\n",
       "      <th>vehicle_make</th>\n",
       "      <th>vehicle_model</th>\n",
       "      <th>driver_gender</th>\n",
       "      <th>...</th>\n",
       "      <th>trip_end_address</th>\n",
       "      <th>price_usd</th>\n",
       "      <th>distance_kms</th>\n",
       "      <th>temperature_value</th>\n",
       "      <th>humidity</th>\n",
       "      <th>wind_speed</th>\n",
       "      <th>cloudness</th>\n",
       "      <th>weather_main</th>\n",
       "      <th>weather_desc</th>\n",
       "      <th>precipitation</th>\n",
       "    </tr>\n",
       "  </thead>\n",
       "  <tbody>\n",
       "    <tr>\n",
       "      <th>0</th>\n",
       "      <td>Completed</td>\n",
       "      <td>Uber</td>\n",
       "      <td>stantyan</td>\n",
       "      <td>2015-05-11 17:26:00</td>\n",
       "      <td>2015-05-11 17:55:00</td>\n",
       "      <td>00:07:27</td>\n",
       "      <td>Maksim</td>\n",
       "      <td>Ford</td>\n",
       "      <td>Focus</td>\n",
       "      <td>Male</td>\n",
       "      <td>...</td>\n",
       "      <td>Bolshoy prospekt PS, 74, Sankt-Peterburg, Russ...</td>\n",
       "      <td>5.17</td>\n",
       "      <td>9.29</td>\n",
       "      <td>12</td>\n",
       "      <td>0.69</td>\n",
       "      <td>4.81</td>\n",
       "      <td>0.78</td>\n",
       "      <td>partly-cloudy-day</td>\n",
       "      <td>Mostly Cloudy</td>\n",
       "      <td>none</td>\n",
       "    </tr>\n",
       "    <tr>\n",
       "      <th>1</th>\n",
       "      <td>Completed</td>\n",
       "      <td>Uber</td>\n",
       "      <td>stantyan</td>\n",
       "      <td>2015-05-11 18:46:00</td>\n",
       "      <td>2015-05-11 19:12:00</td>\n",
       "      <td>00:06:33</td>\n",
       "      <td>Sergey</td>\n",
       "      <td>Hyundai</td>\n",
       "      <td>Solaris</td>\n",
       "      <td>Male</td>\n",
       "      <td>...</td>\n",
       "      <td>ulitsa Esenina, 1 корпус 1, Sankt-Peterburg, R...</td>\n",
       "      <td>4.97</td>\n",
       "      <td>9.93</td>\n",
       "      <td>10</td>\n",
       "      <td>0.70</td>\n",
       "      <td>6.53</td>\n",
       "      <td>0.66</td>\n",
       "      <td>partly-cloudy-day</td>\n",
       "      <td>Mostly Cloudy</td>\n",
       "      <td>none</td>\n",
       "    </tr>\n",
       "    <tr>\n",
       "      <th>2</th>\n",
       "      <td>Completed</td>\n",
       "      <td>Uber</td>\n",
       "      <td>stantyan</td>\n",
       "      <td>2015-05-13 09:15:00</td>\n",
       "      <td>2015-05-13 10:38:00</td>\n",
       "      <td>00:16:07</td>\n",
       "      <td>Oleg</td>\n",
       "      <td>Renault</td>\n",
       "      <td>Fluence</td>\n",
       "      <td>Male</td>\n",
       "      <td>...</td>\n",
       "      <td>ploshchad' Aleksandra Nevskogo, 2, Sankt-Peter...</td>\n",
       "      <td>13.01</td>\n",
       "      <td>18.01</td>\n",
       "      <td>14</td>\n",
       "      <td>0.61</td>\n",
       "      <td>5.25</td>\n",
       "      <td>0.86</td>\n",
       "      <td>partly-cloudy-day</td>\n",
       "      <td>Mostly Cloudy</td>\n",
       "      <td>none</td>\n",
       "    </tr>\n",
       "    <tr>\n",
       "      <th>3</th>\n",
       "      <td>Completed</td>\n",
       "      <td>Uber</td>\n",
       "      <td>stantyan</td>\n",
       "      <td>2015-05-16 00:24:00</td>\n",
       "      <td>2015-05-16 00:44:00</td>\n",
       "      <td>00:06:23</td>\n",
       "      <td>Maksim</td>\n",
       "      <td>Mercedes-Benz</td>\n",
       "      <td>E-Class</td>\n",
       "      <td>Male</td>\n",
       "      <td>...</td>\n",
       "      <td>Voznesenskiy prospekt, 3, Sankt-Peterburg, Rus...</td>\n",
       "      <td>25.99</td>\n",
       "      <td>5.10</td>\n",
       "      <td>3</td>\n",
       "      <td>0.84</td>\n",
       "      <td>0.87</td>\n",
       "      <td>0.56</td>\n",
       "      <td>partly-cloudy-night</td>\n",
       "      <td>Partly Cloudy</td>\n",
       "      <td>none</td>\n",
       "    </tr>\n",
       "    <tr>\n",
       "      <th>4</th>\n",
       "      <td>Completed</td>\n",
       "      <td>Uber</td>\n",
       "      <td>stantyan</td>\n",
       "      <td>2015-05-16 01:29:00</td>\n",
       "      <td>2015-05-16 02:18:00</td>\n",
       "      <td>00:10:06</td>\n",
       "      <td>Eduard</td>\n",
       "      <td>Hyundai</td>\n",
       "      <td>Solaris</td>\n",
       "      <td>Male</td>\n",
       "      <td>...</td>\n",
       "      <td>ulitsa Esenina, 3 корпус 1, Sankt-Peterburg, R...</td>\n",
       "      <td>13.43</td>\n",
       "      <td>21.92</td>\n",
       "      <td>3</td>\n",
       "      <td>0.90</td>\n",
       "      <td>1.61</td>\n",
       "      <td>0.31</td>\n",
       "      <td>partly-cloudy-night</td>\n",
       "      <td>Partly Cloudy</td>\n",
       "      <td>none</td>\n",
       "    </tr>\n",
       "    <tr>\n",
       "      <th>...</th>\n",
       "      <td>...</td>\n",
       "      <td>...</td>\n",
       "      <td>...</td>\n",
       "      <td>...</td>\n",
       "      <td>...</td>\n",
       "      <td>...</td>\n",
       "      <td>...</td>\n",
       "      <td>...</td>\n",
       "      <td>...</td>\n",
       "      <td>...</td>\n",
       "      <td>...</td>\n",
       "      <td>...</td>\n",
       "      <td>...</td>\n",
       "      <td>...</td>\n",
       "      <td>...</td>\n",
       "      <td>...</td>\n",
       "      <td>...</td>\n",
       "      <td>...</td>\n",
       "      <td>...</td>\n",
       "      <td>...</td>\n",
       "      <td>...</td>\n",
       "    </tr>\n",
       "    <tr>\n",
       "      <th>673</th>\n",
       "      <td>Completed</td>\n",
       "      <td>Uber</td>\n",
       "      <td>stantyan</td>\n",
       "      <td>2018-04-23 11:59:00</td>\n",
       "      <td>2018-04-23 12:11:00</td>\n",
       "      <td>00:01:23</td>\n",
       "      <td>Sergey</td>\n",
       "      <td>Hyundai</td>\n",
       "      <td>Solaris</td>\n",
       "      <td>Male</td>\n",
       "      <td>...</td>\n",
       "      <td>Industrial'nyy Prospekt, 24, лит. А, St Peters...</td>\n",
       "      <td>2.60</td>\n",
       "      <td>5.79</td>\n",
       "      <td>6</td>\n",
       "      <td>0.39</td>\n",
       "      <td>2.57</td>\n",
       "      <td>0.18</td>\n",
       "      <td>clear-day</td>\n",
       "      <td>Clear</td>\n",
       "      <td>none</td>\n",
       "    </tr>\n",
       "    <tr>\n",
       "      <th>674</th>\n",
       "      <td>Completed</td>\n",
       "      <td>Uber</td>\n",
       "      <td>stantyan</td>\n",
       "      <td>2018-04-24 14:21:00</td>\n",
       "      <td>2018-04-24 14:58:00</td>\n",
       "      <td>00:13:19</td>\n",
       "      <td>Aleksandr</td>\n",
       "      <td>Dongfeng</td>\n",
       "      <td>H30</td>\n",
       "      <td>Male</td>\n",
       "      <td>...</td>\n",
       "      <td>Gzhatskaya Ulitsa, 22, Sankt-Peterburg, Russia...</td>\n",
       "      <td>3.92</td>\n",
       "      <td>11.46</td>\n",
       "      <td>7</td>\n",
       "      <td>0.62</td>\n",
       "      <td>5.37</td>\n",
       "      <td>0.48</td>\n",
       "      <td>partly-cloudy-day</td>\n",
       "      <td>Partly Cloudy</td>\n",
       "      <td>none</td>\n",
       "    </tr>\n",
       "    <tr>\n",
       "      <th>675</th>\n",
       "      <td>Completed</td>\n",
       "      <td>Uber</td>\n",
       "      <td>stantyan</td>\n",
       "      <td>2018-04-26 15:22:00</td>\n",
       "      <td>2018-04-26 15:57:00</td>\n",
       "      <td>00:18:40</td>\n",
       "      <td>Akmal</td>\n",
       "      <td>Chevrolet</td>\n",
       "      <td>Aveo</td>\n",
       "      <td>Male</td>\n",
       "      <td>...</td>\n",
       "      <td>Ulitsa Dzhona Rida, 2, Sankt-Peterburg, Russia...</td>\n",
       "      <td>2.78</td>\n",
       "      <td>6.68</td>\n",
       "      <td>8</td>\n",
       "      <td>0.76</td>\n",
       "      <td>4.02</td>\n",
       "      <td>0.9</td>\n",
       "      <td>partly-cloudy-day</td>\n",
       "      <td>Mostly Cloudy</td>\n",
       "      <td>none</td>\n",
       "    </tr>\n",
       "    <tr>\n",
       "      <th>676</th>\n",
       "      <td>Completed</td>\n",
       "      <td>Uber</td>\n",
       "      <td>stantyan</td>\n",
       "      <td>2018-04-26 16:37:00</td>\n",
       "      <td>2018-04-26 17:00:00</td>\n",
       "      <td>00:03:41</td>\n",
       "      <td>Evgeniy</td>\n",
       "      <td>Skoda</td>\n",
       "      <td>Rapid</td>\n",
       "      <td>Male</td>\n",
       "      <td>...</td>\n",
       "      <td>Paradnaya Ulitsa, 3, Sankt-Peterburg, Russia, ...</td>\n",
       "      <td>3.33</td>\n",
       "      <td>7.48</td>\n",
       "      <td>9</td>\n",
       "      <td>0.68</td>\n",
       "      <td>4.28</td>\n",
       "      <td>0.79</td>\n",
       "      <td>partly-cloudy-day</td>\n",
       "      <td>Mostly Cloudy</td>\n",
       "      <td>none</td>\n",
       "    </tr>\n",
       "    <tr>\n",
       "      <th>677</th>\n",
       "      <td>Completed</td>\n",
       "      <td>Uber</td>\n",
       "      <td>stantyan</td>\n",
       "      <td>2018-04-27 14:15:00</td>\n",
       "      <td>2018-04-27 15:05:00</td>\n",
       "      <td>00:17:14</td>\n",
       "      <td>Ref</td>\n",
       "      <td>Skoda</td>\n",
       "      <td>Octavia</td>\n",
       "      <td>Male</td>\n",
       "      <td>...</td>\n",
       "      <td>Botkinskaya Ulitsa, 1Б, Sankt-Peterburg, Russi...</td>\n",
       "      <td>3.41</td>\n",
       "      <td>9.03</td>\n",
       "      <td>8</td>\n",
       "      <td>0.77</td>\n",
       "      <td>1.56</td>\n",
       "      <td>0.75</td>\n",
       "      <td>partly-cloudy-day</td>\n",
       "      <td>Mostly Cloudy</td>\n",
       "      <td>none</td>\n",
       "    </tr>\n",
       "  </tbody>\n",
       "</table>\n",
       "<p>678 rows × 23 columns</p>\n",
       "</div>"
      ],
      "text/plain": [
       "    trip_status ride_hailing_app  customer      trip_start_time  \\\n",
       "0     Completed             Uber  stantyan  2015-05-11 17:26:00   \n",
       "1     Completed             Uber  stantyan  2015-05-11 18:46:00   \n",
       "2     Completed             Uber  stantyan  2015-05-13 09:15:00   \n",
       "3     Completed             Uber  stantyan  2015-05-16 00:24:00   \n",
       "4     Completed             Uber  stantyan  2015-05-16 01:29:00   \n",
       "..          ...              ...       ...                  ...   \n",
       "673   Completed             Uber  stantyan  2018-04-23 11:59:00   \n",
       "674   Completed             Uber  stantyan  2018-04-24 14:21:00   \n",
       "675   Completed             Uber  stantyan  2018-04-26 15:22:00   \n",
       "676   Completed             Uber  stantyan  2018-04-26 16:37:00   \n",
       "677   Completed             Uber  stantyan  2018-04-27 14:15:00   \n",
       "\n",
       "           trip_end_time wait_time driver_name_en   vehicle_make  \\\n",
       "0    2015-05-11 17:55:00  00:07:27         Maksim           Ford   \n",
       "1    2015-05-11 19:12:00  00:06:33         Sergey        Hyundai   \n",
       "2    2015-05-13 10:38:00  00:16:07           Oleg        Renault   \n",
       "3    2015-05-16 00:44:00  00:06:23         Maksim  Mercedes-Benz   \n",
       "4    2015-05-16 02:18:00  00:10:06         Eduard        Hyundai   \n",
       "..                   ...       ...            ...            ...   \n",
       "673  2018-04-23 12:11:00  00:01:23         Sergey        Hyundai   \n",
       "674  2018-04-24 14:58:00  00:13:19      Aleksandr       Dongfeng   \n",
       "675  2018-04-26 15:57:00  00:18:40          Akmal      Chevrolet   \n",
       "676  2018-04-26 17:00:00  00:03:41        Evgeniy          Skoda   \n",
       "677  2018-04-27 15:05:00  00:17:14            Ref          Skoda   \n",
       "\n",
       "    vehicle_model driver_gender  ...  \\\n",
       "0           Focus          Male  ...   \n",
       "1         Solaris          Male  ...   \n",
       "2         Fluence          Male  ...   \n",
       "3         E-Class          Male  ...   \n",
       "4         Solaris          Male  ...   \n",
       "..            ...           ...  ...   \n",
       "673       Solaris          Male  ...   \n",
       "674           H30          Male  ...   \n",
       "675          Aveo          Male  ...   \n",
       "676         Rapid          Male  ...   \n",
       "677       Octavia          Male  ...   \n",
       "\n",
       "                                      trip_end_address price_usd distance_kms  \\\n",
       "0    Bolshoy prospekt PS, 74, Sankt-Peterburg, Russ...      5.17         9.29   \n",
       "1    ulitsa Esenina, 1 корпус 1, Sankt-Peterburg, R...      4.97         9.93   \n",
       "2    ploshchad' Aleksandra Nevskogo, 2, Sankt-Peter...     13.01        18.01   \n",
       "3    Voznesenskiy prospekt, 3, Sankt-Peterburg, Rus...     25.99         5.10   \n",
       "4    ulitsa Esenina, 3 корпус 1, Sankt-Peterburg, R...     13.43        21.92   \n",
       "..                                                 ...       ...          ...   \n",
       "673  Industrial'nyy Prospekt, 24, лит. А, St Peters...      2.60         5.79   \n",
       "674  Gzhatskaya Ulitsa, 22, Sankt-Peterburg, Russia...      3.92        11.46   \n",
       "675  Ulitsa Dzhona Rida, 2, Sankt-Peterburg, Russia...      2.78         6.68   \n",
       "676  Paradnaya Ulitsa, 3, Sankt-Peterburg, Russia, ...      3.33         7.48   \n",
       "677  Botkinskaya Ulitsa, 1Б, Sankt-Peterburg, Russi...      3.41         9.03   \n",
       "\n",
       "    temperature_value  humidity  wind_speed  cloudness         weather_main  \\\n",
       "0                  12      0.69        4.81       0.78    partly-cloudy-day   \n",
       "1                  10      0.70        6.53       0.66    partly-cloudy-day   \n",
       "2                  14      0.61        5.25       0.86    partly-cloudy-day   \n",
       "3                   3      0.84        0.87       0.56  partly-cloudy-night   \n",
       "4                   3      0.90        1.61       0.31  partly-cloudy-night   \n",
       "..                ...       ...         ...        ...                  ...   \n",
       "673                 6      0.39        2.57       0.18            clear-day   \n",
       "674                 7      0.62        5.37       0.48    partly-cloudy-day   \n",
       "675                 8      0.76        4.02        0.9    partly-cloudy-day   \n",
       "676                 9      0.68        4.28       0.79    partly-cloudy-day   \n",
       "677                 8      0.77        1.56       0.75    partly-cloudy-day   \n",
       "\n",
       "      weather_desc precipitation  \n",
       "0    Mostly Cloudy          none  \n",
       "1    Mostly Cloudy          none  \n",
       "2    Mostly Cloudy          none  \n",
       "3    Partly Cloudy          none  \n",
       "4    Partly Cloudy          none  \n",
       "..             ...           ...  \n",
       "673          Clear          none  \n",
       "674  Partly Cloudy          none  \n",
       "675  Mostly Cloudy          none  \n",
       "676  Mostly Cloudy          none  \n",
       "677  Mostly Cloudy          none  \n",
       "\n",
       "[678 rows x 23 columns]"
      ]
     },
     "execution_count": 10,
     "metadata": {},
     "output_type": "execute_result"
    }
   ],
   "source": [
    "new_df= df.drop(columns=['trip_uid','driver_uid', 'rider_uid','trip_map_image_url',\n",
    "                                       'trip_path_image_url','feels_like','vehicle_license_plate',\n",
    "                                       'driver_photo_url', 'surge_multiplier','vehicle_make_model',\n",
    "                                       'rub_usd_exchange_rate', 'price_rub','trip_type','vehicle_license_plate',\n",
    "                                      'temperature_time','trip_completed_at','trip_time',\n",
    "                                       'total_time', 'driver_phone_number', 'pickup_lat', 'pickup_long',\n",
    "                                       'dropoff_lat', 'dropoff_long'])\n",
    "new_df"
   ]
  },
  {
   "cell_type": "code",
   "execution_count": 11,
   "id": "74b0f404",
   "metadata": {
    "execution": {
     "iopub.execute_input": "2022-02-02T12:45:14.290321Z",
     "iopub.status.busy": "2022-02-02T12:45:14.289211Z",
     "iopub.status.idle": "2022-02-02T12:45:14.294733Z",
     "shell.execute_reply": "2022-02-02T12:45:14.295342Z",
     "shell.execute_reply.started": "2022-02-02T11:54:21.590564Z"
    },
    "papermill": {
     "duration": 0.075562,
     "end_time": "2022-02-02T12:45:14.295526",
     "exception": false,
     "start_time": "2022-02-02T12:45:14.219964",
     "status": "completed"
    },
    "tags": []
   },
   "outputs": [
    {
     "data": {
      "text/plain": [
       "23"
      ]
     },
     "execution_count": 11,
     "metadata": {},
     "output_type": "execute_result"
    }
   ],
   "source": [
    "new_df.shape[1]"
   ]
  },
  {
   "cell_type": "markdown",
   "id": "e4a45e71",
   "metadata": {
    "papermill": {
     "duration": 0.067549,
     "end_time": "2022-02-02T12:45:14.428329",
     "exception": false,
     "start_time": "2022-02-02T12:45:14.360780",
     "status": "completed"
    },
    "tags": []
   },
   "source": [
    "We can see that total column is reduced from 45 to 23."
   ]
  },
  {
   "cell_type": "markdown",
   "id": "f0b0de1b",
   "metadata": {
    "papermill": {
     "duration": 0.064339,
     "end_time": "2022-02-02T12:45:14.556857",
     "exception": false,
     "start_time": "2022-02-02T12:45:14.492518",
     "status": "completed"
    },
    "tags": []
   },
   "source": [
    "****Convert the trip_start_time from object datatype to datetime datatype by using to_datetime()"
   ]
  },
  {
   "cell_type": "code",
   "execution_count": 12,
   "id": "c38a640b",
   "metadata": {
    "execution": {
     "iopub.execute_input": "2022-02-02T12:45:14.691977Z",
     "iopub.status.busy": "2022-02-02T12:45:14.690926Z",
     "iopub.status.idle": "2022-02-02T12:45:14.700666Z",
     "shell.execute_reply": "2022-02-02T12:45:14.701221Z",
     "shell.execute_reply.started": "2022-02-02T11:54:21.598054Z"
    },
    "papermill": {
     "duration": 0.078825,
     "end_time": "2022-02-02T12:45:14.701429",
     "exception": false,
     "start_time": "2022-02-02T12:45:14.622604",
     "status": "completed"
    },
    "tags": []
   },
   "outputs": [],
   "source": [
    "\n",
    "new_df['trip_start_time']= pd.to_datetime(new_df['trip_start_time'])\n",
    "new_df['trip_end_time']= pd.to_datetime(new_df['trip_end_time'])"
   ]
  },
  {
   "cell_type": "markdown",
   "id": "4e3c3c79",
   "metadata": {
    "papermill": {
     "duration": 0.064442,
     "end_time": "2022-02-02T12:45:14.832351",
     "exception": false,
     "start_time": "2022-02-02T12:45:14.767909",
     "status": "completed"
    },
    "tags": []
   },
   "source": [
    "> Syntax:-Pandas to_datetime() method helps to convert string Date time into Python Date time object.\n",
    "* So our data was converted into datetime dtype"
   ]
  },
  {
   "cell_type": "markdown",
   "id": "e43c3fd9",
   "metadata": {
    "papermill": {
     "duration": 0.06695,
     "end_time": "2022-02-02T12:45:14.963741",
     "exception": false,
     "start_time": "2022-02-02T12:45:14.896791",
     "status": "completed"
    },
    "tags": []
   },
   "source": [
    "****Extract Year, Month_name, day, day_name & hour from 'trip_start_time'"
   ]
  },
  {
   "cell_type": "code",
   "execution_count": 13,
   "id": "526babcd",
   "metadata": {
    "execution": {
     "iopub.execute_input": "2022-02-02T12:45:15.099967Z",
     "iopub.status.busy": "2022-02-02T12:45:15.099253Z",
     "iopub.status.idle": "2022-02-02T12:45:15.110874Z",
     "shell.execute_reply": "2022-02-02T12:45:15.110076Z",
     "shell.execute_reply.started": "2022-02-02T11:54:21.612645Z"
    },
    "papermill": {
     "duration": 0.081271,
     "end_time": "2022-02-02T12:45:15.111071",
     "exception": false,
     "start_time": "2022-02-02T12:45:15.029800",
     "status": "completed"
    },
    "tags": []
   },
   "outputs": [],
   "source": [
    "new_df['year']=new_df['trip_start_time'].dt.year\n",
    "new_df['month']=new_df['trip_start_time'].dt.month_name()\n",
    "new_df['day']=new_df['trip_start_time'].dt.day\n",
    "new_df['day of the week']=new_df['trip_start_time'].dt.day_name()\n",
    "new_df['hour']=new_df['trip_start_time'].dt.hour"
   ]
  },
  {
   "cell_type": "markdown",
   "id": "ad601c3e",
   "metadata": {
    "papermill": {
     "duration": 0.06437,
     "end_time": "2022-02-02T12:45:15.240599",
     "exception": false,
     "start_time": "2022-02-02T12:45:15.176229",
     "status": "completed"
    },
    "tags": []
   },
   "source": [
    "Code Explanation:-\n",
    "* Syntax:- Series.dt.year\n",
    "* Series.dt can be used to access the values of the series as datetime and return several properties. \n",
    "1. Series.dt.year attribute return a numpy array containing year of the datetime in the underlying data of the given series object.\n",
    "2. Series.dt.month_name() attribute return a numpy array containing month name of the datetime in the underlying data of the given series object.\n",
    "3. Series.dt.day attribute return a numpy array containing day(number of days) of the datetime in the underlying data of the given series object. \n",
    "4. Series.dt.day_name attribute return a numpy array containing name of the day of the datetime in the underlying data of the given series object. \n",
    "5. Series.dt.hour attribute return a numpy array containing hour of the datetime in the underlying data of the given series object. "
   ]
  },
  {
   "cell_type": "code",
   "execution_count": 14,
   "id": "8bb08131",
   "metadata": {
    "execution": {
     "iopub.execute_input": "2022-02-02T12:45:15.379597Z",
     "iopub.status.busy": "2022-02-02T12:45:15.378823Z",
     "iopub.status.idle": "2022-02-02T12:45:15.384298Z",
     "shell.execute_reply": "2022-02-02T12:45:15.384888Z",
     "shell.execute_reply.started": "2022-02-02T11:54:21.631992Z"
    },
    "papermill": {
     "duration": 0.075301,
     "end_time": "2022-02-02T12:45:15.385076",
     "exception": false,
     "start_time": "2022-02-02T12:45:15.309775",
     "status": "completed"
    },
    "tags": []
   },
   "outputs": [],
   "source": [
    "# to find the trip duration, we subtract the trip_start_time from the trip_end_time.\n",
    "new_df['trip duration']= new_df['trip_end_time'] - new_df['trip_start_time']"
   ]
  },
  {
   "cell_type": "code",
   "execution_count": 15,
   "id": "803946ea",
   "metadata": {
    "execution": {
     "iopub.execute_input": "2022-02-02T12:45:15.537285Z",
     "iopub.status.busy": "2022-02-02T12:45:15.525297Z",
     "iopub.status.idle": "2022-02-02T12:45:15.539716Z",
     "shell.execute_reply": "2022-02-02T12:45:15.539108Z",
     "shell.execute_reply.started": "2022-02-02T11:54:21.638919Z"
    },
    "papermill": {
     "duration": 0.090664,
     "end_time": "2022-02-02T12:45:15.539875",
     "exception": false,
     "start_time": "2022-02-02T12:45:15.449211",
     "status": "completed"
    },
    "tags": []
   },
   "outputs": [],
   "source": [
    "# convert the trip duration to minutes using the lambda function\n",
    "new_df['Diff Min']=new_df['trip duration'].apply(lambda x:x/np.timedelta64(1, 'm'))"
   ]
  },
  {
   "cell_type": "markdown",
   "id": "e496fc47",
   "metadata": {
    "papermill": {
     "duration": 0.06537,
     "end_time": "2022-02-02T12:45:15.671217",
     "exception": false,
     "start_time": "2022-02-02T12:45:15.605847",
     "status": "completed"
    },
    "tags": []
   },
   "source": [
    "Explanation of above code :-\n",
    "1.  pd.apply():-Pandas.apply helps to segregate data according to the conditions.And allow the users to pass a function(i,e,,x/1 minute) and apply it on every single value(.'. we use lamda to acess all the elements) of the Pandas series.\n",
    "\n",
    "2. lambda:-We can use the apply() function to apply the lambda function to both rows and columns of a dataframe. If the axis argument in the apply() function is 0, then the lambda function gets applied to each column, and if 1, then the function gets applied to each row.\n",
    "* > A lambda function can take any number of arguments, but can only have one expression.\n",
    "* > Syntax:-lambda arguments : expression\n",
    "* > Example:-Add 10 to argument a, and return the result:\n",
    "> x = lambda a : a + 10\n",
    "> print(x(5)) \n",
    "> Ans=15   read for more\"https://www.w3schools.com/python/python_lambda.asp\"\n",
    "\n",
    "3. np.timedelta64:-The weaknesses of Python's datetime format inspired the NumPy team to add a set of native time series data type to NumPy.\n",
    "* The datetime64 dtype encodes dates as 64-bit integers, and thus allows arrays of dates to be represented very compactly.\n",
    "* One detail of the datetime64 and timedelta64 objects is that they are built on a fundamental time unit(i,e,, in sec).\n",
    "* timedelta64(1, 'm'):-The arguments for timedelta64 are a number, to represent the number of units(1), and a date/time unit, such as (D)ay, (M)onth, (Y)ear, (h)ours, (m)inutes, or (s)econds.Therefore it means 1 minutes.\n",
    "\n",
    "4. df.['trip duration'].apply(lambda x:x/np.timedelta64(1, 'm')):- \n",
    "> * where x is nothing but trip duration.Here timedelta is used to convert duration into secounds. \n",
    "> * So in order to convert it to minute we need to divide it by 1_minutes((1, 'm')) is nothing but 60 sec.\n",
    "> * Finally we need to use apply(), in order to apply(). It will used to apply the lambda condition for every trip duration. And assing this column as 'Diff Min'. \n",
    "\n"
   ]
  },
  {
   "cell_type": "code",
   "execution_count": 16,
   "id": "9aff231c",
   "metadata": {
    "execution": {
     "iopub.execute_input": "2022-02-02T12:45:15.808638Z",
     "iopub.status.busy": "2022-02-02T12:45:15.807933Z",
     "iopub.status.idle": "2022-02-02T12:45:15.809838Z",
     "shell.execute_reply": "2022-02-02T12:45:15.810400Z",
     "shell.execute_reply.started": "2022-02-02T11:54:21.655860Z"
    },
    "papermill": {
     "duration": 0.074552,
     "end_time": "2022-02-02T12:45:15.810592",
     "exception": false,
     "start_time": "2022-02-02T12:45:15.736040",
     "status": "completed"
    },
    "tags": []
   },
   "outputs": [],
   "source": [
    "#the formular for speed = distance/time\n",
    "new_df['Speed']= new_df['distance_kms']/ (new_df['Diff Min']/60)               #we divide Diff Min with 60 bcz in order to convert it to sec."
   ]
  },
  {
   "cell_type": "markdown",
   "id": "bd2b02d4",
   "metadata": {
    "papermill": {
     "duration": 0.063776,
     "end_time": "2022-02-02T12:45:15.939151",
     "exception": false,
     "start_time": "2022-02-02T12:45:15.875375",
     "status": "completed"
    },
    "tags": []
   },
   "source": [
    "****To find time of the day i,e,, Morning, afternoon & Evening, we need to initialize time for predicting whether it is morning or afternoon or Evening. "
   ]
  },
  {
   "cell_type": "code",
   "execution_count": 17,
   "id": "c2bbd523",
   "metadata": {
    "execution": {
     "iopub.execute_input": "2022-02-02T12:45:16.073068Z",
     "iopub.status.busy": "2022-02-02T12:45:16.072362Z",
     "iopub.status.idle": "2022-02-02T12:45:16.078641Z",
     "shell.execute_reply": "2022-02-02T12:45:16.079178Z",
     "shell.execute_reply.started": "2022-02-02T11:54:21.666431Z"
    },
    "papermill": {
     "duration": 0.07468,
     "end_time": "2022-02-02T12:45:16.079370",
     "exception": false,
     "start_time": "2022-02-02T12:45:16.004690",
     "status": "completed"
    },
    "tags": []
   },
   "outputs": [],
   "source": [
    "\n",
    "\n",
    "a= pd.to_datetime(['00:00:00']).time           #It is morning b/w 0 to 12.\n",
    "b = pd.to_datetime(['12:00:00']).time          #It is Afternoon b/w 12 to 18.\n",
    "c = pd.to_datetime(['18:00:00']).time          #It is Evening b/w 18 to 0.\n",
    "\n"
   ]
  },
  {
   "cell_type": "code",
   "execution_count": 18,
   "id": "28a04091",
   "metadata": {
    "execution": {
     "iopub.execute_input": "2022-02-02T12:45:16.211866Z",
     "iopub.status.busy": "2022-02-02T12:45:16.211180Z",
     "iopub.status.idle": "2022-02-02T12:45:16.305809Z",
     "shell.execute_reply": "2022-02-02T12:45:16.306341Z",
     "shell.execute_reply.started": "2022-02-02T11:54:21.679354Z"
    },
    "papermill": {
     "duration": 0.162142,
     "end_time": "2022-02-02T12:45:16.306525",
     "exception": false,
     "start_time": "2022-02-02T12:45:16.144383",
     "status": "completed"
    },
    "tags": []
   },
   "outputs": [
    {
     "data": {
      "text/html": [
       "<div>\n",
       "<style scoped>\n",
       "    .dataframe tbody tr th:only-of-type {\n",
       "        vertical-align: middle;\n",
       "    }\n",
       "\n",
       "    .dataframe tbody tr th {\n",
       "        vertical-align: top;\n",
       "    }\n",
       "\n",
       "    .dataframe thead th {\n",
       "        text-align: right;\n",
       "    }\n",
       "</style>\n",
       "<table border=\"1\" class=\"dataframe\">\n",
       "  <thead>\n",
       "    <tr style=\"text-align: right;\">\n",
       "      <th></th>\n",
       "      <th>trip_status</th>\n",
       "      <th>ride_hailing_app</th>\n",
       "      <th>customer</th>\n",
       "      <th>trip_start_time</th>\n",
       "      <th>trip_end_time</th>\n",
       "      <th>wait_time</th>\n",
       "      <th>driver_name_en</th>\n",
       "      <th>vehicle_make</th>\n",
       "      <th>vehicle_model</th>\n",
       "      <th>driver_gender</th>\n",
       "      <th>...</th>\n",
       "      <th>precipitation</th>\n",
       "      <th>year</th>\n",
       "      <th>month</th>\n",
       "      <th>day</th>\n",
       "      <th>day of the week</th>\n",
       "      <th>hour</th>\n",
       "      <th>trip duration</th>\n",
       "      <th>Diff Min</th>\n",
       "      <th>Speed</th>\n",
       "      <th>Morning_Noon_Evening</th>\n",
       "    </tr>\n",
       "  </thead>\n",
       "  <tbody>\n",
       "    <tr>\n",
       "      <th>0</th>\n",
       "      <td>Completed</td>\n",
       "      <td>Uber</td>\n",
       "      <td>stantyan</td>\n",
       "      <td>2015-05-11 17:26:00</td>\n",
       "      <td>2015-05-11 17:55:00</td>\n",
       "      <td>00:07:27</td>\n",
       "      <td>Maksim</td>\n",
       "      <td>Ford</td>\n",
       "      <td>Focus</td>\n",
       "      <td>Male</td>\n",
       "      <td>...</td>\n",
       "      <td>none</td>\n",
       "      <td>2015</td>\n",
       "      <td>May</td>\n",
       "      <td>11</td>\n",
       "      <td>Monday</td>\n",
       "      <td>17</td>\n",
       "      <td>0 days 00:29:00</td>\n",
       "      <td>29.0</td>\n",
       "      <td>19.220690</td>\n",
       "      <td>Noon</td>\n",
       "    </tr>\n",
       "    <tr>\n",
       "      <th>1</th>\n",
       "      <td>Completed</td>\n",
       "      <td>Uber</td>\n",
       "      <td>stantyan</td>\n",
       "      <td>2015-05-11 18:46:00</td>\n",
       "      <td>2015-05-11 19:12:00</td>\n",
       "      <td>00:06:33</td>\n",
       "      <td>Sergey</td>\n",
       "      <td>Hyundai</td>\n",
       "      <td>Solaris</td>\n",
       "      <td>Male</td>\n",
       "      <td>...</td>\n",
       "      <td>none</td>\n",
       "      <td>2015</td>\n",
       "      <td>May</td>\n",
       "      <td>11</td>\n",
       "      <td>Monday</td>\n",
       "      <td>18</td>\n",
       "      <td>0 days 00:26:00</td>\n",
       "      <td>26.0</td>\n",
       "      <td>22.915385</td>\n",
       "      <td>Evening</td>\n",
       "    </tr>\n",
       "    <tr>\n",
       "      <th>2</th>\n",
       "      <td>Completed</td>\n",
       "      <td>Uber</td>\n",
       "      <td>stantyan</td>\n",
       "      <td>2015-05-13 09:15:00</td>\n",
       "      <td>2015-05-13 10:38:00</td>\n",
       "      <td>00:16:07</td>\n",
       "      <td>Oleg</td>\n",
       "      <td>Renault</td>\n",
       "      <td>Fluence</td>\n",
       "      <td>Male</td>\n",
       "      <td>...</td>\n",
       "      <td>none</td>\n",
       "      <td>2015</td>\n",
       "      <td>May</td>\n",
       "      <td>13</td>\n",
       "      <td>Wednesday</td>\n",
       "      <td>9</td>\n",
       "      <td>0 days 01:23:00</td>\n",
       "      <td>83.0</td>\n",
       "      <td>13.019277</td>\n",
       "      <td>Morning</td>\n",
       "    </tr>\n",
       "    <tr>\n",
       "      <th>3</th>\n",
       "      <td>Completed</td>\n",
       "      <td>Uber</td>\n",
       "      <td>stantyan</td>\n",
       "      <td>2015-05-16 00:24:00</td>\n",
       "      <td>2015-05-16 00:44:00</td>\n",
       "      <td>00:06:23</td>\n",
       "      <td>Maksim</td>\n",
       "      <td>Mercedes-Benz</td>\n",
       "      <td>E-Class</td>\n",
       "      <td>Male</td>\n",
       "      <td>...</td>\n",
       "      <td>none</td>\n",
       "      <td>2015</td>\n",
       "      <td>May</td>\n",
       "      <td>16</td>\n",
       "      <td>Saturday</td>\n",
       "      <td>0</td>\n",
       "      <td>0 days 00:20:00</td>\n",
       "      <td>20.0</td>\n",
       "      <td>15.300000</td>\n",
       "      <td>Morning</td>\n",
       "    </tr>\n",
       "    <tr>\n",
       "      <th>4</th>\n",
       "      <td>Completed</td>\n",
       "      <td>Uber</td>\n",
       "      <td>stantyan</td>\n",
       "      <td>2015-05-16 01:29:00</td>\n",
       "      <td>2015-05-16 02:18:00</td>\n",
       "      <td>00:10:06</td>\n",
       "      <td>Eduard</td>\n",
       "      <td>Hyundai</td>\n",
       "      <td>Solaris</td>\n",
       "      <td>Male</td>\n",
       "      <td>...</td>\n",
       "      <td>none</td>\n",
       "      <td>2015</td>\n",
       "      <td>May</td>\n",
       "      <td>16</td>\n",
       "      <td>Saturday</td>\n",
       "      <td>1</td>\n",
       "      <td>0 days 00:49:00</td>\n",
       "      <td>49.0</td>\n",
       "      <td>26.840816</td>\n",
       "      <td>Morning</td>\n",
       "    </tr>\n",
       "    <tr>\n",
       "      <th>...</th>\n",
       "      <td>...</td>\n",
       "      <td>...</td>\n",
       "      <td>...</td>\n",
       "      <td>...</td>\n",
       "      <td>...</td>\n",
       "      <td>...</td>\n",
       "      <td>...</td>\n",
       "      <td>...</td>\n",
       "      <td>...</td>\n",
       "      <td>...</td>\n",
       "      <td>...</td>\n",
       "      <td>...</td>\n",
       "      <td>...</td>\n",
       "      <td>...</td>\n",
       "      <td>...</td>\n",
       "      <td>...</td>\n",
       "      <td>...</td>\n",
       "      <td>...</td>\n",
       "      <td>...</td>\n",
       "      <td>...</td>\n",
       "      <td>...</td>\n",
       "    </tr>\n",
       "    <tr>\n",
       "      <th>673</th>\n",
       "      <td>Completed</td>\n",
       "      <td>Uber</td>\n",
       "      <td>stantyan</td>\n",
       "      <td>2018-04-23 11:59:00</td>\n",
       "      <td>2018-04-23 12:11:00</td>\n",
       "      <td>00:01:23</td>\n",
       "      <td>Sergey</td>\n",
       "      <td>Hyundai</td>\n",
       "      <td>Solaris</td>\n",
       "      <td>Male</td>\n",
       "      <td>...</td>\n",
       "      <td>none</td>\n",
       "      <td>2018</td>\n",
       "      <td>April</td>\n",
       "      <td>23</td>\n",
       "      <td>Monday</td>\n",
       "      <td>11</td>\n",
       "      <td>0 days 00:12:00</td>\n",
       "      <td>12.0</td>\n",
       "      <td>28.950000</td>\n",
       "      <td>Morning</td>\n",
       "    </tr>\n",
       "    <tr>\n",
       "      <th>674</th>\n",
       "      <td>Completed</td>\n",
       "      <td>Uber</td>\n",
       "      <td>stantyan</td>\n",
       "      <td>2018-04-24 14:21:00</td>\n",
       "      <td>2018-04-24 14:58:00</td>\n",
       "      <td>00:13:19</td>\n",
       "      <td>Aleksandr</td>\n",
       "      <td>Dongfeng</td>\n",
       "      <td>H30</td>\n",
       "      <td>Male</td>\n",
       "      <td>...</td>\n",
       "      <td>none</td>\n",
       "      <td>2018</td>\n",
       "      <td>April</td>\n",
       "      <td>24</td>\n",
       "      <td>Tuesday</td>\n",
       "      <td>14</td>\n",
       "      <td>0 days 00:37:00</td>\n",
       "      <td>37.0</td>\n",
       "      <td>18.583784</td>\n",
       "      <td>Noon</td>\n",
       "    </tr>\n",
       "    <tr>\n",
       "      <th>675</th>\n",
       "      <td>Completed</td>\n",
       "      <td>Uber</td>\n",
       "      <td>stantyan</td>\n",
       "      <td>2018-04-26 15:22:00</td>\n",
       "      <td>2018-04-26 15:57:00</td>\n",
       "      <td>00:18:40</td>\n",
       "      <td>Akmal</td>\n",
       "      <td>Chevrolet</td>\n",
       "      <td>Aveo</td>\n",
       "      <td>Male</td>\n",
       "      <td>...</td>\n",
       "      <td>none</td>\n",
       "      <td>2018</td>\n",
       "      <td>April</td>\n",
       "      <td>26</td>\n",
       "      <td>Thursday</td>\n",
       "      <td>15</td>\n",
       "      <td>0 days 00:35:00</td>\n",
       "      <td>35.0</td>\n",
       "      <td>11.451429</td>\n",
       "      <td>Noon</td>\n",
       "    </tr>\n",
       "    <tr>\n",
       "      <th>676</th>\n",
       "      <td>Completed</td>\n",
       "      <td>Uber</td>\n",
       "      <td>stantyan</td>\n",
       "      <td>2018-04-26 16:37:00</td>\n",
       "      <td>2018-04-26 17:00:00</td>\n",
       "      <td>00:03:41</td>\n",
       "      <td>Evgeniy</td>\n",
       "      <td>Skoda</td>\n",
       "      <td>Rapid</td>\n",
       "      <td>Male</td>\n",
       "      <td>...</td>\n",
       "      <td>none</td>\n",
       "      <td>2018</td>\n",
       "      <td>April</td>\n",
       "      <td>26</td>\n",
       "      <td>Thursday</td>\n",
       "      <td>16</td>\n",
       "      <td>0 days 00:23:00</td>\n",
       "      <td>23.0</td>\n",
       "      <td>19.513043</td>\n",
       "      <td>Noon</td>\n",
       "    </tr>\n",
       "    <tr>\n",
       "      <th>677</th>\n",
       "      <td>Completed</td>\n",
       "      <td>Uber</td>\n",
       "      <td>stantyan</td>\n",
       "      <td>2018-04-27 14:15:00</td>\n",
       "      <td>2018-04-27 15:05:00</td>\n",
       "      <td>00:17:14</td>\n",
       "      <td>Ref</td>\n",
       "      <td>Skoda</td>\n",
       "      <td>Octavia</td>\n",
       "      <td>Male</td>\n",
       "      <td>...</td>\n",
       "      <td>none</td>\n",
       "      <td>2018</td>\n",
       "      <td>April</td>\n",
       "      <td>27</td>\n",
       "      <td>Friday</td>\n",
       "      <td>14</td>\n",
       "      <td>0 days 00:50:00</td>\n",
       "      <td>50.0</td>\n",
       "      <td>10.836000</td>\n",
       "      <td>Noon</td>\n",
       "    </tr>\n",
       "  </tbody>\n",
       "</table>\n",
       "<p>678 rows × 32 columns</p>\n",
       "</div>"
      ],
      "text/plain": [
       "    trip_status ride_hailing_app  customer     trip_start_time  \\\n",
       "0     Completed             Uber  stantyan 2015-05-11 17:26:00   \n",
       "1     Completed             Uber  stantyan 2015-05-11 18:46:00   \n",
       "2     Completed             Uber  stantyan 2015-05-13 09:15:00   \n",
       "3     Completed             Uber  stantyan 2015-05-16 00:24:00   \n",
       "4     Completed             Uber  stantyan 2015-05-16 01:29:00   \n",
       "..          ...              ...       ...                 ...   \n",
       "673   Completed             Uber  stantyan 2018-04-23 11:59:00   \n",
       "674   Completed             Uber  stantyan 2018-04-24 14:21:00   \n",
       "675   Completed             Uber  stantyan 2018-04-26 15:22:00   \n",
       "676   Completed             Uber  stantyan 2018-04-26 16:37:00   \n",
       "677   Completed             Uber  stantyan 2018-04-27 14:15:00   \n",
       "\n",
       "          trip_end_time wait_time driver_name_en   vehicle_make vehicle_model  \\\n",
       "0   2015-05-11 17:55:00  00:07:27         Maksim           Ford         Focus   \n",
       "1   2015-05-11 19:12:00  00:06:33         Sergey        Hyundai       Solaris   \n",
       "2   2015-05-13 10:38:00  00:16:07           Oleg        Renault       Fluence   \n",
       "3   2015-05-16 00:44:00  00:06:23         Maksim  Mercedes-Benz       E-Class   \n",
       "4   2015-05-16 02:18:00  00:10:06         Eduard        Hyundai       Solaris   \n",
       "..                  ...       ...            ...            ...           ...   \n",
       "673 2018-04-23 12:11:00  00:01:23         Sergey        Hyundai       Solaris   \n",
       "674 2018-04-24 14:58:00  00:13:19      Aleksandr       Dongfeng           H30   \n",
       "675 2018-04-26 15:57:00  00:18:40          Akmal      Chevrolet          Aveo   \n",
       "676 2018-04-26 17:00:00  00:03:41        Evgeniy          Skoda         Rapid   \n",
       "677 2018-04-27 15:05:00  00:17:14            Ref          Skoda       Octavia   \n",
       "\n",
       "    driver_gender  ... precipitation  year  month day  day of the week  hour  \\\n",
       "0            Male  ...          none  2015    May  11           Monday    17   \n",
       "1            Male  ...          none  2015    May  11           Monday    18   \n",
       "2            Male  ...          none  2015    May  13        Wednesday     9   \n",
       "3            Male  ...          none  2015    May  16         Saturday     0   \n",
       "4            Male  ...          none  2015    May  16         Saturday     1   \n",
       "..            ...  ...           ...   ...    ...  ..              ...   ...   \n",
       "673          Male  ...          none  2018  April  23           Monday    11   \n",
       "674          Male  ...          none  2018  April  24          Tuesday    14   \n",
       "675          Male  ...          none  2018  April  26         Thursday    15   \n",
       "676          Male  ...          none  2018  April  26         Thursday    16   \n",
       "677          Male  ...          none  2018  April  27           Friday    14   \n",
       "\n",
       "      trip duration  Diff Min      Speed Morning_Noon_Evening  \n",
       "0   0 days 00:29:00      29.0  19.220690                 Noon  \n",
       "1   0 days 00:26:00      26.0  22.915385              Evening  \n",
       "2   0 days 01:23:00      83.0  13.019277              Morning  \n",
       "3   0 days 00:20:00      20.0  15.300000              Morning  \n",
       "4   0 days 00:49:00      49.0  26.840816              Morning  \n",
       "..              ...       ...        ...                  ...  \n",
       "673 0 days 00:12:00      12.0  28.950000              Morning  \n",
       "674 0 days 00:37:00      37.0  18.583784                 Noon  \n",
       "675 0 days 00:35:00      35.0  11.451429                 Noon  \n",
       "676 0 days 00:23:00      23.0  19.513043                 Noon  \n",
       "677 0 days 00:50:00      50.0  10.836000                 Noon  \n",
       "\n",
       "[678 rows x 32 columns]"
      ]
     },
     "execution_count": 18,
     "metadata": {},
     "output_type": "execute_result"
    }
   ],
   "source": [
    "#We need to crete function to define Morning, afternoon & Evening\n",
    "def morning_noon_evening(x):\n",
    "    # This conditional loop shows that if the start time is between 1  and 12 indicate morning\n",
    "    # and if  the start time is between 12 and 6 indicate noon\n",
    "    # else every other should be evening\n",
    "    if x['trip_start_time'].time() >= a and x['trip_start_time'].time() <b:   #This method returns a float value which represents the time in seconds since the epoch.   \n",
    "        return 'Morning'\n",
    "    elif x['trip_start_time'].time() >= b and x['trip_start_time'].time()  <c:\n",
    "        return 'Noon'\n",
    "    else:\n",
    "        return 'Evening'\n",
    " # use the apply function to create another column   \n",
    "new_df['Morning_Noon_Evening']=new_df.apply(morning_noon_evening, axis=1)  #axis=1 or ‘columns’: apply function to each row.\n",
    "                                                                           #axis=0 or ‘index’: apply function to each column.\n",
    "new_df    "
   ]
  },
  {
   "cell_type": "markdown",
   "id": "416aff7b",
   "metadata": {
    "papermill": {
     "duration": 0.065805,
     "end_time": "2022-02-02T12:45:16.440202",
     "exception": false,
     "start_time": "2022-02-02T12:45:16.374397",
     "status": "completed"
    },
    "tags": []
   },
   "source": [
    "# Data Visualization"
   ]
  },
  {
   "cell_type": "code",
   "execution_count": 19,
   "id": "0806cbe7",
   "metadata": {
    "execution": {
     "iopub.execute_input": "2022-02-02T12:45:16.580476Z",
     "iopub.status.busy": "2022-02-02T12:45:16.579753Z",
     "iopub.status.idle": "2022-02-02T12:45:19.038951Z",
     "shell.execute_reply": "2022-02-02T12:45:19.038309Z",
     "shell.execute_reply.started": "2022-02-02T11:54:21.754169Z"
    },
    "papermill": {
     "duration": 2.530969,
     "end_time": "2022-02-02T12:45:19.039098",
     "exception": false,
     "start_time": "2022-02-02T12:45:16.508129",
     "status": "completed"
    },
    "tags": []
   },
   "outputs": [],
   "source": [
    "import matplotlib.pyplot as plt\n",
    "import plotly.express as px       #Plotly Express is a high-level API for creating figures.\n",
    "import seaborn as sns\n",
    "import matplotlib"
   ]
  },
  {
   "cell_type": "markdown",
   "id": "97fdd554",
   "metadata": {
    "papermill": {
     "duration": 0.065326,
     "end_time": "2022-02-02T12:45:19.171159",
     "exception": false,
     "start_time": "2022-02-02T12:45:19.105833",
     "status": "completed"
    },
    "tags": []
   },
   "source": [
    "# Trip Status, Ride Hailing App, Driver Gender And Precipitation analysis"
   ]
  },
  {
   "cell_type": "markdown",
   "id": "1f727946",
   "metadata": {
    "papermill": {
     "duration": 0.066864,
     "end_time": "2022-02-02T12:45:19.304634",
     "exception": false,
     "start_time": "2022-02-02T12:45:19.237770",
     "status": "completed"
    },
    "tags": []
   },
   "source": [
    "1. Trip Status include Completed and Cancelled trip by drivers.\n",
    "2. Riding Hailing App means which app is used for \"Hail\". Here \"Hail\" means Ride hailing is when a person uses an app to “hail” or request a local driver to pick them up and take them directly to a specific location.\n",
    "3. Precipitation is nothing but is it Rainy outside or not."
   ]
  },
  {
   "cell_type": "markdown",
   "id": "d4f40375",
   "metadata": {
    "papermill": {
     "duration": 0.067709,
     "end_time": "2022-02-02T12:45:19.442193",
     "exception": false,
     "start_time": "2022-02-02T12:45:19.374484",
     "status": "completed"
    },
    "tags": []
   },
   "source": [
    "All plots syntax:-\n",
    "> 1. Syntax for countplot:-seaborn.countplot( x=None, y=None, hue=None, data=None, order=None, hue_order=None, orient=None, color=None, palette=None, saturation=0.75, dodge=True, ax=None, **kwargs)\n",
    "> > When we use countplot in subplot we must include \"ax\" in countplot syntax.i,e,,if we need to plot 1st plot we include \"ax=[0,0]\",\n",
    "> > instead of ax=[1,1] we use ax=[0,0],bcz axis index is start from 0 & 1(0->Rows & 1->columns)\n",
    "> > ax=[1,1] means plot at 2nd row & 2nd column, instead of using ax=[2,2].\n",
    "\n",
    "> 2. Syntax for subplot:-subplot(m,n,p):- divides the current figure into an m-by-n(m rows & n columns) grid and creates axes in the position specified by p. "
   ]
  },
  {
   "cell_type": "code",
   "execution_count": 20,
   "id": "69154264",
   "metadata": {
    "execution": {
     "iopub.execute_input": "2022-02-02T12:45:19.588524Z",
     "iopub.status.busy": "2022-02-02T12:45:19.585993Z",
     "iopub.status.idle": "2022-02-02T12:45:20.329320Z",
     "shell.execute_reply": "2022-02-02T12:45:20.328656Z",
     "shell.execute_reply.started": "2022-02-02T11:54:21.760725Z"
    },
    "papermill": {
     "duration": 0.821393,
     "end_time": "2022-02-02T12:45:20.329495",
     "exception": false,
     "start_time": "2022-02-02T12:45:19.508102",
     "status": "completed"
    },
    "tags": []
   },
   "outputs": [
    {
     "data": {
      "image/png": "[encoded data removed]",
      "text/plain": [
       "<Figure size 720x720 with 4 Axes>"
      ]
     },
     "metadata": {
      "needs_background": "light"
     },
     "output_type": "display_data"
    }
   ],
   "source": [
    "# create a subplots to plot the plot the above variables.\n",
    "#Syntax for assigning subplot with proper orientation is \"fig, ax = plt.subplots()\"\"\n",
    "fig,axes= plt.subplots(2,2, figsize=(10,10))    #figsize is predefined 10x10\n",
    "# plot for trip status\n",
    "axes[0,0].set_title('Trip status')          #We can use other charecterstics like color, palette ,,ect for better visualization \n",
    "sns.countplot(data=new_df,\n",
    "              x='trip_status', \n",
    "              ax=axes[0,0])\n",
    "\n",
    "#plot for riding hailing app\n",
    "axes[0,1].set_title('Ride Hailing app')\n",
    "sns.countplot(data=new_df, x='ride_hailing_app',\n",
    "             ax=axes[0,1])\n",
    "\n",
    "#plot for Driver Gender\n",
    "axes[1,0].set_title('Driver Gender')\n",
    "sns.countplot (data=new_df, x='driver_gender',\n",
    "              ax=axes[1,0])\n",
    "\n",
    "# plot for Precipitation\n",
    "axes[1,1].set_title('Precipitation')\n",
    "sns.countplot(data=new_df, x='precipitation',\n",
    "             ax=axes[1,1])\n",
    "\n",
    "plt.tight_layout(pad=3)\n",
    "\n",
    "#It is compulsorily use tight_layout(),while in the case using subplot().\n",
    "#tight-layout to fit plots within your figure cleanly.\n",
    "#tight_layout automatically adjusts subplot params so that the subplot(s) fits in to the figure area. \n",
    "#It only checks the extents of ticklabels, axis labels, and titles.\n",
    "#pad=3: This parameter is used for padding between the figure edge and the edges of subplots, as a fraction of the font size.It makes padding of unit 3 around the figure."
   ]
  },
  {
   "cell_type": "markdown",
   "id": "024e0420",
   "metadata": {
    "papermill": {
     "duration": 0.068019,
     "end_time": "2022-02-02T12:45:20.465792",
     "exception": false,
     "start_time": "2022-02-02T12:45:20.397773",
     "status": "completed"
    },
    "tags": []
   },
   "source": [
    "Conclusion:-\n",
    "From the above graphs we can conclude that:-\n",
    "* > plot Trip Status shows that most of his trips were completed.\n",
    "* > plot ride hailing app shows that he made use of uber hailing app for most of his trips as against Gelt.\n",
    "* > plot Driver Gender ahows, he had male drivers for most of his trips.\n",
    "* > From plot pricipitation we can see that there was \"no precipitation\" during most of his trips."
   ]
  },
  {
   "cell_type": "markdown",
   "id": "afc9478b",
   "metadata": {
    "papermill": {
     "duration": 0.088742,
     "end_time": "2022-02-02T12:45:20.623563",
     "exception": false,
     "start_time": "2022-02-02T12:45:20.534821",
     "status": "completed"
    },
    "tags": []
   },
   "source": [
    "# Price_usd, Distance_kms, Temperature_value, Humidity, Wind_speed Analysis"
   ]
  },
  {
   "cell_type": "code",
   "execution_count": 21,
   "id": "25134fb8",
   "metadata": {
    "execution": {
     "iopub.execute_input": "2022-02-02T12:45:20.789993Z",
     "iopub.status.busy": "2022-02-02T12:45:20.787519Z",
     "iopub.status.idle": "2022-02-02T12:45:20.792553Z",
     "shell.execute_reply": "2022-02-02T12:45:20.793338Z",
     "shell.execute_reply.started": "2022-02-02T11:54:22.301660Z"
    },
    "papermill": {
     "duration": 0.085085,
     "end_time": "2022-02-02T12:45:20.793537",
     "exception": false,
     "start_time": "2022-02-02T12:45:20.708452",
     "status": "completed"
    },
    "tags": []
   },
   "outputs": [],
   "source": [
    "#Extracting Price_usd, Distance_kms, Temperature_value, Humidity, Wind_speed columns\n",
    "columns=['price_usd','distance_kms', 'temperature_value','humidity', 'wind_speed']"
   ]
  },
  {
   "cell_type": "markdown",
   "id": "46c46bef",
   "metadata": {
    "papermill": {
     "duration": 0.073488,
     "end_time": "2022-02-02T12:45:20.942973",
     "exception": false,
     "start_time": "2022-02-02T12:45:20.869485",
     "status": "completed"
    },
    "tags": []
   },
   "source": [
    "Code Explanation of below:-\n",
    "* By using for loop we can also indirectly make subplots.\n",
    "* In this case we need to do univariate_Analysis by using Histogram plot for columns[].\n",
    "> * Syntax for Histogram in plotly:-fig = px.histogram(data_frame, x=column, nbins, title, lables={'row':'column'}) for more info please read:-\"https://plotly.com/python/histograms/\"\n",
    "> * Marginal=box:- is a distribution plots are \"small subplots above or to the right of a main plot\", which show the \"distribution of data along only one dimension\". Marginal distribution plot capabilities are built into various Plotly Express functions such as \"scatter and histogram\"(We can use this for only scatter & histogram) .  "
   ]
  },
  {
   "cell_type": "code",
   "execution_count": 22,
   "id": "9e05d1e7",
   "metadata": {
    "execution": {
     "iopub.execute_input": "2022-02-02T12:45:21.104766Z",
     "iopub.status.busy": "2022-02-02T12:45:21.103811Z",
     "iopub.status.idle": "2022-02-02T12:45:23.025201Z",
     "shell.execute_reply": "2022-02-02T12:45:23.024577Z",
     "shell.execute_reply.started": "2022-02-02T11:54:22.308146Z"
    },
    "papermill": {
     "duration": 2.009299,
     "end_time": "2022-02-02T12:45:23.025387",
     "exception": false,
     "start_time": "2022-02-02T12:45:21.016088",
     "status": "completed"
    },
    "tags": []
   },
   "outputs": [
    {
     "data": {
      "text/html": [
       "        <script type=\"text/javascript\">\n",
       "        window.PlotlyConfig = {MathJaxConfig: 'local'};\n",
       "        if (window.MathJax) {MathJax.Hub.Config({SVG: {font: \"STIX-Web\"}});}\n",
       "        if (typeof require !== 'undefined') {\n",
       "        require.undef(\"plotly\");\n",
       "        requirejs.config({\n",
       "            paths: {\n",
       "                'plotly': ['https://cdn.plot.ly/plotly-2.8.3.min']\n",
       "            }\n",
       "        });\n",
       "        require(['plotly'], function(Plotly) {\n",
       "            window._Plotly = Plotly;\n",
       "        });\n",
       "        }\n",
       "        </script>\n",
       "        "
      ]
     },
     "metadata": {},
     "output_type": "display_data"
    },
    {
     "data": {
      "text/html": [
       "<div>                            <div id=\"741694b8-f655-44a4-bbf2-4e3fabd26c02\" class=\"plotly-graph-div\" style=\"height:525px; width:100%;\"></div>            <script type=\"text/javascript\">                require([\"plotly\"], function(Plotly) {                    window.PLOTLYENV=window.PLOTLYENV || {};                                    if (document.getElementById(\"741694b8-f655-44a4-bbf2-4e3fabd26c02\")) {                    Plotly.newPlot(                        \"741694b8-f655-44a4-bbf2-4e3fabd26c02\",                        [{\"alignmentgroup\":\"True\",\"bingroup\":\"x\",\"hovertemplate\":\"price_usd=%{x}<br>count=%{y}<extra></extra>\",\"legendgroup\":\"\",\"marker\":{\"color\":\"#636efa\",\"pattern\":{\"shape\":\"\"}},\"name\":\"\",\"offsetgroup\":\"\",\"orientation\":\"v\",\"showlegend\":false,\"x\":[5.17,4.97,13.01,25.99,13.43,4.06,9.4,8.7,3.27,7.06,4.27,7.66,7.48,4.2,1.62,2.21,1.72,2.03,7.11,3.33,5.65,3.26,10.39,18.13,18.13,18.13,6.4,11.22,8.9,27.29,7.6,10.31,1.8,8.5,3.15,7.6,3.65,2.59,9.73,6.03,2.74,18.64,5.11,5.44,2.81,33.55,32.31,10.46,10.84,9.1,1.44,3.54,2.35,5.91,5.91,2.11,2.18,2.55,2.66,2.63,2.46,3.55,3.83,5.9,5.9,14.74,3.59,1.99,2.56,5.7,5.19,2.72,6.26,1.48,1.36,4.66,1.62,3.0,4.53,7.84,3.95,3.0,15.26,1.68,8.01,2.05,2.92,3.59,3.91,4.49,2.5,2.58,1.61,2.32,1.58,5.39,4.79,3.25,3.65,1.72,4.41,3.01,6.1,1.23,7.37,5.48,15.43,16.0,16.0,16.18,4.74,5.04,2.17,3.36,2.5,2.26,5.61,10.17,5.2,5.01,2.11,21.23,1.4,5.54,2.67,1.99,2.19,13.72,2.88,1.49,1.39,4.58,4.7,1.25,4.59,4.93,2.16,3.0,1.86,3.34,2.83,2.0,1.93,26.33,3.07,5.5,14.85,2.45,3.26,3.7,3.18,3.17,4.18,1.69,3.48,1.51,4.1,2.85,4.82,4.87,3.13,2.06,3.74,3.25,5.78,3.28,4.09,4.94,6.5,1.98,2.52,2.16,3.72,3.85,4.97,5.74,5.86,1.23,2.48,1.76,3.63,4.15,2.17,3.2,3.45,3.86,5.01,6.17,4.09,1.33,3.78,2.09,2.86,1.78,3.35,2.3,4.66,2.08,4.41,2.63,2.26,5.28,2.54,2.21,1.71,2.83,9.38,2.78,2.47,4.41,6.71,1.68,5.16,2.16,3.06,1.37,1.52,2.23,1.33,3.5,4.68,5.44,4.78,4.78,7.52,6.52,3.86,6.24,5.07,5.85,3.01,6.64,5.34,4.91,5.34,2.37,3.44,2.3,3.12,4.58,2.06,4.17,4.48,2.84,2.76,3.7,1.96,4.45,3.84,6.38,6.99,3.86,4.96,9.0,2.64,5.28,5.9,3.64,5.67,4.1,2.44,3.73,10.19,2.29,1.65,2.28,3.78,7.27,6.32,2.7,2.07,2.71,2.94,4.71,1.98,4.08,2.33,22.65,1.75,2.83,1.87,3.85,5.68,2.41,1.63,1.86,5.73,8.74,4.75,5.87,5.28,9.38,5.81,3.69,4.15,2.76,2.83,4.78,4.04,3.38,2.14,29.7,11.74,2.8,2.89,3.05,1.84,2.73,3.24,3.82,4.27,5.3,6.5,11.73,6.3,7.65,11.61,6.06,6.48,6.16,3.52,3.97,12.26,3.48,4.44,4.26,3.58,7.58,6.83,5.32,4.16,4.02,2.03,6.24,2.49,2.85,2.82,3.22,9.93,9.93,4.6,3.08,2.83,3.41,2.58,3.92,4.7,4.89,7.47,8.46,10.41,11.04,2.18,3.06,3.51,5.65,7.68,2.56,3.91,10.04,8.1,3.0,4.98,0.84,0.86,11.62,4.19,7.55,1.91,3.62,4.11,4.45,3.43,4.94,2.46,3.07,3.62,3.69,1.48,1.68,3.2,8.74,6.05,10.52,5.12,5.21,3.14,3.78,3.3,10.84,2.72,1.81,6.16,4.46,6.75,5.58,2.56,4.56,5.1,4.29,4.58,30.26,10.33,10.11,10.77,3.41,4.84,1.36,2.04,5.09,1.81,26.88,13.41,10.32,11.0,2.79,3.51,11.13,3.8,3.79,2.78,3.58,5.09,3.83,14.35,3.62,20.59,2.87,3.35,2.74,4.48,9.78,14.2,5.23,3.37,3.43,2.75,1.91,3.62,4.26,1.95,3.83,4.0,4.29,4.37,8.2,10.4,11.01,11.61,10.94,1.73,1.88,2.0,1.76,1.37,1.9,2.38,7.19,12.97,4.13,4.38,5.92,4.21,6.47,4.83,3.22,11.33,5.67,2.97,3.67,4.01,5.81,6.3,8.99,8.03,3.36,2.04,10.98,2.95,11.12,7.39,5.77,2.67,2.64,3.4,2.99,3.07,4.69,13.24,5.93,3.0,4.72,5.93,2.68,5.7,6.26,2.51,3.56,2.8,2.53,3.26,3.08,3.14,4.89,3.48,3.72,1.8,4.54,4.79,8.43,3.25,5.81,3.05,2.38,4.22,3.95,6.98,3.18,3.78,23.44,11.27,3.86,4.87,4.8,3.5,3.43,3.54,4.04,3.29,3.46,4.27,5.77,5.82,3.4,1.65,8.11,7.34,3.76,4.11,2.69,4.13,1.84,3.14,2.1,2.65,2.6,4.54,2.01,3.66,2.76,2.4,1.24,2.42,2.84,3.6,2.08,2.38,2.52,4.65,5.29,6.91,5.68,6.15,8.47,2.76,2.8,2.98,2.79,3.08,2.67,3.03,2.92,3.58,2.17,3.38,3.5,2.76,2.7,1.46,2.59,5.45,4.01,2.87,2.77,3.06,3.53,4.92,3.3,2.91,3.33,9.6,8.2,3.85,7.09,2.74,3.49,3.33,2.23,3.67,12.04,14.71,20.59,11.27,4.6,2.1,2.48,3.07,2.79,2.63,2.79,2.92,3.06,2.79,3.03,3.88,1.97,2.89,2.63,3.93,3.51,3.94,2.68,2.65,2.51,3.41,2.93,2.47,4.28,4.94,2.92,2.62,2.16,2.51,3.18,2.74,2.78,2.98,4.96,3.79,11.46,6.33,2.34,3.62,7.84,4.47,3.75,11.03,13.03,4.26,3.41,3.18,2.33,4.41,2.57,2.9,3.23,3.25,3.79,3.86,5.33,3.43,2.97,2.52,5.44,3.85,4.49,10.2,3.75,4.37,3.56,3.51,4.55,2.8,2.6,3.92,2.78,3.33,3.41],\"xaxis\":\"x\",\"yaxis\":\"y\",\"type\":\"histogram\"},{\"alignmentgroup\":\"True\",\"hovertemplate\":\"price_usd=%{x}<extra></extra>\",\"legendgroup\":\"\",\"marker\":{\"color\":\"#636efa\"},\"name\":\"\",\"notched\":true,\"offsetgroup\":\"\",\"showlegend\":false,\"x\":[5.17,4.97,13.01,25.99,13.43,4.06,9.4,8.7,3.27,7.06,4.27,7.66,7.48,4.2,1.62,2.21,1.72,2.03,7.11,3.33,5.65,3.26,10.39,18.13,18.13,18.13,6.4,11.22,8.9,27.29,7.6,10.31,1.8,8.5,3.15,7.6,3.65,2.59,9.73,6.03,2.74,18.64,5.11,5.44,2.81,33.55,32.31,10.46,10.84,9.1,1.44,3.54,2.35,5.91,5.91,2.11,2.18,2.55,2.66,2.63,2.46,3.55,3.83,5.9,5.9,14.74,3.59,1.99,2.56,5.7,5.19,2.72,6.26,1.48,1.36,4.66,1.62,3.0,4.53,7.84,3.95,3.0,15.26,1.68,8.01,2.05,2.92,3.59,3.91,4.49,2.5,2.58,1.61,2.32,1.58,5.39,4.79,3.25,3.65,1.72,4.41,3.01,6.1,1.23,7.37,5.48,15.43,16.0,16.0,16.18,4.74,5.04,2.17,3.36,2.5,2.26,5.61,10.17,5.2,5.01,2.11,21.23,1.4,5.54,2.67,1.99,2.19,13.72,2.88,1.49,1.39,4.58,4.7,1.25,4.59,4.93,2.16,3.0,1.86,3.34,2.83,2.0,1.93,26.33,3.07,5.5,14.85,2.45,3.26,3.7,3.18,3.17,4.18,1.69,3.48,1.51,4.1,2.85,4.82,4.87,3.13,2.06,3.74,3.25,5.78,3.28,4.09,4.94,6.5,1.98,2.52,2.16,3.72,3.85,4.97,5.74,5.86,1.23,2.48,1.76,3.63,4.15,2.17,3.2,3.45,3.86,5.01,6.17,4.09,1.33,3.78,2.09,2.86,1.78,3.35,2.3,4.66,2.08,4.41,2.63,2.26,5.28,2.54,2.21,1.71,2.83,9.38,2.78,2.47,4.41,6.71,1.68,5.16,2.16,3.06,1.37,1.52,2.23,1.33,3.5,4.68,5.44,4.78,4.78,7.52,6.52,3.86,6.24,5.07,5.85,3.01,6.64,5.34,4.91,5.34,2.37,3.44,2.3,3.12,4.58,2.06,4.17,4.48,2.84,2.76,3.7,1.96,4.45,3.84,6.38,6.99,3.86,4.96,9.0,2.64,5.28,5.9,3.64,5.67,4.1,2.44,3.73,10.19,2.29,1.65,2.28,3.78,7.27,6.32,2.7,2.07,2.71,2.94,4.71,1.98,4.08,2.33,22.65,1.75,2.83,1.87,3.85,5.68,2.41,1.63,1.86,5.73,8.74,4.75,5.87,5.28,9.38,5.81,3.69,4.15,2.76,2.83,4.78,4.04,3.38,2.14,29.7,11.74,2.8,2.89,3.05,1.84,2.73,3.24,3.82,4.27,5.3,6.5,11.73,6.3,7.65,11.61,6.06,6.48,6.16,3.52,3.97,12.26,3.48,4.44,4.26,3.58,7.58,6.83,5.32,4.16,4.02,2.03,6.24,2.49,2.85,2.82,3.22,9.93,9.93,4.6,3.08,2.83,3.41,2.58,3.92,4.7,4.89,7.47,8.46,10.41,11.04,2.18,3.06,3.51,5.65,7.68,2.56,3.91,10.04,8.1,3.0,4.98,0.84,0.86,11.62,4.19,7.55,1.91,3.62,4.11,4.45,3.43,4.94,2.46,3.07,3.62,3.69,1.48,1.68,3.2,8.74,6.05,10.52,5.12,5.21,3.14,3.78,3.3,10.84,2.72,1.81,6.16,4.46,6.75,5.58,2.56,4.56,5.1,4.29,4.58,30.26,10.33,10.11,10.77,3.41,4.84,1.36,2.04,5.09,1.81,26.88,13.41,10.32,11.0,2.79,3.51,11.13,3.8,3.79,2.78,3.58,5.09,3.83,14.35,3.62,20.59,2.87,3.35,2.74,4.48,9.78,14.2,5.23,3.37,3.43,2.75,1.91,3.62,4.26,1.95,3.83,4.0,4.29,4.37,8.2,10.4,11.01,11.61,10.94,1.73,1.88,2.0,1.76,1.37,1.9,2.38,7.19,12.97,4.13,4.38,5.92,4.21,6.47,4.83,3.22,11.33,5.67,2.97,3.67,4.01,5.81,6.3,8.99,8.03,3.36,2.04,10.98,2.95,11.12,7.39,5.77,2.67,2.64,3.4,2.99,3.07,4.69,13.24,5.93,3.0,4.72,5.93,2.68,5.7,6.26,2.51,3.56,2.8,2.53,3.26,3.08,3.14,4.89,3.48,3.72,1.8,4.54,4.79,8.43,3.25,5.81,3.05,2.38,4.22,3.95,6.98,3.18,3.78,23.44,11.27,3.86,4.87,4.8,3.5,3.43,3.54,4.04,3.29,3.46,4.27,5.77,5.82,3.4,1.65,8.11,7.34,3.76,4.11,2.69,4.13,1.84,3.14,2.1,2.65,2.6,4.54,2.01,3.66,2.76,2.4,1.24,2.42,2.84,3.6,2.08,2.38,2.52,4.65,5.29,6.91,5.68,6.15,8.47,2.76,2.8,2.98,2.79,3.08,2.67,3.03,2.92,3.58,2.17,3.38,3.5,2.76,2.7,1.46,2.59,5.45,4.01,2.87,2.77,3.06,3.53,4.92,3.3,2.91,3.33,9.6,8.2,3.85,7.09,2.74,3.49,3.33,2.23,3.67,12.04,14.71,20.59,11.27,4.6,2.1,2.48,3.07,2.79,2.63,2.79,2.92,3.06,2.79,3.03,3.88,1.97,2.89,2.63,3.93,3.51,3.94,2.68,2.65,2.51,3.41,2.93,2.47,4.28,4.94,2.92,2.62,2.16,2.51,3.18,2.74,2.78,2.98,4.96,3.79,11.46,6.33,2.34,3.62,7.84,4.47,3.75,11.03,13.03,4.26,3.41,3.18,2.33,4.41,2.57,2.9,3.23,3.25,3.79,3.86,5.33,3.43,2.97,2.52,5.44,3.85,4.49,10.2,3.75,4.37,3.56,3.51,4.55,2.8,2.6,3.92,2.78,3.33,3.41],\"xaxis\":\"x2\",\"yaxis\":\"y2\",\"type\":\"box\"}],                        {\"template\":{\"data\":{\"bar\":[{\"error_x\":{\"color\":\"#2a3f5f\"},\"error_y\":{\"color\":\"#2a3f5f\"},\"marker\":{\"line\":{\"color\":\"#E5ECF6\",\"width\":0.5},\"pattern\":{\"fillmode\":\"overlay\",\"size\":10,\"solidity\":0.2}},\"type\":\"bar\"}],\"barpolar\":[{\"marker\":{\"line\":{\"color\":\"#E5ECF6\",\"width\":0.5},\"pattern\":{\"fillmode\":\"overlay\",\"size\":10,\"solidity\":0.2}},\"type\":\"barpolar\"}],\"carpet\":[{\"aaxis\":{\"endlinecolor\":\"#2a3f5f\",\"gridcolor\":\"white\",\"linecolor\":\"white\",\"minorgridcolor\":\"white\",\"startlinecolor\":\"#2a3f5f\"},\"baxis\":{\"endlinecolor\":\"#2a3f5f\",\"gridcolor\":\"white\",\"linecolor\":\"white\",\"minorgridcolor\":\"white\",\"startlinecolor\":\"#2a3f5f\"},\"type\":\"carpet\"}],\"choropleth\":[{\"colorbar\":{\"outlinewidth\":0,\"ticks\":\"\"},\"type\":\"choropleth\"}],\"contour\":[{\"colorbar\":{\"outlinewidth\":0,\"ticks\":\"\"},\"colorscale\":[[0.0,\"#0d0887\"],[0.1111111111111111,\"#46039f\"],[0.2222222222222222,\"#7201a8\"],[0.3333333333333333,\"#9c179e\"],[0.4444444444444444,\"#bd3786\"],[0.5555555555555556,\"#d8576b\"],[0.6666666666666666,\"#ed7953\"],[0.7777777777777778,\"#fb9f3a\"],[0.8888888888888888,\"#fdca26\"],[1.0,\"#f0f921\"]],\"type\":\"contour\"}],\"contourcarpet\":[{\"colorbar\":{\"outlinewidth\":0,\"ticks\":\"\"},\"type\":\"contourcarpet\"}],\"heatmap\":[{\"colorbar\":{\"outlinewidth\":0,\"ticks\":\"\"},\"colorscale\":[[0.0,\"#0d0887\"],[0.1111111111111111,\"#46039f\"],[0.2222222222222222,\"#7201a8\"],[0.3333333333333333,\"#9c179e\"],[0.4444444444444444,\"#bd3786\"],[0.5555555555555556,\"#d8576b\"],[0.6666666666666666,\"#ed7953\"],[0.7777777777777778,\"#fb9f3a\"],[0.8888888888888888,\"#fdca26\"],[1.0,\"#f0f921\"]],\"type\":\"heatmap\"}],\"heatmapgl\":[{\"colorbar\":{\"outlinewidth\":0,\"ticks\":\"\"},\"colorscale\":[[0.0,\"#0d0887\"],[0.1111111111111111,\"#46039f\"],[0.2222222222222222,\"#7201a8\"],[0.3333333333333333,\"#9c179e\"],[0.4444444444444444,\"#bd3786\"],[0.5555555555555556,\"#d8576b\"],[0.6666666666666666,\"#ed7953\"],[0.7777777777777778,\"#fb9f3a\"],[0.8888888888888888,\"#fdca26\"],[1.0,\"#f0f921\"]],\"type\":\"heatmapgl\"}],\"histogram\":[{\"marker\":{\"pattern\":{\"fillmode\":\"overlay\",\"size\":10,\"solidity\":0.2}},\"type\":\"histogram\"}],\"histogram2d\":[{\"colorbar\":{\"outlinewidth\":0,\"ticks\":\"\"},\"colorscale\":[[0.0,\"#0d0887\"],[0.1111111111111111,\"#46039f\"],[0.2222222222222222,\"#7201a8\"],[0.3333333333333333,\"#9c179e\"],[0.4444444444444444,\"#bd3786\"],[0.5555555555555556,\"#d8576b\"],[0.6666666666666666,\"#ed7953\"],[0.7777777777777778,\"#fb9f3a\"],[0.8888888888888888,\"#fdca26\"],[1.0,\"#f0f921\"]],\"type\":\"histogram2d\"}],\"histogram2dcontour\":[{\"colorbar\":{\"outlinewidth\":0,\"ticks\":\"\"},\"colorscale\":[[0.0,\"#0d0887\"],[0.1111111111111111,\"#46039f\"],[0.2222222222222222,\"#7201a8\"],[0.3333333333333333,\"#9c179e\"],[0.4444444444444444,\"#bd3786\"],[0.5555555555555556,\"#d8576b\"],[0.6666666666666666,\"#ed7953\"],[0.7777777777777778,\"#fb9f3a\"],[0.8888888888888888,\"#fdca26\"],[1.0,\"#f0f921\"]],\"type\":\"histogram2dcontour\"}],\"mesh3d\":[{\"colorbar\":{\"outlinewidth\":0,\"ticks\":\"\"},\"type\":\"mesh3d\"}],\"parcoords\":[{\"line\":{\"colorbar\":{\"outlinewidth\":0,\"ticks\":\"\"}},\"type\":\"parcoords\"}],\"pie\":[{\"automargin\":true,\"type\":\"pie\"}],\"scatter\":[{\"marker\":{\"colorbar\":{\"outlinewidth\":0,\"ticks\":\"\"}},\"type\":\"scatter\"}],\"scatter3d\":[{\"line\":{\"colorbar\":{\"outlinewidth\":0,\"ticks\":\"\"}},\"marker\":{\"colorbar\":{\"outlinewidth\":0,\"ticks\":\"\"}},\"type\":\"scatter3d\"}],\"scattercarpet\":[{\"marker\":{\"colorbar\":{\"outlinewidth\":0,\"ticks\":\"\"}},\"type\":\"scattercarpet\"}],\"scattergeo\":[{\"marker\":{\"colorbar\":{\"outlinewidth\":0,\"ticks\":\"\"}},\"type\":\"scattergeo\"}],\"scattergl\":[{\"marker\":{\"colorbar\":{\"outlinewidth\":0,\"ticks\":\"\"}},\"type\":\"scattergl\"}],\"scattermapbox\":[{\"marker\":{\"colorbar\":{\"outlinewidth\":0,\"ticks\":\"\"}},\"type\":\"scattermapbox\"}],\"scatterpolar\":[{\"marker\":{\"colorbar\":{\"outlinewidth\":0,\"ticks\":\"\"}},\"type\":\"scatterpolar\"}],\"scatterpolargl\":[{\"marker\":{\"colorbar\":{\"outlinewidth\":0,\"ticks\":\"\"}},\"type\":\"scatterpolargl\"}],\"scatterternary\":[{\"marker\":{\"colorbar\":{\"outlinewidth\":0,\"ticks\":\"\"}},\"type\":\"scatterternary\"}],\"surface\":[{\"colorbar\":{\"outlinewidth\":0,\"ticks\":\"\"},\"colorscale\":[[0.0,\"#0d0887\"],[0.1111111111111111,\"#46039f\"],[0.2222222222222222,\"#7201a8\"],[0.3333333333333333,\"#9c179e\"],[0.4444444444444444,\"#bd3786\"],[0.5555555555555556,\"#d8576b\"],[0.6666666666666666,\"#ed7953\"],[0.7777777777777778,\"#fb9f3a\"],[0.8888888888888888,\"#fdca26\"],[1.0,\"#f0f921\"]],\"type\":\"surface\"}],\"table\":[{\"cells\":{\"fill\":{\"color\":\"#EBF0F8\"},\"line\":{\"color\":\"white\"}},\"header\":{\"fill\":{\"color\":\"#C8D4E3\"},\"line\":{\"color\":\"white\"}},\"type\":\"table\"}]},\"layout\":{\"annotationdefaults\":{\"arrowcolor\":\"#2a3f5f\",\"arrowhead\":0,\"arrowwidth\":1},\"autotypenumbers\":\"strict\",\"coloraxis\":{\"colorbar\":{\"outlinewidth\":0,\"ticks\":\"\"}},\"colorscale\":{\"diverging\":[[0,\"#8e0152\"],[0.1,\"#c51b7d\"],[0.2,\"#de77ae\"],[0.3,\"#f1b6da\"],[0.4,\"#fde0ef\"],[0.5,\"#f7f7f7\"],[0.6,\"#e6f5d0\"],[0.7,\"#b8e186\"],[0.8,\"#7fbc41\"],[0.9,\"#4d9221\"],[1,\"#276419\"]],\"sequential\":[[0.0,\"#0d0887\"],[0.1111111111111111,\"#46039f\"],[0.2222222222222222,\"#7201a8\"],[0.3333333333333333,\"#9c179e\"],[0.4444444444444444,\"#bd3786\"],[0.5555555555555556,\"#d8576b\"],[0.6666666666666666,\"#ed7953\"],[0.7777777777777778,\"#fb9f3a\"],[0.8888888888888888,\"#fdca26\"],[1.0,\"#f0f921\"]],\"sequentialminus\":[[0.0,\"#0d0887\"],[0.1111111111111111,\"#46039f\"],[0.2222222222222222,\"#7201a8\"],[0.3333333333333333,\"#9c179e\"],[0.4444444444444444,\"#bd3786\"],[0.5555555555555556,\"#d8576b\"],[0.6666666666666666,\"#ed7953\"],[0.7777777777777778,\"#fb9f3a\"],[0.8888888888888888,\"#fdca26\"],[1.0,\"#f0f921\"]]},\"colorway\":[\"#636efa\",\"#EF553B\",\"#00cc96\",\"#ab63fa\",\"#FFA15A\",\"#19d3f3\",\"#FF6692\",\"#B6E880\",\"#FF97FF\",\"#FECB52\"],\"font\":{\"color\":\"#2a3f5f\"},\"geo\":{\"bgcolor\":\"white\",\"lakecolor\":\"white\",\"landcolor\":\"#E5ECF6\",\"showlakes\":true,\"showland\":true,\"subunitcolor\":\"white\"},\"hoverlabel\":{\"align\":\"left\"},\"hovermode\":\"closest\",\"mapbox\":{\"style\":\"light\"},\"paper_bgcolor\":\"white\",\"plot_bgcolor\":\"#E5ECF6\",\"polar\":{\"angularaxis\":{\"gridcolor\":\"white\",\"linecolor\":\"white\",\"ticks\":\"\"},\"bgcolor\":\"#E5ECF6\",\"radialaxis\":{\"gridcolor\":\"white\",\"linecolor\":\"white\",\"ticks\":\"\"}},\"scene\":{\"xaxis\":{\"backgroundcolor\":\"#E5ECF6\",\"gridcolor\":\"white\",\"gridwidth\":2,\"linecolor\":\"white\",\"showbackground\":true,\"ticks\":\"\",\"zerolinecolor\":\"white\"},\"yaxis\":{\"backgroundcolor\":\"#E5ECF6\",\"gridcolor\":\"white\",\"gridwidth\":2,\"linecolor\":\"white\",\"showbackground\":true,\"ticks\":\"\",\"zerolinecolor\":\"white\"},\"zaxis\":{\"backgroundcolor\":\"#E5ECF6\",\"gridcolor\":\"white\",\"gridwidth\":2,\"linecolor\":\"white\",\"showbackground\":true,\"ticks\":\"\",\"zerolinecolor\":\"white\"}},\"shapedefaults\":{\"line\":{\"color\":\"#2a3f5f\"}},\"ternary\":{\"aaxis\":{\"gridcolor\":\"white\",\"linecolor\":\"white\",\"ticks\":\"\"},\"baxis\":{\"gridcolor\":\"white\",\"linecolor\":\"white\",\"ticks\":\"\"},\"bgcolor\":\"#E5ECF6\",\"caxis\":{\"gridcolor\":\"white\",\"linecolor\":\"white\",\"ticks\":\"\"}},\"title\":{\"x\":0.05},\"xaxis\":{\"automargin\":true,\"gridcolor\":\"white\",\"linecolor\":\"white\",\"ticks\":\"\",\"title\":{\"standoff\":15},\"zerolinecolor\":\"white\",\"zerolinewidth\":2},\"yaxis\":{\"automargin\":true,\"gridcolor\":\"white\",\"linecolor\":\"white\",\"ticks\":\"\",\"title\":{\"standoff\":15},\"zerolinecolor\":\"white\",\"zerolinewidth\":2}}},\"xaxis\":{\"anchor\":\"y\",\"domain\":[0.0,1.0],\"title\":{\"text\":\"price_usd\"}},\"yaxis\":{\"anchor\":\"x\",\"domain\":[0.0,0.8316],\"title\":{\"text\":\"count\"}},\"xaxis2\":{\"anchor\":\"y2\",\"domain\":[0.0,1.0],\"matches\":\"x\",\"showticklabels\":false,\"showgrid\":true},\"yaxis2\":{\"anchor\":\"x2\",\"domain\":[0.8416,1.0],\"matches\":\"y2\",\"showticklabels\":false,\"showline\":false,\"ticks\":\"\",\"showgrid\":false},\"legend\":{\"tracegroupgap\":0},\"title\":{\"text\":\"price_usd Distribution\"},\"barmode\":\"relative\",\"bargap\":0.1},                        {\"responsive\": true}                    ).then(function(){\n",
       "                            \n",
       "var gd = document.getElementById('741694b8-f655-44a4-bbf2-4e3fabd26c02');\n",
       "var x = new MutationObserver(function (mutations, observer) {{\n",
       "        var display = window.getComputedStyle(gd).display;\n",
       "        if (!display || display === 'none') {{\n",
       "            console.log([gd, 'removed!']);\n",
       "            Plotly.purge(gd);\n",
       "            observer.disconnect();\n",
       "        }}\n",
       "}});\n",
       "\n",
       "// Listen for the removal of the full notebook cells\n",
       "var notebookContainer = gd.closest('#notebook-container');\n",
       "if (notebookContainer) {{\n",
       "    x.observe(notebookContainer, {childList: true});\n",
       "}}\n",
       "\n",
       "// Listen for the clearing of the current output cell\n",
       "var outputEl = gd.closest('.output');\n",
       "if (outputEl) {{\n",
       "    x.observe(outputEl, {childList: true});\n",
       "}}\n",
       "\n",
       "                        })                };                });            </script>        </div>"
      ]
     },
     "metadata": {},
     "output_type": "display_data"
    },
    {
     "data": {
      "text/html": [
       "<div>                            <div id=\"dcc0aec9-13e4-4dfb-8ea8-921659637091\" class=\"plotly-graph-div\" style=\"height:525px; width:100%;\"></div>            <script type=\"text/javascript\">                require([\"plotly\"], function(Plotly) {                    window.PLOTLYENV=window.PLOTLYENV || {};                                    if (document.getElementById(\"dcc0aec9-13e4-4dfb-8ea8-921659637091\")) {                    Plotly.newPlot(                        \"dcc0aec9-13e4-4dfb-8ea8-921659637091\",                        [{\"alignmentgroup\":\"True\",\"bingroup\":\"x\",\"hovertemplate\":\"distance_kms=%{x}<br>count=%{y}<extra></extra>\",\"legendgroup\":\"\",\"marker\":{\"color\":\"#636efa\",\"pattern\":{\"shape\":\"\"}},\"name\":\"\",\"offsetgroup\":\"\",\"orientation\":\"v\",\"showlegend\":false,\"x\":[9.29,9.93,18.01,5.1,21.92,4.88,18.65,12.62,5.94,17.38,5.66,14.3,13.33,9.41,0.29,8.4,4.33,4.75,14.61,5.05,12.81,0.1,29.08,24.0,19.1,21.18,2.27,8.85,17.79,21.22,4.35,3.25,1.29,2.61,1.69,5.02,3.35,3.07,5.46,2.72,3.6,19.07,3.78,4.78,2.78,19.14,23.26,15.63,44.22,24.91,1.45,8.01,4.76,23.44,16.38,4.12,4.12,5.63,6.12,5.65,5.73,8.56,10.06,8.03,17.77,42.81,11.65,3.72,5.33,2.3,12.47,3.67,15.32,1.58,1.11,2.09,2.09,6.2,1.21,13.78,7.97,6.69,37.32,1.92,9.78,3.77,5.94,8.9,12.04,11.6,5.68,5.65,2.48,4.02,2.06,11.43,12.05,6.71,5.13,1.79,10.17,6.76,15.93,1.56,12.57,12.01,36.5,43.3,46.04,39.78,0.61,13.31,3.01,5.97,4.65,3.17,19.07,17.32,16.08,5.95,2.99,0.01,0.01,20.58,7.35,4.63,5.13,42.9,6.34,1.59,1.75,12.39,13.21,1.06,15.68,5.71,3.51,5.9,2.74,6.42,5.92,0.92,2.15,46.74,6.74,15.08,45.68,4.23,6.24,10.61,7.08,6.78,11.33,2.38,8.01,0.01,10.99,5.33,9.4,14.68,7.11,3.77,8.14,5.39,15.14,6.47,13.04,12.05,17.11,3.01,4.22,3.7,8.16,5.09,6.73,20.68,15.98,1.85,0.93,3.38,10.11,10.17,4.6,9.96,10.53,11.6,13.31,13.6,12.34,1.46,10.8,4.51,5.05,3.93,7.23,4.7,14.24,3.51,12.33,23.7,3.74,9.54,2.77,2.64,3.38,4.92,37.16,5.89,4.88,7.0,12.47,2.57,10.33,3.22,0.01,1.64,1.79,4.33,0.02,4.3,10.78,13.49,9.27,7.84,17.13,12.89,9.16,11.78,10.66,12.84,4.88,7.6,10.56,10.85,10.71,3.73,8.18,4.86,6.12,7.63,3.44,10.3,10.75,6.05,5.92,10.04,2.59,14.26,10.77,14.97,14.5,10.8,10.88,22.63,5.76,10.04,10.43,7.24,10.49,10.4,5.94,8.16,8.11,5.13,2.25,4.15,4.73,13.08,4.46,5.79,4.2,4.51,5.99,12.38,3.32,7.63,4.46,20.41,2.46,3.73,2.56,10.7,13.1,2.32,0.01,2.16,12.97,8.37,9.46,9.69,14.44,9.88,12.3,10.48,5.49,2.38,4.12,8.42,10.27,2.41,2.17,31.35,33.35,4.81,5.66,2.43,2.41,4.89,6.08,7.4,10.77,13.89,10.12,34.08,11.6,12.83,33.74,11.62,13.23,13.62,6.55,7.29,34.07,6.69,7.72,7.11,7.35,21.16,23.06,9.46,5.06,7.31,3.24,12.78,4.73,6.61,4.89,10.12,33.78,44.9,8.38,8.77,5.7,6.05,4.72,6.52,10.98,15.24,18.27,18.73,33.57,34.97,4.02,4.09,9.66,5.71,14.18,3.91,3.51,11.23,7.16,4.73,13.33,0.01,0.64,34.49,8.82,11.65,2.24,8.37,8.37,9.48,5.47,6.08,4.54,6.71,8.27,10.04,1.83,1.17,7.98,13.48,19.33,33.68,12.86,14.76,6.66,8.63,8.1,34.13,6.84,3.85,15.26,11.47,14.74,17.69,7.08,7.4,15.21,14.27,13.89,35.99,33.99,34.6,35.1,10.27,14.63,2.16,2.24,14.24,3.78,31.64,28.86,34.01,38.42,6.41,8.53,34.07,8.03,5.15,6.55,8.58,9.66,8.06,9.3,9.72,11.1,5.65,8.11,6.68,8.93,28.0,42.71,8.11,9.56,10.7,4.84,4.02,7.26,11.28,3.77,9.16,10.3,5.86,8.03,14.55,32.67,34.04,34.55,34.83,1.72,1.58,1.29,1.45,1.38,3.22,1.88,13.44,21.6,12.47,13.99,20.55,9.67,21.29,9.7,6.0,12.12,10.25,5.87,8.29,8.82,14.58,14.66,16.63,18.2,5.29,2.77,33.15,3.77,11.1,12.65,10.93,5.5,3.32,5.15,6.0,7.16,7.85,33.04,16.54,6.58,10.56,11.67,4.86,14.1,16.7,4.55,5.63,6.79,5.41,4.76,4.8,7.05,10.43,5.44,4.99,2.19,7.85,9.66,7.69,8.03,10.98,5.79,5.01,5.47,9.54,10.91,6.2,5.18,30.98,32.51,5.7,7.79,9.11,6.2,5.66,5.62,6.52,5.81,3.54,8.77,10.04,10.7,8.01,2.69,15.76,16.0,9.51,12.92,6.49,7.93,3.59,7.29,3.64,5.97,5.87,7.37,3.65,4.8,6.84,5.87,1.72,3.43,7.11,7.4,4.01,3.8,3.62,6.29,6.78,18.01,10.06,7.35,11.59,5.71,6.44,4.83,6.97,6.18,5.55,6.29,5.62,7.02,4.06,7.31,6.41,5.89,6.29,2.22,4.78,8.61,5.68,6.63,5.01,6.5,7.47,5.66,6.18,5.41,5.2,24.51,13.84,9.11,11.27,6.18,5.15,6.23,3.09,8.13,37.03,35.79,43.15,33.97,6.04,4.57,4.99,5.33,6.58,4.8,5.89,5.62,5.78,5.05,5.89,4.88,4.02,6.08,6.32,5.65,5.36,6.57,5.12,5.25,5.04,7.77,6.5,4.73,6.13,10.04,6.79,5.47,3.43,4.14,7.05,4.92,4.94,8.48,9.01,8.8,33.99,12.38,5.81,6.13,9.25,10.98,6.9,27.21,19.59,11.59,8.29,5.09,5.46,7.92,4.91,6.61,8.19,8.93,9.04,9.69,8.96,6.18,7.08,8.43,9.01,12.81,14.08,34.18,9.99,10.73,5.89,7.1,7.97,4.26,5.79,11.46,6.68,7.48,9.03],\"xaxis\":\"x\",\"yaxis\":\"y\",\"type\":\"histogram\"},{\"alignmentgroup\":\"True\",\"hovertemplate\":\"distance_kms=%{x}<extra></extra>\",\"legendgroup\":\"\",\"marker\":{\"color\":\"#636efa\"},\"name\":\"\",\"notched\":true,\"offsetgroup\":\"\",\"showlegend\":false,\"x\":[9.29,9.93,18.01,5.1,21.92,4.88,18.65,12.62,5.94,17.38,5.66,14.3,13.33,9.41,0.29,8.4,4.33,4.75,14.61,5.05,12.81,0.1,29.08,24.0,19.1,21.18,2.27,8.85,17.79,21.22,4.35,3.25,1.29,2.61,1.69,5.02,3.35,3.07,5.46,2.72,3.6,19.07,3.78,4.78,2.78,19.14,23.26,15.63,44.22,24.91,1.45,8.01,4.76,23.44,16.38,4.12,4.12,5.63,6.12,5.65,5.73,8.56,10.06,8.03,17.77,42.81,11.65,3.72,5.33,2.3,12.47,3.67,15.32,1.58,1.11,2.09,2.09,6.2,1.21,13.78,7.97,6.69,37.32,1.92,9.78,3.77,5.94,8.9,12.04,11.6,5.68,5.65,2.48,4.02,2.06,11.43,12.05,6.71,5.13,1.79,10.17,6.76,15.93,1.56,12.57,12.01,36.5,43.3,46.04,39.78,0.61,13.31,3.01,5.97,4.65,3.17,19.07,17.32,16.08,5.95,2.99,0.01,0.01,20.58,7.35,4.63,5.13,42.9,6.34,1.59,1.75,12.39,13.21,1.06,15.68,5.71,3.51,5.9,2.74,6.42,5.92,0.92,2.15,46.74,6.74,15.08,45.68,4.23,6.24,10.61,7.08,6.78,11.33,2.38,8.01,0.01,10.99,5.33,9.4,14.68,7.11,3.77,8.14,5.39,15.14,6.47,13.04,12.05,17.11,3.01,4.22,3.7,8.16,5.09,6.73,20.68,15.98,1.85,0.93,3.38,10.11,10.17,4.6,9.96,10.53,11.6,13.31,13.6,12.34,1.46,10.8,4.51,5.05,3.93,7.23,4.7,14.24,3.51,12.33,23.7,3.74,9.54,2.77,2.64,3.38,4.92,37.16,5.89,4.88,7.0,12.47,2.57,10.33,3.22,0.01,1.64,1.79,4.33,0.02,4.3,10.78,13.49,9.27,7.84,17.13,12.89,9.16,11.78,10.66,12.84,4.88,7.6,10.56,10.85,10.71,3.73,8.18,4.86,6.12,7.63,3.44,10.3,10.75,6.05,5.92,10.04,2.59,14.26,10.77,14.97,14.5,10.8,10.88,22.63,5.76,10.04,10.43,7.24,10.49,10.4,5.94,8.16,8.11,5.13,2.25,4.15,4.73,13.08,4.46,5.79,4.2,4.51,5.99,12.38,3.32,7.63,4.46,20.41,2.46,3.73,2.56,10.7,13.1,2.32,0.01,2.16,12.97,8.37,9.46,9.69,14.44,9.88,12.3,10.48,5.49,2.38,4.12,8.42,10.27,2.41,2.17,31.35,33.35,4.81,5.66,2.43,2.41,4.89,6.08,7.4,10.77,13.89,10.12,34.08,11.6,12.83,33.74,11.62,13.23,13.62,6.55,7.29,34.07,6.69,7.72,7.11,7.35,21.16,23.06,9.46,5.06,7.31,3.24,12.78,4.73,6.61,4.89,10.12,33.78,44.9,8.38,8.77,5.7,6.05,4.72,6.52,10.98,15.24,18.27,18.73,33.57,34.97,4.02,4.09,9.66,5.71,14.18,3.91,3.51,11.23,7.16,4.73,13.33,0.01,0.64,34.49,8.82,11.65,2.24,8.37,8.37,9.48,5.47,6.08,4.54,6.71,8.27,10.04,1.83,1.17,7.98,13.48,19.33,33.68,12.86,14.76,6.66,8.63,8.1,34.13,6.84,3.85,15.26,11.47,14.74,17.69,7.08,7.4,15.21,14.27,13.89,35.99,33.99,34.6,35.1,10.27,14.63,2.16,2.24,14.24,3.78,31.64,28.86,34.01,38.42,6.41,8.53,34.07,8.03,5.15,6.55,8.58,9.66,8.06,9.3,9.72,11.1,5.65,8.11,6.68,8.93,28.0,42.71,8.11,9.56,10.7,4.84,4.02,7.26,11.28,3.77,9.16,10.3,5.86,8.03,14.55,32.67,34.04,34.55,34.83,1.72,1.58,1.29,1.45,1.38,3.22,1.88,13.44,21.6,12.47,13.99,20.55,9.67,21.29,9.7,6.0,12.12,10.25,5.87,8.29,8.82,14.58,14.66,16.63,18.2,5.29,2.77,33.15,3.77,11.1,12.65,10.93,5.5,3.32,5.15,6.0,7.16,7.85,33.04,16.54,6.58,10.56,11.67,4.86,14.1,16.7,4.55,5.63,6.79,5.41,4.76,4.8,7.05,10.43,5.44,4.99,2.19,7.85,9.66,7.69,8.03,10.98,5.79,5.01,5.47,9.54,10.91,6.2,5.18,30.98,32.51,5.7,7.79,9.11,6.2,5.66,5.62,6.52,5.81,3.54,8.77,10.04,10.7,8.01,2.69,15.76,16.0,9.51,12.92,6.49,7.93,3.59,7.29,3.64,5.97,5.87,7.37,3.65,4.8,6.84,5.87,1.72,3.43,7.11,7.4,4.01,3.8,3.62,6.29,6.78,18.01,10.06,7.35,11.59,5.71,6.44,4.83,6.97,6.18,5.55,6.29,5.62,7.02,4.06,7.31,6.41,5.89,6.29,2.22,4.78,8.61,5.68,6.63,5.01,6.5,7.47,5.66,6.18,5.41,5.2,24.51,13.84,9.11,11.27,6.18,5.15,6.23,3.09,8.13,37.03,35.79,43.15,33.97,6.04,4.57,4.99,5.33,6.58,4.8,5.89,5.62,5.78,5.05,5.89,4.88,4.02,6.08,6.32,5.65,5.36,6.57,5.12,5.25,5.04,7.77,6.5,4.73,6.13,10.04,6.79,5.47,3.43,4.14,7.05,4.92,4.94,8.48,9.01,8.8,33.99,12.38,5.81,6.13,9.25,10.98,6.9,27.21,19.59,11.59,8.29,5.09,5.46,7.92,4.91,6.61,8.19,8.93,9.04,9.69,8.96,6.18,7.08,8.43,9.01,12.81,14.08,34.18,9.99,10.73,5.89,7.1,7.97,4.26,5.79,11.46,6.68,7.48,9.03],\"xaxis\":\"x2\",\"yaxis\":\"y2\",\"type\":\"box\"}],                        {\"template\":{\"data\":{\"bar\":[{\"error_x\":{\"color\":\"#2a3f5f\"},\"error_y\":{\"color\":\"#2a3f5f\"},\"marker\":{\"line\":{\"color\":\"#E5ECF6\",\"width\":0.5},\"pattern\":{\"fillmode\":\"overlay\",\"size\":10,\"solidity\":0.2}},\"type\":\"bar\"}],\"barpolar\":[{\"marker\":{\"line\":{\"color\":\"#E5ECF6\",\"width\":0.5},\"pattern\":{\"fillmode\":\"overlay\",\"size\":10,\"solidity\":0.2}},\"type\":\"barpolar\"}],\"carpet\":[{\"aaxis\":{\"endlinecolor\":\"#2a3f5f\",\"gridcolor\":\"white\",\"linecolor\":\"white\",\"minorgridcolor\":\"white\",\"startlinecolor\":\"#2a3f5f\"},\"baxis\":{\"endlinecolor\":\"#2a3f5f\",\"gridcolor\":\"white\",\"linecolor\":\"white\",\"minorgridcolor\":\"white\",\"startlinecolor\":\"#2a3f5f\"},\"type\":\"carpet\"}],\"choropleth\":[{\"colorbar\":{\"outlinewidth\":0,\"ticks\":\"\"},\"type\":\"choropleth\"}],\"contour\":[{\"colorbar\":{\"outlinewidth\":0,\"ticks\":\"\"},\"colorscale\":[[0.0,\"#0d0887\"],[0.1111111111111111,\"#46039f\"],[0.2222222222222222,\"#7201a8\"],[0.3333333333333333,\"#9c179e\"],[0.4444444444444444,\"#bd3786\"],[0.5555555555555556,\"#d8576b\"],[0.6666666666666666,\"#ed7953\"],[0.7777777777777778,\"#fb9f3a\"],[0.8888888888888888,\"#fdca26\"],[1.0,\"#f0f921\"]],\"type\":\"contour\"}],\"contourcarpet\":[{\"colorbar\":{\"outlinewidth\":0,\"ticks\":\"\"},\"type\":\"contourcarpet\"}],\"heatmap\":[{\"colorbar\":{\"outlinewidth\":0,\"ticks\":\"\"},\"colorscale\":[[0.0,\"#0d0887\"],[0.1111111111111111,\"#46039f\"],[0.2222222222222222,\"#7201a8\"],[0.3333333333333333,\"#9c179e\"],[0.4444444444444444,\"#bd3786\"],[0.5555555555555556,\"#d8576b\"],[0.6666666666666666,\"#ed7953\"],[0.7777777777777778,\"#fb9f3a\"],[0.8888888888888888,\"#fdca26\"],[1.0,\"#f0f921\"]],\"type\":\"heatmap\"}],\"heatmapgl\":[{\"colorbar\":{\"outlinewidth\":0,\"ticks\":\"\"},\"colorscale\":[[0.0,\"#0d0887\"],[0.1111111111111111,\"#46039f\"],[0.2222222222222222,\"#7201a8\"],[0.3333333333333333,\"#9c179e\"],[0.4444444444444444,\"#bd3786\"],[0.5555555555555556,\"#d8576b\"],[0.6666666666666666,\"#ed7953\"],[0.7777777777777778,\"#fb9f3a\"],[0.8888888888888888,\"#fdca26\"],[1.0,\"#f0f921\"]],\"type\":\"heatmapgl\"}],\"histogram\":[{\"marker\":{\"pattern\":{\"fillmode\":\"overlay\",\"size\":10,\"solidity\":0.2}},\"type\":\"histogram\"}],\"histogram2d\":[{\"colorbar\":{\"outlinewidth\":0,\"ticks\":\"\"},\"colorscale\":[[0.0,\"#0d0887\"],[0.1111111111111111,\"#46039f\"],[0.2222222222222222,\"#7201a8\"],[0.3333333333333333,\"#9c179e\"],[0.4444444444444444,\"#bd3786\"],[0.5555555555555556,\"#d8576b\"],[0.6666666666666666,\"#ed7953\"],[0.7777777777777778,\"#fb9f3a\"],[0.8888888888888888,\"#fdca26\"],[1.0,\"#f0f921\"]],\"type\":\"histogram2d\"}],\"histogram2dcontour\":[{\"colorbar\":{\"outlinewidth\":0,\"ticks\":\"\"},\"colorscale\":[[0.0,\"#0d0887\"],[0.1111111111111111,\"#46039f\"],[0.2222222222222222,\"#7201a8\"],[0.3333333333333333,\"#9c179e\"],[0.4444444444444444,\"#bd3786\"],[0.5555555555555556,\"#d8576b\"],[0.6666666666666666,\"#ed7953\"],[0.7777777777777778,\"#fb9f3a\"],[0.8888888888888888,\"#fdca26\"],[1.0,\"#f0f921\"]],\"type\":\"histogram2dcontour\"}],\"mesh3d\":[{\"colorbar\":{\"outlinewidth\":0,\"ticks\":\"\"},\"type\":\"mesh3d\"}],\"parcoords\":[{\"line\":{\"colorbar\":{\"outlinewidth\":0,\"ticks\":\"\"}},\"type\":\"parcoords\"}],\"pie\":[{\"automargin\":true,\"type\":\"pie\"}],\"scatter\":[{\"marker\":{\"colorbar\":{\"outlinewidth\":0,\"ticks\":\"\"}},\"type\":\"scatter\"}],\"scatter3d\":[{\"line\":{\"colorbar\":{\"outlinewidth\":0,\"ticks\":\"\"}},\"marker\":{\"colorbar\":{\"outlinewidth\":0,\"ticks\":\"\"}},\"type\":\"scatter3d\"}],\"scattercarpet\":[{\"marker\":{\"colorbar\":{\"outlinewidth\":0,\"ticks\":\"\"}},\"type\":\"scattercarpet\"}],\"scattergeo\":[{\"marker\":{\"colorbar\":{\"outlinewidth\":0,\"ticks\":\"\"}},\"type\":\"scattergeo\"}],\"scattergl\":[{\"marker\":{\"colorbar\":{\"outlinewidth\":0,\"ticks\":\"\"}},\"type\":\"scattergl\"}],\"scattermapbox\":[{\"marker\":{\"colorbar\":{\"outlinewidth\":0,\"ticks\":\"\"}},\"type\":\"scattermapbox\"}],\"scatterpolar\":[{\"marker\":{\"colorbar\":{\"outlinewidth\":0,\"ticks\":\"\"}},\"type\":\"scatterpolar\"}],\"scatterpolargl\":[{\"marker\":{\"colorbar\":{\"outlinewidth\":0,\"ticks\":\"\"}},\"type\":\"scatterpolargl\"}],\"scatterternary\":[{\"marker\":{\"colorbar\":{\"outlinewidth\":0,\"ticks\":\"\"}},\"type\":\"scatterternary\"}],\"surface\":[{\"colorbar\":{\"outlinewidth\":0,\"ticks\":\"\"},\"colorscale\":[[0.0,\"#0d0887\"],[0.1111111111111111,\"#46039f\"],[0.2222222222222222,\"#7201a8\"],[0.3333333333333333,\"#9c179e\"],[0.4444444444444444,\"#bd3786\"],[0.5555555555555556,\"#d8576b\"],[0.6666666666666666,\"#ed7953\"],[0.7777777777777778,\"#fb9f3a\"],[0.8888888888888888,\"#fdca26\"],[1.0,\"#f0f921\"]],\"type\":\"surface\"}],\"table\":[{\"cells\":{\"fill\":{\"color\":\"#EBF0F8\"},\"line\":{\"color\":\"white\"}},\"header\":{\"fill\":{\"color\":\"#C8D4E3\"},\"line\":{\"color\":\"white\"}},\"type\":\"table\"}]},\"layout\":{\"annotationdefaults\":{\"arrowcolor\":\"#2a3f5f\",\"arrowhead\":0,\"arrowwidth\":1},\"autotypenumbers\":\"strict\",\"coloraxis\":{\"colorbar\":{\"outlinewidth\":0,\"ticks\":\"\"}},\"colorscale\":{\"diverging\":[[0,\"#8e0152\"],[0.1,\"#c51b7d\"],[0.2,\"#de77ae\"],[0.3,\"#f1b6da\"],[0.4,\"#fde0ef\"],[0.5,\"#f7f7f7\"],[0.6,\"#e6f5d0\"],[0.7,\"#b8e186\"],[0.8,\"#7fbc41\"],[0.9,\"#4d9221\"],[1,\"#276419\"]],\"sequential\":[[0.0,\"#0d0887\"],[0.1111111111111111,\"#46039f\"],[0.2222222222222222,\"#7201a8\"],[0.3333333333333333,\"#9c179e\"],[0.4444444444444444,\"#bd3786\"],[0.5555555555555556,\"#d8576b\"],[0.6666666666666666,\"#ed7953\"],[0.7777777777777778,\"#fb9f3a\"],[0.8888888888888888,\"#fdca26\"],[1.0,\"#f0f921\"]],\"sequentialminus\":[[0.0,\"#0d0887\"],[0.1111111111111111,\"#46039f\"],[0.2222222222222222,\"#7201a8\"],[0.3333333333333333,\"#9c179e\"],[0.4444444444444444,\"#bd3786\"],[0.5555555555555556,\"#d8576b\"],[0.6666666666666666,\"#ed7953\"],[0.7777777777777778,\"#fb9f3a\"],[0.8888888888888888,\"#fdca26\"],[1.0,\"#f0f921\"]]},\"colorway\":[\"#636efa\",\"#EF553B\",\"#00cc96\",\"#ab63fa\",\"#FFA15A\",\"#19d3f3\",\"#FF6692\",\"#B6E880\",\"#FF97FF\",\"#FECB52\"],\"font\":{\"color\":\"#2a3f5f\"},\"geo\":{\"bgcolor\":\"white\",\"lakecolor\":\"white\",\"landcolor\":\"#E5ECF6\",\"showlakes\":true,\"showland\":true,\"subunitcolor\":\"white\"},\"hoverlabel\":{\"align\":\"left\"},\"hovermode\":\"closest\",\"mapbox\":{\"style\":\"light\"},\"paper_bgcolor\":\"white\",\"plot_bgcolor\":\"#E5ECF6\",\"polar\":{\"angularaxis\":{\"gridcolor\":\"white\",\"linecolor\":\"white\",\"ticks\":\"\"},\"bgcolor\":\"#E5ECF6\",\"radialaxis\":{\"gridcolor\":\"white\",\"linecolor\":\"white\",\"ticks\":\"\"}},\"scene\":{\"xaxis\":{\"backgroundcolor\":\"#E5ECF6\",\"gridcolor\":\"white\",\"gridwidth\":2,\"linecolor\":\"white\",\"showbackground\":true,\"ticks\":\"\",\"zerolinecolor\":\"white\"},\"yaxis\":{\"backgroundcolor\":\"#E5ECF6\",\"gridcolor\":\"white\",\"gridwidth\":2,\"linecolor\":\"white\",\"showbackground\":true,\"ticks\":\"\",\"zerolinecolor\":\"white\"},\"zaxis\":{\"backgroundcolor\":\"#E5ECF6\",\"gridcolor\":\"white\",\"gridwidth\":2,\"linecolor\":\"white\",\"showbackground\":true,\"ticks\":\"\",\"zerolinecolor\":\"white\"}},\"shapedefaults\":{\"line\":{\"color\":\"#2a3f5f\"}},\"ternary\":{\"aaxis\":{\"gridcolor\":\"white\",\"linecolor\":\"white\",\"ticks\":\"\"},\"baxis\":{\"gridcolor\":\"white\",\"linecolor\":\"white\",\"ticks\":\"\"},\"bgcolor\":\"#E5ECF6\",\"caxis\":{\"gridcolor\":\"white\",\"linecolor\":\"white\",\"ticks\":\"\"}},\"title\":{\"x\":0.05},\"xaxis\":{\"automargin\":true,\"gridcolor\":\"white\",\"linecolor\":\"white\",\"ticks\":\"\",\"title\":{\"standoff\":15},\"zerolinecolor\":\"white\",\"zerolinewidth\":2},\"yaxis\":{\"automargin\":true,\"gridcolor\":\"white\",\"linecolor\":\"white\",\"ticks\":\"\",\"title\":{\"standoff\":15},\"zerolinecolor\":\"white\",\"zerolinewidth\":2}}},\"xaxis\":{\"anchor\":\"y\",\"domain\":[0.0,1.0],\"title\":{\"text\":\"distance_kms\"}},\"yaxis\":{\"anchor\":\"x\",\"domain\":[0.0,0.8316],\"title\":{\"text\":\"count\"}},\"xaxis2\":{\"anchor\":\"y2\",\"domain\":[0.0,1.0],\"matches\":\"x\",\"showticklabels\":false,\"showgrid\":true},\"yaxis2\":{\"anchor\":\"x2\",\"domain\":[0.8416,1.0],\"matches\":\"y2\",\"showticklabels\":false,\"showline\":false,\"ticks\":\"\",\"showgrid\":false},\"legend\":{\"tracegroupgap\":0},\"title\":{\"text\":\"distance_kms Distribution\"},\"barmode\":\"relative\",\"bargap\":0.1},                        {\"responsive\": true}                    ).then(function(){\n",
       "                            \n",
       "var gd = document.getElementById('dcc0aec9-13e4-4dfb-8ea8-921659637091');\n",
       "var x = new MutationObserver(function (mutations, observer) {{\n",
       "        var display = window.getComputedStyle(gd).display;\n",
       "        if (!display || display === 'none') {{\n",
       "            console.log([gd, 'removed!']);\n",
       "            Plotly.purge(gd);\n",
       "            observer.disconnect();\n",
       "        }}\n",
       "}});\n",
       "\n",
       "// Listen for the removal of the full notebook cells\n",
       "var notebookContainer = gd.closest('#notebook-container');\n",
       "if (notebookContainer) {{\n",
       "    x.observe(notebookContainer, {childList: true});\n",
       "}}\n",
       "\n",
       "// Listen for the clearing of the current output cell\n",
       "var outputEl = gd.closest('.output');\n",
       "if (outputEl) {{\n",
       "    x.observe(outputEl, {childList: true});\n",
       "}}\n",
       "\n",
       "                        })                };                });            </script>        </div>"
      ]
     },
     "metadata": {},
     "output_type": "display_data"
    },
    {
     "data": {
      "text/html": [
       "<div>                            <div id=\"27ed6017-aabb-4eb8-a061-00ebb91196c3\" class=\"plotly-graph-div\" style=\"height:525px; width:100%;\"></div>            <script type=\"text/javascript\">                require([\"plotly\"], function(Plotly) {                    window.PLOTLYENV=window.PLOTLYENV || {};                                    if (document.getElementById(\"27ed6017-aabb-4eb8-a061-00ebb91196c3\")) {                    Plotly.newPlot(                        \"27ed6017-aabb-4eb8-a061-00ebb91196c3\",                        [{\"alignmentgroup\":\"True\",\"bingroup\":\"x\",\"hovertemplate\":\"temperature_value=%{x}<br>count=%{y}<extra></extra>\",\"legendgroup\":\"\",\"marker\":{\"color\":\"#636efa\",\"pattern\":{\"shape\":\"\"}},\"name\":\"\",\"offsetgroup\":\"\",\"orientation\":\"v\",\"showlegend\":false,\"x\":[12,10,14,3,3,7,6,6,8,9,14,32,19,29,28,17,25,21,11,19,19,17,20,21,16,16,16,15,15,16,18,16,15,15,13,10,15,14,14,11,8,11,15,15,15,15,22,14,14,16,17,16,17,18,17,12,14,10,11,11,10,18,19,12,14,16,19,15,14,17,17,9,16,17,17,14,14,8,13,16,14,13,17,13,13,9,9,10,8,10,13,11,9,10,8,9,9,9,10,10,13,12,12,12,12,13,9,-6,-3,6,7,3,1,3,3,5,3,-2,1,2,1,3,1,-12,-19,-19,-22,-13,-18,-17,-16,2,0,1,-10,2,1,4,-5,3,2,7,7,6,11,11,2,2,14,8,9,9,15,18,17,17,17,21,22,21,18,17,10,13,17,16,15,18,18,19,18,15,18,14,16,15,16,16,23,16,13,10,13,9,8,22,19,20,18,15,20,22,23,22,17,16,20,22,22,22,21,21,20,20,21,21,22,21,17,15,14,16,18,18,12,12,11,9,9,9,10,11,12,10,12,12,10,12,13,13,10,11,14,15,14,14,13,7,7,6,7,4,5,4,4,3,3,2,0,1,4,5,0,0,-3,-2,-7,-5,-3,0,1,1,1,1,0,0,0,0,2,2,-1,-2,-2,-2,-6,-6,-6,-6,-8,-8,-7,-8,-8,-8,-7,-7,-5,-2,-1,0,0,2,3,3,2,-2,-3,-3,0,0,2,-19,-16,-5,-6,-3,-3,-3,-3,-3,0,0,-4,1,-9,-7,1,-2,-2,-9,-10,-11,3,-2,-3,5,3,3,2,3,5,5,7,7,4,5,5,13,9,13,15,16,14,14,5,5,11,13,15,17,19,13,12,12,8,9,11,15,14,20,15,25,17,17,17,17,14,12,13,14,16,16,19,19,18,19,16,16,12,13,13,19,18,18,21,25,21,21,21,18,20,22,15,20,24,25,21,20,19,16,21,18,18,18,18,22,25,25,25,23,20,20,18,16,19,13,14,14,15,12,17,15,11,4,2,-1,-1,0,-1,5,5,1,1,2,2,5,1,1,1,0,-3,-4,-3,-3,1,1,2,1,1,1,3,2,3,3,3,2,2,2,2,3,2,1,1,2,1,1,1,1,1,1,1,1,1,0,0,1,1,-1,0,1,0,1,-1,0,-1,-1,-4,1,2,2,2,1,1,-1,-1,-1,-2,-2,1,1,-1,-1,-1,-1,-1,2,2,0,0,0,0,0,-2,-2,-3,-2,-3,-3,-1,-2,0,0,-2,-2,-2,-3,2,0,2,2,2,1,1,1,3,3,3,3,-2,-2,-2,-2,-1,0,-1,-2,-6,-5,-6,-5,-5,-6,-6,-6,-7,-8,-9,-9,-11,-11,-11,-9,-8,-8,-7,-6,-6,-6,-10,-7,-4,1,4,3,3,1,1,0,0,-1,-7,-7,-6,-8,-12,-11,-3,-7,-9,-11,-6,-7,-7,-8,-8,-7,-6,-5,-4,-2,-4,-11,-1,-2,-4,-4,-4,-4,-4,-6,-7,-12,-8,-6,-6,-5,-6,-10,-16,-9,-16,-13,-14,-18,-18,-15,-13,-12,-15,-12,-9,-10,-14,-12,-9,-10,-10,2,2,1,1,2,3,-10,-9,-8,-7,-7,-8,-6,0,1,0,0,-5,-5,-3,-8,2,3,4,0,4,5,8,11,15,9,9,10,9,10,5,6,7,8,9,8],\"xaxis\":\"x\",\"yaxis\":\"y\",\"type\":\"histogram\"},{\"alignmentgroup\":\"True\",\"hovertemplate\":\"temperature_value=%{x}<extra></extra>\",\"legendgroup\":\"\",\"marker\":{\"color\":\"#636efa\"},\"name\":\"\",\"notched\":true,\"offsetgroup\":\"\",\"showlegend\":false,\"x\":[12,10,14,3,3,7,6,6,8,9,14,32,19,29,28,17,25,21,11,19,19,17,20,21,16,16,16,15,15,16,18,16,15,15,13,10,15,14,14,11,8,11,15,15,15,15,22,14,14,16,17,16,17,18,17,12,14,10,11,11,10,18,19,12,14,16,19,15,14,17,17,9,16,17,17,14,14,8,13,16,14,13,17,13,13,9,9,10,8,10,13,11,9,10,8,9,9,9,10,10,13,12,12,12,12,13,9,-6,-3,6,7,3,1,3,3,5,3,-2,1,2,1,3,1,-12,-19,-19,-22,-13,-18,-17,-16,2,0,1,-10,2,1,4,-5,3,2,7,7,6,11,11,2,2,14,8,9,9,15,18,17,17,17,21,22,21,18,17,10,13,17,16,15,18,18,19,18,15,18,14,16,15,16,16,23,16,13,10,13,9,8,22,19,20,18,15,20,22,23,22,17,16,20,22,22,22,21,21,20,20,21,21,22,21,17,15,14,16,18,18,12,12,11,9,9,9,10,11,12,10,12,12,10,12,13,13,10,11,14,15,14,14,13,7,7,6,7,4,5,4,4,3,3,2,0,1,4,5,0,0,-3,-2,-7,-5,-3,0,1,1,1,1,0,0,0,0,2,2,-1,-2,-2,-2,-6,-6,-6,-6,-8,-8,-7,-8,-8,-8,-7,-7,-5,-2,-1,0,0,2,3,3,2,-2,-3,-3,0,0,2,-19,-16,-5,-6,-3,-3,-3,-3,-3,0,0,-4,1,-9,-7,1,-2,-2,-9,-10,-11,3,-2,-3,5,3,3,2,3,5,5,7,7,4,5,5,13,9,13,15,16,14,14,5,5,11,13,15,17,19,13,12,12,8,9,11,15,14,20,15,25,17,17,17,17,14,12,13,14,16,16,19,19,18,19,16,16,12,13,13,19,18,18,21,25,21,21,21,18,20,22,15,20,24,25,21,20,19,16,21,18,18,18,18,22,25,25,25,23,20,20,18,16,19,13,14,14,15,12,17,15,11,4,2,-1,-1,0,-1,5,5,1,1,2,2,5,1,1,1,0,-3,-4,-3,-3,1,1,2,1,1,1,3,2,3,3,3,2,2,2,2,3,2,1,1,2,1,1,1,1,1,1,1,1,1,0,0,1,1,-1,0,1,0,1,-1,0,-1,-1,-4,1,2,2,2,1,1,-1,-1,-1,-2,-2,1,1,-1,-1,-1,-1,-1,2,2,0,0,0,0,0,-2,-2,-3,-2,-3,-3,-1,-2,0,0,-2,-2,-2,-3,2,0,2,2,2,1,1,1,3,3,3,3,-2,-2,-2,-2,-1,0,-1,-2,-6,-5,-6,-5,-5,-6,-6,-6,-7,-8,-9,-9,-11,-11,-11,-9,-8,-8,-7,-6,-6,-6,-10,-7,-4,1,4,3,3,1,1,0,0,-1,-7,-7,-6,-8,-12,-11,-3,-7,-9,-11,-6,-7,-7,-8,-8,-7,-6,-5,-4,-2,-4,-11,-1,-2,-4,-4,-4,-4,-4,-6,-7,-12,-8,-6,-6,-5,-6,-10,-16,-9,-16,-13,-14,-18,-18,-15,-13,-12,-15,-12,-9,-10,-14,-12,-9,-10,-10,2,2,1,1,2,3,-10,-9,-8,-7,-7,-8,-6,0,1,0,0,-5,-5,-3,-8,2,3,4,0,4,5,8,11,15,9,9,10,9,10,5,6,7,8,9,8],\"xaxis\":\"x2\",\"yaxis\":\"y2\",\"type\":\"box\"}],                        {\"template\":{\"data\":{\"bar\":[{\"error_x\":{\"color\":\"#2a3f5f\"},\"error_y\":{\"color\":\"#2a3f5f\"},\"marker\":{\"line\":{\"color\":\"#E5ECF6\",\"width\":0.5},\"pattern\":{\"fillmode\":\"overlay\",\"size\":10,\"solidity\":0.2}},\"type\":\"bar\"}],\"barpolar\":[{\"marker\":{\"line\":{\"color\":\"#E5ECF6\",\"width\":0.5},\"pattern\":{\"fillmode\":\"overlay\",\"size\":10,\"solidity\":0.2}},\"type\":\"barpolar\"}],\"carpet\":[{\"aaxis\":{\"endlinecolor\":\"#2a3f5f\",\"gridcolor\":\"white\",\"linecolor\":\"white\",\"minorgridcolor\":\"white\",\"startlinecolor\":\"#2a3f5f\"},\"baxis\":{\"endlinecolor\":\"#2a3f5f\",\"gridcolor\":\"white\",\"linecolor\":\"white\",\"minorgridcolor\":\"white\",\"startlinecolor\":\"#2a3f5f\"},\"type\":\"carpet\"}],\"choropleth\":[{\"colorbar\":{\"outlinewidth\":0,\"ticks\":\"\"},\"type\":\"choropleth\"}],\"contour\":[{\"colorbar\":{\"outlinewidth\":0,\"ticks\":\"\"},\"colorscale\":[[0.0,\"#0d0887\"],[0.1111111111111111,\"#46039f\"],[0.2222222222222222,\"#7201a8\"],[0.3333333333333333,\"#9c179e\"],[0.4444444444444444,\"#bd3786\"],[0.5555555555555556,\"#d8576b\"],[0.6666666666666666,\"#ed7953\"],[0.7777777777777778,\"#fb9f3a\"],[0.8888888888888888,\"#fdca26\"],[1.0,\"#f0f921\"]],\"type\":\"contour\"}],\"contourcarpet\":[{\"colorbar\":{\"outlinewidth\":0,\"ticks\":\"\"},\"type\":\"contourcarpet\"}],\"heatmap\":[{\"colorbar\":{\"outlinewidth\":0,\"ticks\":\"\"},\"colorscale\":[[0.0,\"#0d0887\"],[0.1111111111111111,\"#46039f\"],[0.2222222222222222,\"#7201a8\"],[0.3333333333333333,\"#9c179e\"],[0.4444444444444444,\"#bd3786\"],[0.5555555555555556,\"#d8576b\"],[0.6666666666666666,\"#ed7953\"],[0.7777777777777778,\"#fb9f3a\"],[0.8888888888888888,\"#fdca26\"],[1.0,\"#f0f921\"]],\"type\":\"heatmap\"}],\"heatmapgl\":[{\"colorbar\":{\"outlinewidth\":0,\"ticks\":\"\"},\"colorscale\":[[0.0,\"#0d0887\"],[0.1111111111111111,\"#46039f\"],[0.2222222222222222,\"#7201a8\"],[0.3333333333333333,\"#9c179e\"],[0.4444444444444444,\"#bd3786\"],[0.5555555555555556,\"#d8576b\"],[0.6666666666666666,\"#ed7953\"],[0.7777777777777778,\"#fb9f3a\"],[0.8888888888888888,\"#fdca26\"],[1.0,\"#f0f921\"]],\"type\":\"heatmapgl\"}],\"histogram\":[{\"marker\":{\"pattern\":{\"fillmode\":\"overlay\",\"size\":10,\"solidity\":0.2}},\"type\":\"histogram\"}],\"histogram2d\":[{\"colorbar\":{\"outlinewidth\":0,\"ticks\":\"\"},\"colorscale\":[[0.0,\"#0d0887\"],[0.1111111111111111,\"#46039f\"],[0.2222222222222222,\"#7201a8\"],[0.3333333333333333,\"#9c179e\"],[0.4444444444444444,\"#bd3786\"],[0.5555555555555556,\"#d8576b\"],[0.6666666666666666,\"#ed7953\"],[0.7777777777777778,\"#fb9f3a\"],[0.8888888888888888,\"#fdca26\"],[1.0,\"#f0f921\"]],\"type\":\"histogram2d\"}],\"histogram2dcontour\":[{\"colorbar\":{\"outlinewidth\":0,\"ticks\":\"\"},\"colorscale\":[[0.0,\"#0d0887\"],[0.1111111111111111,\"#46039f\"],[0.2222222222222222,\"#7201a8\"],[0.3333333333333333,\"#9c179e\"],[0.4444444444444444,\"#bd3786\"],[0.5555555555555556,\"#d8576b\"],[0.6666666666666666,\"#ed7953\"],[0.7777777777777778,\"#fb9f3a\"],[0.8888888888888888,\"#fdca26\"],[1.0,\"#f0f921\"]],\"type\":\"histogram2dcontour\"}],\"mesh3d\":[{\"colorbar\":{\"outlinewidth\":0,\"ticks\":\"\"},\"type\":\"mesh3d\"}],\"parcoords\":[{\"line\":{\"colorbar\":{\"outlinewidth\":0,\"ticks\":\"\"}},\"type\":\"parcoords\"}],\"pie\":[{\"automargin\":true,\"type\":\"pie\"}],\"scatter\":[{\"marker\":{\"colorbar\":{\"outlinewidth\":0,\"ticks\":\"\"}},\"type\":\"scatter\"}],\"scatter3d\":[{\"line\":{\"colorbar\":{\"outlinewidth\":0,\"ticks\":\"\"}},\"marker\":{\"colorbar\":{\"outlinewidth\":0,\"ticks\":\"\"}},\"type\":\"scatter3d\"}],\"scattercarpet\":[{\"marker\":{\"colorbar\":{\"outlinewidth\":0,\"ticks\":\"\"}},\"type\":\"scattercarpet\"}],\"scattergeo\":[{\"marker\":{\"colorbar\":{\"outlinewidth\":0,\"ticks\":\"\"}},\"type\":\"scattergeo\"}],\"scattergl\":[{\"marker\":{\"colorbar\":{\"outlinewidth\":0,\"ticks\":\"\"}},\"type\":\"scattergl\"}],\"scattermapbox\":[{\"marker\":{\"colorbar\":{\"outlinewidth\":0,\"ticks\":\"\"}},\"type\":\"scattermapbox\"}],\"scatterpolar\":[{\"marker\":{\"colorbar\":{\"outlinewidth\":0,\"ticks\":\"\"}},\"type\":\"scatterpolar\"}],\"scatterpolargl\":[{\"marker\":{\"colorbar\":{\"outlinewidth\":0,\"ticks\":\"\"}},\"type\":\"scatterpolargl\"}],\"scatterternary\":[{\"marker\":{\"colorbar\":{\"outlinewidth\":0,\"ticks\":\"\"}},\"type\":\"scatterternary\"}],\"surface\":[{\"colorbar\":{\"outlinewidth\":0,\"ticks\":\"\"},\"colorscale\":[[0.0,\"#0d0887\"],[0.1111111111111111,\"#46039f\"],[0.2222222222222222,\"#7201a8\"],[0.3333333333333333,\"#9c179e\"],[0.4444444444444444,\"#bd3786\"],[0.5555555555555556,\"#d8576b\"],[0.6666666666666666,\"#ed7953\"],[0.7777777777777778,\"#fb9f3a\"],[0.8888888888888888,\"#fdca26\"],[1.0,\"#f0f921\"]],\"type\":\"surface\"}],\"table\":[{\"cells\":{\"fill\":{\"color\":\"#EBF0F8\"},\"line\":{\"color\":\"white\"}},\"header\":{\"fill\":{\"color\":\"#C8D4E3\"},\"line\":{\"color\":\"white\"}},\"type\":\"table\"}]},\"layout\":{\"annotationdefaults\":{\"arrowcolor\":\"#2a3f5f\",\"arrowhead\":0,\"arrowwidth\":1},\"autotypenumbers\":\"strict\",\"coloraxis\":{\"colorbar\":{\"outlinewidth\":0,\"ticks\":\"\"}},\"colorscale\":{\"diverging\":[[0,\"#8e0152\"],[0.1,\"#c51b7d\"],[0.2,\"#de77ae\"],[0.3,\"#f1b6da\"],[0.4,\"#fde0ef\"],[0.5,\"#f7f7f7\"],[0.6,\"#e6f5d0\"],[0.7,\"#b8e186\"],[0.8,\"#7fbc41\"],[0.9,\"#4d9221\"],[1,\"#276419\"]],\"sequential\":[[0.0,\"#0d0887\"],[0.1111111111111111,\"#46039f\"],[0.2222222222222222,\"#7201a8\"],[0.3333333333333333,\"#9c179e\"],[0.4444444444444444,\"#bd3786\"],[0.5555555555555556,\"#d8576b\"],[0.6666666666666666,\"#ed7953\"],[0.7777777777777778,\"#fb9f3a\"],[0.8888888888888888,\"#fdca26\"],[1.0,\"#f0f921\"]],\"sequentialminus\":[[0.0,\"#0d0887\"],[0.1111111111111111,\"#46039f\"],[0.2222222222222222,\"#7201a8\"],[0.3333333333333333,\"#9c179e\"],[0.4444444444444444,\"#bd3786\"],[0.5555555555555556,\"#d8576b\"],[0.6666666666666666,\"#ed7953\"],[0.7777777777777778,\"#fb9f3a\"],[0.8888888888888888,\"#fdca26\"],[1.0,\"#f0f921\"]]},\"colorway\":[\"#636efa\",\"#EF553B\",\"#00cc96\",\"#ab63fa\",\"#FFA15A\",\"#19d3f3\",\"#FF6692\",\"#B6E880\",\"#FF97FF\",\"#FECB52\"],\"font\":{\"color\":\"#2a3f5f\"},\"geo\":{\"bgcolor\":\"white\",\"lakecolor\":\"white\",\"landcolor\":\"#E5ECF6\",\"showlakes\":true,\"showland\":true,\"subunitcolor\":\"white\"},\"hoverlabel\":{\"align\":\"left\"},\"hovermode\":\"closest\",\"mapbox\":{\"style\":\"light\"},\"paper_bgcolor\":\"white\",\"plot_bgcolor\":\"#E5ECF6\",\"polar\":{\"angularaxis\":{\"gridcolor\":\"white\",\"linecolor\":\"white\",\"ticks\":\"\"},\"bgcolor\":\"#E5ECF6\",\"radialaxis\":{\"gridcolor\":\"white\",\"linecolor\":\"white\",\"ticks\":\"\"}},\"scene\":{\"xaxis\":{\"backgroundcolor\":\"#E5ECF6\",\"gridcolor\":\"white\",\"gridwidth\":2,\"linecolor\":\"white\",\"showbackground\":true,\"ticks\":\"\",\"zerolinecolor\":\"white\"},\"yaxis\":{\"backgroundcolor\":\"#E5ECF6\",\"gridcolor\":\"white\",\"gridwidth\":2,\"linecolor\":\"white\",\"showbackground\":true,\"ticks\":\"\",\"zerolinecolor\":\"white\"},\"zaxis\":{\"backgroundcolor\":\"#E5ECF6\",\"gridcolor\":\"white\",\"gridwidth\":2,\"linecolor\":\"white\",\"showbackground\":true,\"ticks\":\"\",\"zerolinecolor\":\"white\"}},\"shapedefaults\":{\"line\":{\"color\":\"#2a3f5f\"}},\"ternary\":{\"aaxis\":{\"gridcolor\":\"white\",\"linecolor\":\"white\",\"ticks\":\"\"},\"baxis\":{\"gridcolor\":\"white\",\"linecolor\":\"white\",\"ticks\":\"\"},\"bgcolor\":\"#E5ECF6\",\"caxis\":{\"gridcolor\":\"white\",\"linecolor\":\"white\",\"ticks\":\"\"}},\"title\":{\"x\":0.05},\"xaxis\":{\"automargin\":true,\"gridcolor\":\"white\",\"linecolor\":\"white\",\"ticks\":\"\",\"title\":{\"standoff\":15},\"zerolinecolor\":\"white\",\"zerolinewidth\":2},\"yaxis\":{\"automargin\":true,\"gridcolor\":\"white\",\"linecolor\":\"white\",\"ticks\":\"\",\"title\":{\"standoff\":15},\"zerolinecolor\":\"white\",\"zerolinewidth\":2}}},\"xaxis\":{\"anchor\":\"y\",\"domain\":[0.0,1.0],\"title\":{\"text\":\"temperature_value\"}},\"yaxis\":{\"anchor\":\"x\",\"domain\":[0.0,0.8316],\"title\":{\"text\":\"count\"}},\"xaxis2\":{\"anchor\":\"y2\",\"domain\":[0.0,1.0],\"matches\":\"x\",\"showticklabels\":false,\"showgrid\":true},\"yaxis2\":{\"anchor\":\"x2\",\"domain\":[0.8416,1.0],\"matches\":\"y2\",\"showticklabels\":false,\"showline\":false,\"ticks\":\"\",\"showgrid\":false},\"legend\":{\"tracegroupgap\":0},\"title\":{\"text\":\"temperature_value Distribution\"},\"barmode\":\"relative\",\"bargap\":0.1},                        {\"responsive\": true}                    ).then(function(){\n",
       "                            \n",
       "var gd = document.getElementById('27ed6017-aabb-4eb8-a061-00ebb91196c3');\n",
       "var x = new MutationObserver(function (mutations, observer) {{\n",
       "        var display = window.getComputedStyle(gd).display;\n",
       "        if (!display || display === 'none') {{\n",
       "            console.log([gd, 'removed!']);\n",
       "            Plotly.purge(gd);\n",
       "            observer.disconnect();\n",
       "        }}\n",
       "}});\n",
       "\n",
       "// Listen for the removal of the full notebook cells\n",
       "var notebookContainer = gd.closest('#notebook-container');\n",
       "if (notebookContainer) {{\n",
       "    x.observe(notebookContainer, {childList: true});\n",
       "}}\n",
       "\n",
       "// Listen for the clearing of the current output cell\n",
       "var outputEl = gd.closest('.output');\n",
       "if (outputEl) {{\n",
       "    x.observe(outputEl, {childList: true});\n",
       "}}\n",
       "\n",
       "                        })                };                });            </script>        </div>"
      ]
     },
     "metadata": {},
     "output_type": "display_data"
    },
    {
     "data": {
      "text/html": [
       "<div>                            <div id=\"3d7c3bd5-4037-483f-af7c-46a60d337888\" class=\"plotly-graph-div\" style=\"height:525px; width:100%;\"></div>            <script type=\"text/javascript\">                require([\"plotly\"], function(Plotly) {                    window.PLOTLYENV=window.PLOTLYENV || {};                                    if (document.getElementById(\"3d7c3bd5-4037-483f-af7c-46a60d337888\")) {                    Plotly.newPlot(                        \"3d7c3bd5-4037-483f-af7c-46a60d337888\",                        [{\"alignmentgroup\":\"True\",\"bingroup\":\"x\",\"hovertemplate\":\"humidity=%{x}<br>count=%{y}<extra></extra>\",\"legendgroup\":\"\",\"marker\":{\"color\":\"#636efa\",\"pattern\":{\"shape\":\"\"}},\"name\":\"\",\"offsetgroup\":\"\",\"orientation\":\"v\",\"showlegend\":false,\"x\":[0.69,0.7,0.61,0.84,0.9,0.83,0.89,0.96,0.88,0.82,0.67,0.33,0.82,0.63,0.61,1.0,0.63,0.64,0.97,0.62,0.62,0.69,0.59,0.58,0.73,0.78,0.77,0.83,0.74,0.66,0.61,0.73,0.78,0.81,0.64,0.7,0.48,0.48,0.5,0.57,0.78,0.68,0.46,0.46,0.41,0.41,0.46,0.91,0.92,0.89,0.69,0.92,0.88,0.57,0.55,0.9,0.75,0.86,0.54,0.6,0.77,0.64,0.53,0.64,0.58,0.62,0.45,0.89,0.94,0.84,0.84,0.92,0.9,0.7,0.67,0.81,0.8,0.89,0.84,0.67,0.74,0.78,0.74,0.93,0.86,1.0,1.0,0.93,0.98,0.99,0.7,0.8,0.94,0.93,0.87,0.85,0.82,0.75,0.77,0.73,0.76,0.83,0.85,0.88,0.9,0.89,0.65,0.99,0.97,0.87,0.93,0.64,0.92,0.75,0.99,0.96,0.91,0.75,0.81,0.92,0.91,0.79,0.81,0.84,0.83,0.83,0.78,0.83,0.82,0.83,0.85,0.96,0.91,0.73,0.91,0.93,0.81,0.72,0.8,0.45,0.53,0.57,0.57,0.55,0.71,0.52,0.97,0.91,0.41,0.69,0.83,0.86,0.43,0.36,0.39,0.39,0.38,0.29,0.29,0.31,0.35,0.38,0.6,0.38,0.3,0.33,0.38,0.35,0.34,0.33,0.35,0.46,0.34,0.66,0.54,0.71,0.66,0.8,0.33,0.35,0.53,0.71,0.69,0.85,0.83,0.39,0.89,0.77,0.69,0.89,0.64,0.6,0.6,0.75,0.69,0.91,0.85,0.76,0.77,0.81,0.85,0.82,0.63,0.74,0.58,0.57,0.49,0.54,0.59,0.63,0.89,0.59,0.55,0.54,0.67,0.72,0.76,0.87,0.88,0.88,0.88,0.82,0.77,0.86,0.76,0.76,0.94,0.94,0.89,0.9,0.92,0.9,0.72,0.69,0.74,0.76,0.73,0.72,0.72,0.71,0.7,0.95,0.87,0.69,0.71,0.71,0.71,0.68,0.98,0.98,0.95,0.94,0.94,0.87,0.9,0.89,0.88,0.86,0.86,0.98,0.92,0.88,0.91,0.92,0.98,0.97,0.92,0.91,0.94,0.99,0.9,0.93,0.92,0.83,0.82,0.82,0.82,0.82,0.86,0.92,0.9,0.87,0.88,0.91,0.88,0.88,0.79,0.94,0.99,0.94,0.99,0.86,0.86,0.9,0.87,0.86,0.85,0.85,0.8,0.92,0.87,0.77,0.78,0.79,0.8,0.85,0.83,0.78,0.77,0.77,0.9,0.91,0.87,0.92,0.83,0.84,0.98,0.9,0.94,0.85,0.82,0.86,0.8,0.58,0.64,0.71,0.75,0.8,0.83,0.86,0.9,0.89,0.64,0.79,0.82,0.72,0.5,0.25,0.77,0.62,0.52,0.5,0.38,0.37,0.8,0.84,0.43,0.34,0.71,0.64,0.4,0.62,0.9,0.93,0.72,0.91,0.88,0.69,0.77,0.52,0.68,0.32,0.87,0.58,0.58,0.59,0.73,0.79,0.9,0.59,0.74,0.7,0.65,0.62,0.56,0.56,0.7,0.7,0.68,0.67,0.67,0.57,0.62,0.7,0.74,0.52,0.72,0.77,0.55,0.73,0.63,0.54,0.84,0.7,0.61,0.64,0.8,0.83,0.57,0.66,0.44,0.96,0.96,0.96,0.96,0.71,0.66,0.65,0.66,0.8,0.67,0.72,0.81,0.9,0.78,0.65,0.55,0.93,0.94,0.79,0.58,0.7,0.86,0.68,0.73,0.73,0.74,0.59,0.65,0.95,0.9,0.91,0.92,0.96,0.96,0.89,0.95,0.99,0.99,0.93,0.8,0.82,0.82,0.82,0.86,0.9,0.94,0.92,0.92,0.92,0.94,0.96,0.96,0.96,0.96,0.98,0.97,0.98,0.99,0.92,0.9,0.95,0.92,0.93,0.92,0.93,0.93,0.93,0.92,0.92,0.88,0.86,0.81,0.88,0.88,0.89,0.9,0.91,0.98,0.94,0.93,0.9,0.93,0.91,0.83,0.94,0.84,0.98,0.9,0.88,0.87,0.95,0.96,0.92,0.92,0.86,0.92,0.96,0.95,0.88,0.87,0.82,0.83,0.82,0.93,0.89,0.89,0.98,0.95,0.86,0.8,0.84,0.94,0.91,0.94,0.93,0.94,0.94,0.96,0.98,0.95,0.93,0.82,0.79,0.82,0.93,0.89,0.92,0.92,0.96,0.92,0.94,0.99,0.97,0.92,0.89,0.9,0.88,0.77,0.76,0.77,0.92,0.98,0.95,0.94,0.83,0.93,0.95,0.94,0.93,0.86,0.9,0.89,0.88,0.87,0.89,0.83,0.84,0.86,0.83,0.81,0.8,0.79,0.8,0.93,0.9,0.92,0.89,0.92,0.85,0.86,0.91,0.89,0.85,0.87,0.98,0.98,0.89,0.89,0.91,0.9,0.89,0.82,0.84,0.91,0.93,0.95,0.88,0.84,0.85,0.82,0.85,0.87,0.87,0.88,0.92,0.91,0.89,0.89,0.86,0.61,0.81,0.88,0.9,0.76,0.78,0.79,0.8,0.81,0.85,0.83,0.84,0.87,0.76,0.91,0.87,0.84,0.87,0.88,0.8,0.83,0.74,0.77,0.69,0.7,0.82,0.81,0.76,0.83,0.73,0.75,0.72,0.72,0.69,0.59,0.66,0.73,0.75,0.74,0.79,0.89,1.0,0.95,0.6,0.59,0.54,0.49,0.49,0.61,0.64,0.87,0.82,0.95,0.77,0.72,0.64,0.9,0.78,0.42,0.3,0.95,0.65,0.52,0.62,0.78,0.64,0.6,0.32,0.28,0.34,0.75,0.69,0.45,0.39,0.62,0.76,0.68,0.77],\"xaxis\":\"x\",\"yaxis\":\"y\",\"type\":\"histogram\"},{\"alignmentgroup\":\"True\",\"hovertemplate\":\"humidity=%{x}<extra></extra>\",\"legendgroup\":\"\",\"marker\":{\"color\":\"#636efa\"},\"name\":\"\",\"notched\":true,\"offsetgroup\":\"\",\"showlegend\":false,\"x\":[0.69,0.7,0.61,0.84,0.9,0.83,0.89,0.96,0.88,0.82,0.67,0.33,0.82,0.63,0.61,1.0,0.63,0.64,0.97,0.62,0.62,0.69,0.59,0.58,0.73,0.78,0.77,0.83,0.74,0.66,0.61,0.73,0.78,0.81,0.64,0.7,0.48,0.48,0.5,0.57,0.78,0.68,0.46,0.46,0.41,0.41,0.46,0.91,0.92,0.89,0.69,0.92,0.88,0.57,0.55,0.9,0.75,0.86,0.54,0.6,0.77,0.64,0.53,0.64,0.58,0.62,0.45,0.89,0.94,0.84,0.84,0.92,0.9,0.7,0.67,0.81,0.8,0.89,0.84,0.67,0.74,0.78,0.74,0.93,0.86,1.0,1.0,0.93,0.98,0.99,0.7,0.8,0.94,0.93,0.87,0.85,0.82,0.75,0.77,0.73,0.76,0.83,0.85,0.88,0.9,0.89,0.65,0.99,0.97,0.87,0.93,0.64,0.92,0.75,0.99,0.96,0.91,0.75,0.81,0.92,0.91,0.79,0.81,0.84,0.83,0.83,0.78,0.83,0.82,0.83,0.85,0.96,0.91,0.73,0.91,0.93,0.81,0.72,0.8,0.45,0.53,0.57,0.57,0.55,0.71,0.52,0.97,0.91,0.41,0.69,0.83,0.86,0.43,0.36,0.39,0.39,0.38,0.29,0.29,0.31,0.35,0.38,0.6,0.38,0.3,0.33,0.38,0.35,0.34,0.33,0.35,0.46,0.34,0.66,0.54,0.71,0.66,0.8,0.33,0.35,0.53,0.71,0.69,0.85,0.83,0.39,0.89,0.77,0.69,0.89,0.64,0.6,0.6,0.75,0.69,0.91,0.85,0.76,0.77,0.81,0.85,0.82,0.63,0.74,0.58,0.57,0.49,0.54,0.59,0.63,0.89,0.59,0.55,0.54,0.67,0.72,0.76,0.87,0.88,0.88,0.88,0.82,0.77,0.86,0.76,0.76,0.94,0.94,0.89,0.9,0.92,0.9,0.72,0.69,0.74,0.76,0.73,0.72,0.72,0.71,0.7,0.95,0.87,0.69,0.71,0.71,0.71,0.68,0.98,0.98,0.95,0.94,0.94,0.87,0.9,0.89,0.88,0.86,0.86,0.98,0.92,0.88,0.91,0.92,0.98,0.97,0.92,0.91,0.94,0.99,0.9,0.93,0.92,0.83,0.82,0.82,0.82,0.82,0.86,0.92,0.9,0.87,0.88,0.91,0.88,0.88,0.79,0.94,0.99,0.94,0.99,0.86,0.86,0.9,0.87,0.86,0.85,0.85,0.8,0.92,0.87,0.77,0.78,0.79,0.8,0.85,0.83,0.78,0.77,0.77,0.9,0.91,0.87,0.92,0.83,0.84,0.98,0.9,0.94,0.85,0.82,0.86,0.8,0.58,0.64,0.71,0.75,0.8,0.83,0.86,0.9,0.89,0.64,0.79,0.82,0.72,0.5,0.25,0.77,0.62,0.52,0.5,0.38,0.37,0.8,0.84,0.43,0.34,0.71,0.64,0.4,0.62,0.9,0.93,0.72,0.91,0.88,0.69,0.77,0.52,0.68,0.32,0.87,0.58,0.58,0.59,0.73,0.79,0.9,0.59,0.74,0.7,0.65,0.62,0.56,0.56,0.7,0.7,0.68,0.67,0.67,0.57,0.62,0.7,0.74,0.52,0.72,0.77,0.55,0.73,0.63,0.54,0.84,0.7,0.61,0.64,0.8,0.83,0.57,0.66,0.44,0.96,0.96,0.96,0.96,0.71,0.66,0.65,0.66,0.8,0.67,0.72,0.81,0.9,0.78,0.65,0.55,0.93,0.94,0.79,0.58,0.7,0.86,0.68,0.73,0.73,0.74,0.59,0.65,0.95,0.9,0.91,0.92,0.96,0.96,0.89,0.95,0.99,0.99,0.93,0.8,0.82,0.82,0.82,0.86,0.9,0.94,0.92,0.92,0.92,0.94,0.96,0.96,0.96,0.96,0.98,0.97,0.98,0.99,0.92,0.9,0.95,0.92,0.93,0.92,0.93,0.93,0.93,0.92,0.92,0.88,0.86,0.81,0.88,0.88,0.89,0.9,0.91,0.98,0.94,0.93,0.9,0.93,0.91,0.83,0.94,0.84,0.98,0.9,0.88,0.87,0.95,0.96,0.92,0.92,0.86,0.92,0.96,0.95,0.88,0.87,0.82,0.83,0.82,0.93,0.89,0.89,0.98,0.95,0.86,0.8,0.84,0.94,0.91,0.94,0.93,0.94,0.94,0.96,0.98,0.95,0.93,0.82,0.79,0.82,0.93,0.89,0.92,0.92,0.96,0.92,0.94,0.99,0.97,0.92,0.89,0.9,0.88,0.77,0.76,0.77,0.92,0.98,0.95,0.94,0.83,0.93,0.95,0.94,0.93,0.86,0.9,0.89,0.88,0.87,0.89,0.83,0.84,0.86,0.83,0.81,0.8,0.79,0.8,0.93,0.9,0.92,0.89,0.92,0.85,0.86,0.91,0.89,0.85,0.87,0.98,0.98,0.89,0.89,0.91,0.9,0.89,0.82,0.84,0.91,0.93,0.95,0.88,0.84,0.85,0.82,0.85,0.87,0.87,0.88,0.92,0.91,0.89,0.89,0.86,0.61,0.81,0.88,0.9,0.76,0.78,0.79,0.8,0.81,0.85,0.83,0.84,0.87,0.76,0.91,0.87,0.84,0.87,0.88,0.8,0.83,0.74,0.77,0.69,0.7,0.82,0.81,0.76,0.83,0.73,0.75,0.72,0.72,0.69,0.59,0.66,0.73,0.75,0.74,0.79,0.89,1.0,0.95,0.6,0.59,0.54,0.49,0.49,0.61,0.64,0.87,0.82,0.95,0.77,0.72,0.64,0.9,0.78,0.42,0.3,0.95,0.65,0.52,0.62,0.78,0.64,0.6,0.32,0.28,0.34,0.75,0.69,0.45,0.39,0.62,0.76,0.68,0.77],\"xaxis\":\"x2\",\"yaxis\":\"y2\",\"type\":\"box\"}],                        {\"template\":{\"data\":{\"bar\":[{\"error_x\":{\"color\":\"#2a3f5f\"},\"error_y\":{\"color\":\"#2a3f5f\"},\"marker\":{\"line\":{\"color\":\"#E5ECF6\",\"width\":0.5},\"pattern\":{\"fillmode\":\"overlay\",\"size\":10,\"solidity\":0.2}},\"type\":\"bar\"}],\"barpolar\":[{\"marker\":{\"line\":{\"color\":\"#E5ECF6\",\"width\":0.5},\"pattern\":{\"fillmode\":\"overlay\",\"size\":10,\"solidity\":0.2}},\"type\":\"barpolar\"}],\"carpet\":[{\"aaxis\":{\"endlinecolor\":\"#2a3f5f\",\"gridcolor\":\"white\",\"linecolor\":\"white\",\"minorgridcolor\":\"white\",\"startlinecolor\":\"#2a3f5f\"},\"baxis\":{\"endlinecolor\":\"#2a3f5f\",\"gridcolor\":\"white\",\"linecolor\":\"white\",\"minorgridcolor\":\"white\",\"startlinecolor\":\"#2a3f5f\"},\"type\":\"carpet\"}],\"choropleth\":[{\"colorbar\":{\"outlinewidth\":0,\"ticks\":\"\"},\"type\":\"choropleth\"}],\"contour\":[{\"colorbar\":{\"outlinewidth\":0,\"ticks\":\"\"},\"colorscale\":[[0.0,\"#0d0887\"],[0.1111111111111111,\"#46039f\"],[0.2222222222222222,\"#7201a8\"],[0.3333333333333333,\"#9c179e\"],[0.4444444444444444,\"#bd3786\"],[0.5555555555555556,\"#d8576b\"],[0.6666666666666666,\"#ed7953\"],[0.7777777777777778,\"#fb9f3a\"],[0.8888888888888888,\"#fdca26\"],[1.0,\"#f0f921\"]],\"type\":\"contour\"}],\"contourcarpet\":[{\"colorbar\":{\"outlinewidth\":0,\"ticks\":\"\"},\"type\":\"contourcarpet\"}],\"heatmap\":[{\"colorbar\":{\"outlinewidth\":0,\"ticks\":\"\"},\"colorscale\":[[0.0,\"#0d0887\"],[0.1111111111111111,\"#46039f\"],[0.2222222222222222,\"#7201a8\"],[0.3333333333333333,\"#9c179e\"],[0.4444444444444444,\"#bd3786\"],[0.5555555555555556,\"#d8576b\"],[0.6666666666666666,\"#ed7953\"],[0.7777777777777778,\"#fb9f3a\"],[0.8888888888888888,\"#fdca26\"],[1.0,\"#f0f921\"]],\"type\":\"heatmap\"}],\"heatmapgl\":[{\"colorbar\":{\"outlinewidth\":0,\"ticks\":\"\"},\"colorscale\":[[0.0,\"#0d0887\"],[0.1111111111111111,\"#46039f\"],[0.2222222222222222,\"#7201a8\"],[0.3333333333333333,\"#9c179e\"],[0.4444444444444444,\"#bd3786\"],[0.5555555555555556,\"#d8576b\"],[0.6666666666666666,\"#ed7953\"],[0.7777777777777778,\"#fb9f3a\"],[0.8888888888888888,\"#fdca26\"],[1.0,\"#f0f921\"]],\"type\":\"heatmapgl\"}],\"histogram\":[{\"marker\":{\"pattern\":{\"fillmode\":\"overlay\",\"size\":10,\"solidity\":0.2}},\"type\":\"histogram\"}],\"histogram2d\":[{\"colorbar\":{\"outlinewidth\":0,\"ticks\":\"\"},\"colorscale\":[[0.0,\"#0d0887\"],[0.1111111111111111,\"#46039f\"],[0.2222222222222222,\"#7201a8\"],[0.3333333333333333,\"#9c179e\"],[0.4444444444444444,\"#bd3786\"],[0.5555555555555556,\"#d8576b\"],[0.6666666666666666,\"#ed7953\"],[0.7777777777777778,\"#fb9f3a\"],[0.8888888888888888,\"#fdca26\"],[1.0,\"#f0f921\"]],\"type\":\"histogram2d\"}],\"histogram2dcontour\":[{\"colorbar\":{\"outlinewidth\":0,\"ticks\":\"\"},\"colorscale\":[[0.0,\"#0d0887\"],[0.1111111111111111,\"#46039f\"],[0.2222222222222222,\"#7201a8\"],[0.3333333333333333,\"#9c179e\"],[0.4444444444444444,\"#bd3786\"],[0.5555555555555556,\"#d8576b\"],[0.6666666666666666,\"#ed7953\"],[0.7777777777777778,\"#fb9f3a\"],[0.8888888888888888,\"#fdca26\"],[1.0,\"#f0f921\"]],\"type\":\"histogram2dcontour\"}],\"mesh3d\":[{\"colorbar\":{\"outlinewidth\":0,\"ticks\":\"\"},\"type\":\"mesh3d\"}],\"parcoords\":[{\"line\":{\"colorbar\":{\"outlinewidth\":0,\"ticks\":\"\"}},\"type\":\"parcoords\"}],\"pie\":[{\"automargin\":true,\"type\":\"pie\"}],\"scatter\":[{\"marker\":{\"colorbar\":{\"outlinewidth\":0,\"ticks\":\"\"}},\"type\":\"scatter\"}],\"scatter3d\":[{\"line\":{\"colorbar\":{\"outlinewidth\":0,\"ticks\":\"\"}},\"marker\":{\"colorbar\":{\"outlinewidth\":0,\"ticks\":\"\"}},\"type\":\"scatter3d\"}],\"scattercarpet\":[{\"marker\":{\"colorbar\":{\"outlinewidth\":0,\"ticks\":\"\"}},\"type\":\"scattercarpet\"}],\"scattergeo\":[{\"marker\":{\"colorbar\":{\"outlinewidth\":0,\"ticks\":\"\"}},\"type\":\"scattergeo\"}],\"scattergl\":[{\"marker\":{\"colorbar\":{\"outlinewidth\":0,\"ticks\":\"\"}},\"type\":\"scattergl\"}],\"scattermapbox\":[{\"marker\":{\"colorbar\":{\"outlinewidth\":0,\"ticks\":\"\"}},\"type\":\"scattermapbox\"}],\"scatterpolar\":[{\"marker\":{\"colorbar\":{\"outlinewidth\":0,\"ticks\":\"\"}},\"type\":\"scatterpolar\"}],\"scatterpolargl\":[{\"marker\":{\"colorbar\":{\"outlinewidth\":0,\"ticks\":\"\"}},\"type\":\"scatterpolargl\"}],\"scatterternary\":[{\"marker\":{\"colorbar\":{\"outlinewidth\":0,\"ticks\":\"\"}},\"type\":\"scatterternary\"}],\"surface\":[{\"colorbar\":{\"outlinewidth\":0,\"ticks\":\"\"},\"colorscale\":[[0.0,\"#0d0887\"],[0.1111111111111111,\"#46039f\"],[0.2222222222222222,\"#7201a8\"],[0.3333333333333333,\"#9c179e\"],[0.4444444444444444,\"#bd3786\"],[0.5555555555555556,\"#d8576b\"],[0.6666666666666666,\"#ed7953\"],[0.7777777777777778,\"#fb9f3a\"],[0.8888888888888888,\"#fdca26\"],[1.0,\"#f0f921\"]],\"type\":\"surface\"}],\"table\":[{\"cells\":{\"fill\":{\"color\":\"#EBF0F8\"},\"line\":{\"color\":\"white\"}},\"header\":{\"fill\":{\"color\":\"#C8D4E3\"},\"line\":{\"color\":\"white\"}},\"type\":\"table\"}]},\"layout\":{\"annotationdefaults\":{\"arrowcolor\":\"#2a3f5f\",\"arrowhead\":0,\"arrowwidth\":1},\"autotypenumbers\":\"strict\",\"coloraxis\":{\"colorbar\":{\"outlinewidth\":0,\"ticks\":\"\"}},\"colorscale\":{\"diverging\":[[0,\"#8e0152\"],[0.1,\"#c51b7d\"],[0.2,\"#de77ae\"],[0.3,\"#f1b6da\"],[0.4,\"#fde0ef\"],[0.5,\"#f7f7f7\"],[0.6,\"#e6f5d0\"],[0.7,\"#b8e186\"],[0.8,\"#7fbc41\"],[0.9,\"#4d9221\"],[1,\"#276419\"]],\"sequential\":[[0.0,\"#0d0887\"],[0.1111111111111111,\"#46039f\"],[0.2222222222222222,\"#7201a8\"],[0.3333333333333333,\"#9c179e\"],[0.4444444444444444,\"#bd3786\"],[0.5555555555555556,\"#d8576b\"],[0.6666666666666666,\"#ed7953\"],[0.7777777777777778,\"#fb9f3a\"],[0.8888888888888888,\"#fdca26\"],[1.0,\"#f0f921\"]],\"sequentialminus\":[[0.0,\"#0d0887\"],[0.1111111111111111,\"#46039f\"],[0.2222222222222222,\"#7201a8\"],[0.3333333333333333,\"#9c179e\"],[0.4444444444444444,\"#bd3786\"],[0.5555555555555556,\"#d8576b\"],[0.6666666666666666,\"#ed7953\"],[0.7777777777777778,\"#fb9f3a\"],[0.8888888888888888,\"#fdca26\"],[1.0,\"#f0f921\"]]},\"colorway\":[\"#636efa\",\"#EF553B\",\"#00cc96\",\"#ab63fa\",\"#FFA15A\",\"#19d3f3\",\"#FF6692\",\"#B6E880\",\"#FF97FF\",\"#FECB52\"],\"font\":{\"color\":\"#2a3f5f\"},\"geo\":{\"bgcolor\":\"white\",\"lakecolor\":\"white\",\"landcolor\":\"#E5ECF6\",\"showlakes\":true,\"showland\":true,\"subunitcolor\":\"white\"},\"hoverlabel\":{\"align\":\"left\"},\"hovermode\":\"closest\",\"mapbox\":{\"style\":\"light\"},\"paper_bgcolor\":\"white\",\"plot_bgcolor\":\"#E5ECF6\",\"polar\":{\"angularaxis\":{\"gridcolor\":\"white\",\"linecolor\":\"white\",\"ticks\":\"\"},\"bgcolor\":\"#E5ECF6\",\"radialaxis\":{\"gridcolor\":\"white\",\"linecolor\":\"white\",\"ticks\":\"\"}},\"scene\":{\"xaxis\":{\"backgroundcolor\":\"#E5ECF6\",\"gridcolor\":\"white\",\"gridwidth\":2,\"linecolor\":\"white\",\"showbackground\":true,\"ticks\":\"\",\"zerolinecolor\":\"white\"},\"yaxis\":{\"backgroundcolor\":\"#E5ECF6\",\"gridcolor\":\"white\",\"gridwidth\":2,\"linecolor\":\"white\",\"showbackground\":true,\"ticks\":\"\",\"zerolinecolor\":\"white\"},\"zaxis\":{\"backgroundcolor\":\"#E5ECF6\",\"gridcolor\":\"white\",\"gridwidth\":2,\"linecolor\":\"white\",\"showbackground\":true,\"ticks\":\"\",\"zerolinecolor\":\"white\"}},\"shapedefaults\":{\"line\":{\"color\":\"#2a3f5f\"}},\"ternary\":{\"aaxis\":{\"gridcolor\":\"white\",\"linecolor\":\"white\",\"ticks\":\"\"},\"baxis\":{\"gridcolor\":\"white\",\"linecolor\":\"white\",\"ticks\":\"\"},\"bgcolor\":\"#E5ECF6\",\"caxis\":{\"gridcolor\":\"white\",\"linecolor\":\"white\",\"ticks\":\"\"}},\"title\":{\"x\":0.05},\"xaxis\":{\"automargin\":true,\"gridcolor\":\"white\",\"linecolor\":\"white\",\"ticks\":\"\",\"title\":{\"standoff\":15},\"zerolinecolor\":\"white\",\"zerolinewidth\":2},\"yaxis\":{\"automargin\":true,\"gridcolor\":\"white\",\"linecolor\":\"white\",\"ticks\":\"\",\"title\":{\"standoff\":15},\"zerolinecolor\":\"white\",\"zerolinewidth\":2}}},\"xaxis\":{\"anchor\":\"y\",\"domain\":[0.0,1.0],\"title\":{\"text\":\"humidity\"}},\"yaxis\":{\"anchor\":\"x\",\"domain\":[0.0,0.8316],\"title\":{\"text\":\"count\"}},\"xaxis2\":{\"anchor\":\"y2\",\"domain\":[0.0,1.0],\"matches\":\"x\",\"showticklabels\":false,\"showgrid\":true},\"yaxis2\":{\"anchor\":\"x2\",\"domain\":[0.8416,1.0],\"matches\":\"y2\",\"showticklabels\":false,\"showline\":false,\"ticks\":\"\",\"showgrid\":false},\"legend\":{\"tracegroupgap\":0},\"title\":{\"text\":\"humidity Distribution\"},\"barmode\":\"relative\",\"bargap\":0.1},                        {\"responsive\": true}                    ).then(function(){\n",
       "                            \n",
       "var gd = document.getElementById('3d7c3bd5-4037-483f-af7c-46a60d337888');\n",
       "var x = new MutationObserver(function (mutations, observer) {{\n",
       "        var display = window.getComputedStyle(gd).display;\n",
       "        if (!display || display === 'none') {{\n",
       "            console.log([gd, 'removed!']);\n",
       "            Plotly.purge(gd);\n",
       "            observer.disconnect();\n",
       "        }}\n",
       "}});\n",
       "\n",
       "// Listen for the removal of the full notebook cells\n",
       "var notebookContainer = gd.closest('#notebook-container');\n",
       "if (notebookContainer) {{\n",
       "    x.observe(notebookContainer, {childList: true});\n",
       "}}\n",
       "\n",
       "// Listen for the clearing of the current output cell\n",
       "var outputEl = gd.closest('.output');\n",
       "if (outputEl) {{\n",
       "    x.observe(outputEl, {childList: true});\n",
       "}}\n",
       "\n",
       "                        })                };                });            </script>        </div>"
      ]
     },
     "metadata": {},
     "output_type": "display_data"
    },
    {
     "data": {
      "text/html": [
       "<div>                            <div id=\"7f12ef20-8bce-4f0d-adcd-da1e8607edb3\" class=\"plotly-graph-div\" style=\"height:525px; width:100%;\"></div>            <script type=\"text/javascript\">                require([\"plotly\"], function(Plotly) {                    window.PLOTLYENV=window.PLOTLYENV || {};                                    if (document.getElementById(\"7f12ef20-8bce-4f0d-adcd-da1e8607edb3\")) {                    Plotly.newPlot(                        \"7f12ef20-8bce-4f0d-adcd-da1e8607edb3\",                        [{\"alignmentgroup\":\"True\",\"bingroup\":\"x\",\"hovertemplate\":\"wind_speed=%{x}<br>count=%{y}<extra></extra>\",\"legendgroup\":\"\",\"marker\":{\"color\":\"#636efa\",\"pattern\":{\"shape\":\"\"}},\"name\":\"\",\"offsetgroup\":\"\",\"orientation\":\"v\",\"showlegend\":false,\"x\":[4.81,6.53,5.25,0.87,1.61,2.73,4.08,3.96,4.64,0.86,4.15,3.18,1.24,5.11,4.9,0.9,1.23,2.77,5.32,3.9,3.51,0.88,1.19,1.11,3.01,1.41,2.79,1.73,4.12,5.75,4.98,5.12,5.75,6.75,8.04,4.6,8.2,8.41,5.98,4.66,3.4,4.26,5.69,6.24,8.13,5.95,3.28,4.7,2.96,2.42,1.88,3.34,3.94,4.13,3.79,3.29,3.96,4.47,5.7,7.4,7.01,7.01,7.01,6.98,5.7,4.01,2.71,1.64,1.14,3.48,4.36,1.75,2.65,5.71,4.53,4.05,3.8,0.54,4.83,4.67,2.54,3.27,2.61,1.99,1.77,3.08,3.06,1.22,0.78,2.64,3.92,2.36,1.34,2.18,3.38,3.37,4.34,4.02,2.33,2.62,5.28,4.06,4.64,6.69,4.73,6.19,4.82,1.06,0.95,3.28,2.45,5.54,1.27,0.7,1.12,1.82,2.3,4.86,6.26,3.3,2.82,8.67,7.5,3.47,1.32,2.05,2.36,1.35,0.39,1.56,0.28,2.76,2.15,4.66,0.79,2.41,2.84,4.38,0.95,2.91,3.12,1.41,1.68,0.27,5.18,3.56,3.52,1.48,3.94,5.29,2.77,2.46,1.8,1.93,1.47,1.33,1.35,3.12,3.0,1.39,1.97,2.32,5.04,0.88,3.31,3.54,2.58,5.3,5.7,5.46,2.86,5.55,4.38,1.68,1.86,1.06,2.42,2.01,3.2,4.18,1.06,1.53,4.0,3.72,1.59,3.49,4.05,3.86,6.34,6.8,1.84,1.9,1.99,2.95,1.16,3.25,2.75,2.73,2.35,2.47,2.78,2.64,2.74,2.35,4.94,3.26,7.53,7.01,4.11,3.97,3.99,1.22,6.95,7.07,2.91,4.63,3.7,4.25,5.55,5.7,3.22,4.62,3.96,1.9,2.53,2.44,1.04,0.96,2.68,1.62,2.9,3.96,5.7,5.73,6.37,5.89,6.83,5.83,7.64,4.49,6.08,1.31,0.91,2.09,2.41,2.75,5.05,4.33,1.75,0.86,5.53,5.73,0.67,1.78,4.89,3.08,5.1,4.07,4.0,4.23,3.63,4.44,6.29,4.73,4.56,4.48,3.08,2.11,2.96,2.63,4.43,4.32,3.68,6.21,5.34,7.56,5.37,6.08,2.57,2.12,3.0,2.86,2.88,1.59,2.72,2.63,2.5,3.21,3.37,4.04,1.12,5.5,4.98,4.99,5.46,3.88,5.21,4.66,4.68,5.07,4.39,0.55,4.17,4.35,5.17,5.58,6.8,7.0,6.47,6.66,4.78,4.61,0.79,7.64,0.39,2.49,2.66,2.28,1.63,1.09,0.98,1.65,6.74,6.0,4.41,2.04,2.05,0.37,0.51,5.33,0.68,0.51,2.74,3.61,5.87,4.48,3.56,3.76,0.47,3.13,4.5,6.21,2.43,1.89,6.63,5.64,3.16,4.13,1.71,1.79,2.74,2.38,3.59,2.14,1.53,4.78,5.12,4.2,4.85,4.57,1.84,4.66,4.73,4.29,4.28,4.2,3.04,2.41,3.31,4.72,4.61,5.53,0.99,0.92,2.55,2.46,4.18,3.59,5.69,4.23,6.87,2.3,1.59,2.87,2.75,2.58,2.32,0.05,4.91,7.97,3.76,2.91,2.14,1.68,3.57,3.99,4.27,4.37,4.2,2.4,2.87,0.45,0.45,0.47,2.23,5.36,3.97,4.05,3.67,3.56,3.83,3.92,2.88,1.1,7.38,4.38,6.47,4.61,0.63,3.06,3.55,1.31,1.43,1.7,2.35,5.08,3.92,3.86,2.45,4.33,6.31,4.1,4.05,2.77,2.83,5.69,1.41,1.83,1.62,1.8,3.63,3.51,6.02,6.46,5.31,3.51,3.39,4.21,3.5,3.48,3.97,3.02,2.96,2.96,2.93,2.4,2.89,2.92,5.69,5.87,3.49,2.53,3.51,3.23,4.29,4.07,3.7,3.59,4.28,4.32,3.83,3.77,4.63,3.93,3.88,3.89,3.9,4.66,5.6,0.63,3.17,3.81,2.48,2.75,3.56,1.43,4.19,4.14,4.47,4.43,4.43,3.63,3.36,1.55,1.48,2.6,0.97,6.55,6.69,6.72,4.17,3.71,4.16,4.74,3.79,3.81,4.16,2.61,1.56,4.14,3.76,2.95,1.48,0.77,0.31,3.57,2.75,4.36,4.74,2.76,2.62,3.51,7.78,8.2,8.02,3.04,5.88,1.63,5.1,5.11,2.86,1.61,3.62,3.08,5.74,4.47,4.96,5.95,8.1,5.0,5.47,3.11,1.62,3.0,4.32,3.5,0.31,0.64,1.1,0.86,2.8,2.25,2.33,2.51,2.96,3.12,3.88,3.63,5.14,6.05,5.49,6.45,5.1,5.02,5.16,2.55,1.54,2.58,0.63,5.07,5.76,6.93,5.22,3.72,3.76,2.58,2.44,2.56,4.13,3.0,3.68,3.92,3.55,3.12,0.38,4.66,1.09,4.29,3.37,4.95,3.02,2.27,2.54,1.95,2.29,1.32,0.28,2.35,2.78,4.0,3.4,1.93,4.84,4.16,2.02,2.38,2.35,2.45,2.42,1.81,3.05,2.52,2.87,1.82,2.3,2.97,3.32,3.08,1.95,1.01,1.45,2.13,3.78,5.32,2.22,2.76,0.29,1.67,3.52,2.06,2.01,3.01,5.34,6.01,3.14,4.09,3.58,3.07,3.48,6.29,4.01,4.18,3.12,5.82,5.97,6.45,5.56,4.36,2.98,4.8,5.62,6.16,4.84,2.65,2.09,1.83,3.99,1.17,2.56,1.47,4.77,1.63,2.81,4.56,3.56,5.15,3.76,2.22,3.69,3.11,3.96,3.83,2.84,2.57,5.37,4.02,4.28,1.56],\"xaxis\":\"x\",\"yaxis\":\"y\",\"type\":\"histogram\"},{\"alignmentgroup\":\"True\",\"hovertemplate\":\"wind_speed=%{x}<extra></extra>\",\"legendgroup\":\"\",\"marker\":{\"color\":\"#636efa\"},\"name\":\"\",\"notched\":true,\"offsetgroup\":\"\",\"showlegend\":false,\"x\":[4.81,6.53,5.25,0.87,1.61,2.73,4.08,3.96,4.64,0.86,4.15,3.18,1.24,5.11,4.9,0.9,1.23,2.77,5.32,3.9,3.51,0.88,1.19,1.11,3.01,1.41,2.79,1.73,4.12,5.75,4.98,5.12,5.75,6.75,8.04,4.6,8.2,8.41,5.98,4.66,3.4,4.26,5.69,6.24,8.13,5.95,3.28,4.7,2.96,2.42,1.88,3.34,3.94,4.13,3.79,3.29,3.96,4.47,5.7,7.4,7.01,7.01,7.01,6.98,5.7,4.01,2.71,1.64,1.14,3.48,4.36,1.75,2.65,5.71,4.53,4.05,3.8,0.54,4.83,4.67,2.54,3.27,2.61,1.99,1.77,3.08,3.06,1.22,0.78,2.64,3.92,2.36,1.34,2.18,3.38,3.37,4.34,4.02,2.33,2.62,5.28,4.06,4.64,6.69,4.73,6.19,4.82,1.06,0.95,3.28,2.45,5.54,1.27,0.7,1.12,1.82,2.3,4.86,6.26,3.3,2.82,8.67,7.5,3.47,1.32,2.05,2.36,1.35,0.39,1.56,0.28,2.76,2.15,4.66,0.79,2.41,2.84,4.38,0.95,2.91,3.12,1.41,1.68,0.27,5.18,3.56,3.52,1.48,3.94,5.29,2.77,2.46,1.8,1.93,1.47,1.33,1.35,3.12,3.0,1.39,1.97,2.32,5.04,0.88,3.31,3.54,2.58,5.3,5.7,5.46,2.86,5.55,4.38,1.68,1.86,1.06,2.42,2.01,3.2,4.18,1.06,1.53,4.0,3.72,1.59,3.49,4.05,3.86,6.34,6.8,1.84,1.9,1.99,2.95,1.16,3.25,2.75,2.73,2.35,2.47,2.78,2.64,2.74,2.35,4.94,3.26,7.53,7.01,4.11,3.97,3.99,1.22,6.95,7.07,2.91,4.63,3.7,4.25,5.55,5.7,3.22,4.62,3.96,1.9,2.53,2.44,1.04,0.96,2.68,1.62,2.9,3.96,5.7,5.73,6.37,5.89,6.83,5.83,7.64,4.49,6.08,1.31,0.91,2.09,2.41,2.75,5.05,4.33,1.75,0.86,5.53,5.73,0.67,1.78,4.89,3.08,5.1,4.07,4.0,4.23,3.63,4.44,6.29,4.73,4.56,4.48,3.08,2.11,2.96,2.63,4.43,4.32,3.68,6.21,5.34,7.56,5.37,6.08,2.57,2.12,3.0,2.86,2.88,1.59,2.72,2.63,2.5,3.21,3.37,4.04,1.12,5.5,4.98,4.99,5.46,3.88,5.21,4.66,4.68,5.07,4.39,0.55,4.17,4.35,5.17,5.58,6.8,7.0,6.47,6.66,4.78,4.61,0.79,7.64,0.39,2.49,2.66,2.28,1.63,1.09,0.98,1.65,6.74,6.0,4.41,2.04,2.05,0.37,0.51,5.33,0.68,0.51,2.74,3.61,5.87,4.48,3.56,3.76,0.47,3.13,4.5,6.21,2.43,1.89,6.63,5.64,3.16,4.13,1.71,1.79,2.74,2.38,3.59,2.14,1.53,4.78,5.12,4.2,4.85,4.57,1.84,4.66,4.73,4.29,4.28,4.2,3.04,2.41,3.31,4.72,4.61,5.53,0.99,0.92,2.55,2.46,4.18,3.59,5.69,4.23,6.87,2.3,1.59,2.87,2.75,2.58,2.32,0.05,4.91,7.97,3.76,2.91,2.14,1.68,3.57,3.99,4.27,4.37,4.2,2.4,2.87,0.45,0.45,0.47,2.23,5.36,3.97,4.05,3.67,3.56,3.83,3.92,2.88,1.1,7.38,4.38,6.47,4.61,0.63,3.06,3.55,1.31,1.43,1.7,2.35,5.08,3.92,3.86,2.45,4.33,6.31,4.1,4.05,2.77,2.83,5.69,1.41,1.83,1.62,1.8,3.63,3.51,6.02,6.46,5.31,3.51,3.39,4.21,3.5,3.48,3.97,3.02,2.96,2.96,2.93,2.4,2.89,2.92,5.69,5.87,3.49,2.53,3.51,3.23,4.29,4.07,3.7,3.59,4.28,4.32,3.83,3.77,4.63,3.93,3.88,3.89,3.9,4.66,5.6,0.63,3.17,3.81,2.48,2.75,3.56,1.43,4.19,4.14,4.47,4.43,4.43,3.63,3.36,1.55,1.48,2.6,0.97,6.55,6.69,6.72,4.17,3.71,4.16,4.74,3.79,3.81,4.16,2.61,1.56,4.14,3.76,2.95,1.48,0.77,0.31,3.57,2.75,4.36,4.74,2.76,2.62,3.51,7.78,8.2,8.02,3.04,5.88,1.63,5.1,5.11,2.86,1.61,3.62,3.08,5.74,4.47,4.96,5.95,8.1,5.0,5.47,3.11,1.62,3.0,4.32,3.5,0.31,0.64,1.1,0.86,2.8,2.25,2.33,2.51,2.96,3.12,3.88,3.63,5.14,6.05,5.49,6.45,5.1,5.02,5.16,2.55,1.54,2.58,0.63,5.07,5.76,6.93,5.22,3.72,3.76,2.58,2.44,2.56,4.13,3.0,3.68,3.92,3.55,3.12,0.38,4.66,1.09,4.29,3.37,4.95,3.02,2.27,2.54,1.95,2.29,1.32,0.28,2.35,2.78,4.0,3.4,1.93,4.84,4.16,2.02,2.38,2.35,2.45,2.42,1.81,3.05,2.52,2.87,1.82,2.3,2.97,3.32,3.08,1.95,1.01,1.45,2.13,3.78,5.32,2.22,2.76,0.29,1.67,3.52,2.06,2.01,3.01,5.34,6.01,3.14,4.09,3.58,3.07,3.48,6.29,4.01,4.18,3.12,5.82,5.97,6.45,5.56,4.36,2.98,4.8,5.62,6.16,4.84,2.65,2.09,1.83,3.99,1.17,2.56,1.47,4.77,1.63,2.81,4.56,3.56,5.15,3.76,2.22,3.69,3.11,3.96,3.83,2.84,2.57,5.37,4.02,4.28,1.56],\"xaxis\":\"x2\",\"yaxis\":\"y2\",\"type\":\"box\"}],                        {\"template\":{\"data\":{\"bar\":[{\"error_x\":{\"color\":\"#2a3f5f\"},\"error_y\":{\"color\":\"#2a3f5f\"},\"marker\":{\"line\":{\"color\":\"#E5ECF6\",\"width\":0.5},\"pattern\":{\"fillmode\":\"overlay\",\"size\":10,\"solidity\":0.2}},\"type\":\"bar\"}],\"barpolar\":[{\"marker\":{\"line\":{\"color\":\"#E5ECF6\",\"width\":0.5},\"pattern\":{\"fillmode\":\"overlay\",\"size\":10,\"solidity\":0.2}},\"type\":\"barpolar\"}],\"carpet\":[{\"aaxis\":{\"endlinecolor\":\"#2a3f5f\",\"gridcolor\":\"white\",\"linecolor\":\"white\",\"minorgridcolor\":\"white\",\"startlinecolor\":\"#2a3f5f\"},\"baxis\":{\"endlinecolor\":\"#2a3f5f\",\"gridcolor\":\"white\",\"linecolor\":\"white\",\"minorgridcolor\":\"white\",\"startlinecolor\":\"#2a3f5f\"},\"type\":\"carpet\"}],\"choropleth\":[{\"colorbar\":{\"outlinewidth\":0,\"ticks\":\"\"},\"type\":\"choropleth\"}],\"contour\":[{\"colorbar\":{\"outlinewidth\":0,\"ticks\":\"\"},\"colorscale\":[[0.0,\"#0d0887\"],[0.1111111111111111,\"#46039f\"],[0.2222222222222222,\"#7201a8\"],[0.3333333333333333,\"#9c179e\"],[0.4444444444444444,\"#bd3786\"],[0.5555555555555556,\"#d8576b\"],[0.6666666666666666,\"#ed7953\"],[0.7777777777777778,\"#fb9f3a\"],[0.8888888888888888,\"#fdca26\"],[1.0,\"#f0f921\"]],\"type\":\"contour\"}],\"contourcarpet\":[{\"colorbar\":{\"outlinewidth\":0,\"ticks\":\"\"},\"type\":\"contourcarpet\"}],\"heatmap\":[{\"colorbar\":{\"outlinewidth\":0,\"ticks\":\"\"},\"colorscale\":[[0.0,\"#0d0887\"],[0.1111111111111111,\"#46039f\"],[0.2222222222222222,\"#7201a8\"],[0.3333333333333333,\"#9c179e\"],[0.4444444444444444,\"#bd3786\"],[0.5555555555555556,\"#d8576b\"],[0.6666666666666666,\"#ed7953\"],[0.7777777777777778,\"#fb9f3a\"],[0.8888888888888888,\"#fdca26\"],[1.0,\"#f0f921\"]],\"type\":\"heatmap\"}],\"heatmapgl\":[{\"colorbar\":{\"outlinewidth\":0,\"ticks\":\"\"},\"colorscale\":[[0.0,\"#0d0887\"],[0.1111111111111111,\"#46039f\"],[0.2222222222222222,\"#7201a8\"],[0.3333333333333333,\"#9c179e\"],[0.4444444444444444,\"#bd3786\"],[0.5555555555555556,\"#d8576b\"],[0.6666666666666666,\"#ed7953\"],[0.7777777777777778,\"#fb9f3a\"],[0.8888888888888888,\"#fdca26\"],[1.0,\"#f0f921\"]],\"type\":\"heatmapgl\"}],\"histogram\":[{\"marker\":{\"pattern\":{\"fillmode\":\"overlay\",\"size\":10,\"solidity\":0.2}},\"type\":\"histogram\"}],\"histogram2d\":[{\"colorbar\":{\"outlinewidth\":0,\"ticks\":\"\"},\"colorscale\":[[0.0,\"#0d0887\"],[0.1111111111111111,\"#46039f\"],[0.2222222222222222,\"#7201a8\"],[0.3333333333333333,\"#9c179e\"],[0.4444444444444444,\"#bd3786\"],[0.5555555555555556,\"#d8576b\"],[0.6666666666666666,\"#ed7953\"],[0.7777777777777778,\"#fb9f3a\"],[0.8888888888888888,\"#fdca26\"],[1.0,\"#f0f921\"]],\"type\":\"histogram2d\"}],\"histogram2dcontour\":[{\"colorbar\":{\"outlinewidth\":0,\"ticks\":\"\"},\"colorscale\":[[0.0,\"#0d0887\"],[0.1111111111111111,\"#46039f\"],[0.2222222222222222,\"#7201a8\"],[0.3333333333333333,\"#9c179e\"],[0.4444444444444444,\"#bd3786\"],[0.5555555555555556,\"#d8576b\"],[0.6666666666666666,\"#ed7953\"],[0.7777777777777778,\"#fb9f3a\"],[0.8888888888888888,\"#fdca26\"],[1.0,\"#f0f921\"]],\"type\":\"histogram2dcontour\"}],\"mesh3d\":[{\"colorbar\":{\"outlinewidth\":0,\"ticks\":\"\"},\"type\":\"mesh3d\"}],\"parcoords\":[{\"line\":{\"colorbar\":{\"outlinewidth\":0,\"ticks\":\"\"}},\"type\":\"parcoords\"}],\"pie\":[{\"automargin\":true,\"type\":\"pie\"}],\"scatter\":[{\"marker\":{\"colorbar\":{\"outlinewidth\":0,\"ticks\":\"\"}},\"type\":\"scatter\"}],\"scatter3d\":[{\"line\":{\"colorbar\":{\"outlinewidth\":0,\"ticks\":\"\"}},\"marker\":{\"colorbar\":{\"outlinewidth\":0,\"ticks\":\"\"}},\"type\":\"scatter3d\"}],\"scattercarpet\":[{\"marker\":{\"colorbar\":{\"outlinewidth\":0,\"ticks\":\"\"}},\"type\":\"scattercarpet\"}],\"scattergeo\":[{\"marker\":{\"colorbar\":{\"outlinewidth\":0,\"ticks\":\"\"}},\"type\":\"scattergeo\"}],\"scattergl\":[{\"marker\":{\"colorbar\":{\"outlinewidth\":0,\"ticks\":\"\"}},\"type\":\"scattergl\"}],\"scattermapbox\":[{\"marker\":{\"colorbar\":{\"outlinewidth\":0,\"ticks\":\"\"}},\"type\":\"scattermapbox\"}],\"scatterpolar\":[{\"marker\":{\"colorbar\":{\"outlinewidth\":0,\"ticks\":\"\"}},\"type\":\"scatterpolar\"}],\"scatterpolargl\":[{\"marker\":{\"colorbar\":{\"outlinewidth\":0,\"ticks\":\"\"}},\"type\":\"scatterpolargl\"}],\"scatterternary\":[{\"marker\":{\"colorbar\":{\"outlinewidth\":0,\"ticks\":\"\"}},\"type\":\"scatterternary\"}],\"surface\":[{\"colorbar\":{\"outlinewidth\":0,\"ticks\":\"\"},\"colorscale\":[[0.0,\"#0d0887\"],[0.1111111111111111,\"#46039f\"],[0.2222222222222222,\"#7201a8\"],[0.3333333333333333,\"#9c179e\"],[0.4444444444444444,\"#bd3786\"],[0.5555555555555556,\"#d8576b\"],[0.6666666666666666,\"#ed7953\"],[0.7777777777777778,\"#fb9f3a\"],[0.8888888888888888,\"#fdca26\"],[1.0,\"#f0f921\"]],\"type\":\"surface\"}],\"table\":[{\"cells\":{\"fill\":{\"color\":\"#EBF0F8\"},\"line\":{\"color\":\"white\"}},\"header\":{\"fill\":{\"color\":\"#C8D4E3\"},\"line\":{\"color\":\"white\"}},\"type\":\"table\"}]},\"layout\":{\"annotationdefaults\":{\"arrowcolor\":\"#2a3f5f\",\"arrowhead\":0,\"arrowwidth\":1},\"autotypenumbers\":\"strict\",\"coloraxis\":{\"colorbar\":{\"outlinewidth\":0,\"ticks\":\"\"}},\"colorscale\":{\"diverging\":[[0,\"#8e0152\"],[0.1,\"#c51b7d\"],[0.2,\"#de77ae\"],[0.3,\"#f1b6da\"],[0.4,\"#fde0ef\"],[0.5,\"#f7f7f7\"],[0.6,\"#e6f5d0\"],[0.7,\"#b8e186\"],[0.8,\"#7fbc41\"],[0.9,\"#4d9221\"],[1,\"#276419\"]],\"sequential\":[[0.0,\"#0d0887\"],[0.1111111111111111,\"#46039f\"],[0.2222222222222222,\"#7201a8\"],[0.3333333333333333,\"#9c179e\"],[0.4444444444444444,\"#bd3786\"],[0.5555555555555556,\"#d8576b\"],[0.6666666666666666,\"#ed7953\"],[0.7777777777777778,\"#fb9f3a\"],[0.8888888888888888,\"#fdca26\"],[1.0,\"#f0f921\"]],\"sequentialminus\":[[0.0,\"#0d0887\"],[0.1111111111111111,\"#46039f\"],[0.2222222222222222,\"#7201a8\"],[0.3333333333333333,\"#9c179e\"],[0.4444444444444444,\"#bd3786\"],[0.5555555555555556,\"#d8576b\"],[0.6666666666666666,\"#ed7953\"],[0.7777777777777778,\"#fb9f3a\"],[0.8888888888888888,\"#fdca26\"],[1.0,\"#f0f921\"]]},\"colorway\":[\"#636efa\",\"#EF553B\",\"#00cc96\",\"#ab63fa\",\"#FFA15A\",\"#19d3f3\",\"#FF6692\",\"#B6E880\",\"#FF97FF\",\"#FECB52\"],\"font\":{\"color\":\"#2a3f5f\"},\"geo\":{\"bgcolor\":\"white\",\"lakecolor\":\"white\",\"landcolor\":\"#E5ECF6\",\"showlakes\":true,\"showland\":true,\"subunitcolor\":\"white\"},\"hoverlabel\":{\"align\":\"left\"},\"hovermode\":\"closest\",\"mapbox\":{\"style\":\"light\"},\"paper_bgcolor\":\"white\",\"plot_bgcolor\":\"#E5ECF6\",\"polar\":{\"angularaxis\":{\"gridcolor\":\"white\",\"linecolor\":\"white\",\"ticks\":\"\"},\"bgcolor\":\"#E5ECF6\",\"radialaxis\":{\"gridcolor\":\"white\",\"linecolor\":\"white\",\"ticks\":\"\"}},\"scene\":{\"xaxis\":{\"backgroundcolor\":\"#E5ECF6\",\"gridcolor\":\"white\",\"gridwidth\":2,\"linecolor\":\"white\",\"showbackground\":true,\"ticks\":\"\",\"zerolinecolor\":\"white\"},\"yaxis\":{\"backgroundcolor\":\"#E5ECF6\",\"gridcolor\":\"white\",\"gridwidth\":2,\"linecolor\":\"white\",\"showbackground\":true,\"ticks\":\"\",\"zerolinecolor\":\"white\"},\"zaxis\":{\"backgroundcolor\":\"#E5ECF6\",\"gridcolor\":\"white\",\"gridwidth\":2,\"linecolor\":\"white\",\"showbackground\":true,\"ticks\":\"\",\"zerolinecolor\":\"white\"}},\"shapedefaults\":{\"line\":{\"color\":\"#2a3f5f\"}},\"ternary\":{\"aaxis\":{\"gridcolor\":\"white\",\"linecolor\":\"white\",\"ticks\":\"\"},\"baxis\":{\"gridcolor\":\"white\",\"linecolor\":\"white\",\"ticks\":\"\"},\"bgcolor\":\"#E5ECF6\",\"caxis\":{\"gridcolor\":\"white\",\"linecolor\":\"white\",\"ticks\":\"\"}},\"title\":{\"x\":0.05},\"xaxis\":{\"automargin\":true,\"gridcolor\":\"white\",\"linecolor\":\"white\",\"ticks\":\"\",\"title\":{\"standoff\":15},\"zerolinecolor\":\"white\",\"zerolinewidth\":2},\"yaxis\":{\"automargin\":true,\"gridcolor\":\"white\",\"linecolor\":\"white\",\"ticks\":\"\",\"title\":{\"standoff\":15},\"zerolinecolor\":\"white\",\"zerolinewidth\":2}}},\"xaxis\":{\"anchor\":\"y\",\"domain\":[0.0,1.0],\"title\":{\"text\":\"wind_speed\"}},\"yaxis\":{\"anchor\":\"x\",\"domain\":[0.0,0.8316],\"title\":{\"text\":\"count\"}},\"xaxis2\":{\"anchor\":\"y2\",\"domain\":[0.0,1.0],\"matches\":\"x\",\"showticklabels\":false,\"showgrid\":true},\"yaxis2\":{\"anchor\":\"x2\",\"domain\":[0.8416,1.0],\"matches\":\"y2\",\"showticklabels\":false,\"showline\":false,\"ticks\":\"\",\"showgrid\":false},\"legend\":{\"tracegroupgap\":0},\"title\":{\"text\":\"wind_speed Distribution\"},\"barmode\":\"relative\",\"bargap\":0.1},                        {\"responsive\": true}                    ).then(function(){\n",
       "                            \n",
       "var gd = document.getElementById('7f12ef20-8bce-4f0d-adcd-da1e8607edb3');\n",
       "var x = new MutationObserver(function (mutations, observer) {{\n",
       "        var display = window.getComputedStyle(gd).display;\n",
       "        if (!display || display === 'none') {{\n",
       "            console.log([gd, 'removed!']);\n",
       "            Plotly.purge(gd);\n",
       "            observer.disconnect();\n",
       "        }}\n",
       "}});\n",
       "\n",
       "// Listen for the removal of the full notebook cells\n",
       "var notebookContainer = gd.closest('#notebook-container');\n",
       "if (notebookContainer) {{\n",
       "    x.observe(notebookContainer, {childList: true});\n",
       "}}\n",
       "\n",
       "// Listen for the clearing of the current output cell\n",
       "var outputEl = gd.closest('.output');\n",
       "if (outputEl) {{\n",
       "    x.observe(outputEl, {childList: true});\n",
       "}}\n",
       "\n",
       "                        })                };                });            </script>        </div>"
      ]
     },
     "metadata": {},
     "output_type": "display_data"
    }
   ],
   "source": [
    "for i in columns:\n",
    "    fig= px.histogram(data_frame=new_df,x=i,marginal='box',\n",
    "                      title='{} Distribution'.format(i))\n",
    "    fig.update_layout(bargap=0.1)\n",
    "    fig.show()\n",
    "    \n",
    "    #In plotly we have update_layout Update the properties of the figure's layout with a dict(dictionary) and/or with keyword arguments.\n",
    "    #bargap – Sets the gap (in plot fraction) between bars of adjacent location coordinates.\n",
    "    "
   ]
  },
  {
   "cell_type": "markdown",
   "id": "38579461",
   "metadata": {
    "papermill": {
     "duration": 0.079166,
     "end_time": "2022-02-02T12:45:23.192568",
     "exception": false,
     "start_time": "2022-02-02T12:45:23.113402",
     "status": "completed"
    },
    "tags": []
   },
   "source": [
    "note:-\n",
    "* By using marginal=box we got extra small 1-D box plot above the graph.\n",
    "\n",
    "Conclusion:-\n",
    "1. From the price distribution graph we can that the price is skewed within 2 to 5.Therefore almost driver attend passengers giving price b/w 2 to 5 US Dollars\n",
    "\n",
    "2. The measurement of distance are skewed to the left of distribution plot, around 5- 6kms with few outliers towards the right.\n",
    "\n",
    "3. From the temperature distribution graph we can say the graph is somewhat normal distribution, with of most of the temperature value concentrated between 0 and 3.\n",
    "\n",
    "4. The measurement of the wind speed seemed to form a Gaussian distribution centered around 3 with few outliers towards the right."
   ]
  },
  {
   "cell_type": "markdown",
   "id": "0b1a61b3",
   "metadata": {
    "papermill": {
     "duration": 0.07547,
     "end_time": "2022-02-02T12:45:23.349557",
     "exception": false,
     "start_time": "2022-02-02T12:45:23.274087",
     "status": "completed"
    },
    "tags": []
   },
   "source": [
    "# Year Analysis"
   ]
  },
  {
   "cell_type": "code",
   "execution_count": 23,
   "id": "bb4ab16e",
   "metadata": {
    "execution": {
     "iopub.execute_input": "2022-02-02T12:45:23.514867Z",
     "iopub.status.busy": "2022-02-02T12:45:23.513449Z",
     "iopub.status.idle": "2022-02-02T12:45:23.527614Z",
     "shell.execute_reply": "2022-02-02T12:45:23.528206Z",
     "shell.execute_reply.started": "2022-02-02T11:54:22.655569Z"
    },
    "papermill": {
     "duration": 0.096893,
     "end_time": "2022-02-02T12:45:23.528411",
     "exception": false,
     "start_time": "2022-02-02T12:45:23.431518",
     "status": "completed"
    },
    "tags": []
   },
   "outputs": [
    {
     "data": {
      "text/html": [
       "<div>\n",
       "<style scoped>\n",
       "    .dataframe tbody tr th:only-of-type {\n",
       "        vertical-align: middle;\n",
       "    }\n",
       "\n",
       "    .dataframe tbody tr th {\n",
       "        vertical-align: top;\n",
       "    }\n",
       "\n",
       "    .dataframe thead th {\n",
       "        text-align: right;\n",
       "    }\n",
       "</style>\n",
       "<table border=\"1\" class=\"dataframe\">\n",
       "  <thead>\n",
       "    <tr style=\"text-align: right;\">\n",
       "      <th></th>\n",
       "      <th>Year</th>\n",
       "      <th>count</th>\n",
       "    </tr>\n",
       "  </thead>\n",
       "  <tbody>\n",
       "    <tr>\n",
       "      <th>0</th>\n",
       "      <td>2017</td>\n",
       "      <td>231</td>\n",
       "    </tr>\n",
       "    <tr>\n",
       "      <th>1</th>\n",
       "      <td>2016</td>\n",
       "      <td>175</td>\n",
       "    </tr>\n",
       "    <tr>\n",
       "      <th>2</th>\n",
       "      <td>2018</td>\n",
       "      <td>146</td>\n",
       "    </tr>\n",
       "    <tr>\n",
       "      <th>3</th>\n",
       "      <td>2015</td>\n",
       "      <td>126</td>\n",
       "    </tr>\n",
       "  </tbody>\n",
       "</table>\n",
       "</div>"
      ],
      "text/plain": [
       "   Year  count\n",
       "0  2017    231\n",
       "1  2016    175\n",
       "2  2018    146\n",
       "3  2015    126"
      ]
     },
     "execution_count": 23,
     "metadata": {},
     "output_type": "execute_result"
    }
   ],
   "source": [
    "year_df= new_df['year'].value_counts().reset_index().rename(columns={'index':'Year', 'year':'count'})\n",
    "year_df"
   ]
  },
  {
   "cell_type": "markdown",
   "id": "d810c322",
   "metadata": {
    "papermill": {
     "duration": 0.078992,
     "end_time": "2022-02-02T12:45:23.693620",
     "exception": false,
     "start_time": "2022-02-02T12:45:23.614628",
     "status": "completed"
    },
    "tags": []
   },
   "source": [
    "Code Explanation:-\n",
    "1. value_counts():-In pandas \"Series.value_counts()\" function return a Series containing counts of unique values(Ex:-how many 2017 is containing in datasets).\n",
    "* After value_count() operation \"year column become count column\", which contains frequencies of year.\n",
    "* Problem is there is no \"year\" column for representation of count with respect to year(Ex:- see our o/p it has year column wrt count) but not in this case,it contains only count.\n",
    "* Therefore we need two column, 1st is for 'years' & 2nd for 'count' of years.\n",
    "\n",
    "2. DataFrame.reset_index():-In order to create two columns,1st is for 'years' & 2nd for 'count of years'we use df.reset_index(),here df is \"new_df['year'].value_counts().reset_index()\".So we reset the index to \"year\" column.\n",
    "* So it will create year column as index.\n",
    "> * Syntax:- 1)DataFrame.set_index:-Set row labels.\n",
    "           2)DataFrame.reset_index:-Remove row labels or move them to new columns.Therefore year                                          become the  new index.\n",
    "* refer this \"https://www.geeksforgeeks.org/python-pandas-dataframe-reset_index/\"\n",
    "\n",
    "3. rename():-After the creation of new column \"year column it is represented by column_name index\" and \"count column is done by year column so it's name is same as year\".So column_names are not suitable for representation\n",
    "* So we change the column name by changing,\"Index as Year\" & \"Year as Count\"\n",
    "\n",
    ">   Syntax for rename():-DataFrame.rename(mapper=None, *, index=None, columns=None, axis=None, copy=True, inplace=False, level=None, errors='ignore')\n",
    "  Where 'index'->rename the index_values. & 'column'->rename the columns.\n",
    "  Therefore columns={'index':'Year', 'Year':'count'}, means rename  the column names in the place "
   ]
  },
  {
   "cell_type": "code",
   "execution_count": 24,
   "id": "8209b9ce",
   "metadata": {
    "execution": {
     "iopub.execute_input": "2022-02-02T12:45:23.847443Z",
     "iopub.status.busy": "2022-02-02T12:45:23.846311Z",
     "iopub.status.idle": "2022-02-02T12:45:24.023581Z",
     "shell.execute_reply": "2022-02-02T12:45:24.022861Z",
     "shell.execute_reply.started": "2022-02-02T11:54:22.669136Z"
    },
    "papermill": {
     "duration": 0.255656,
     "end_time": "2022-02-02T12:45:24.023731",
     "exception": false,
     "start_time": "2022-02-02T12:45:23.768075",
     "status": "completed"
    },
    "tags": []
   },
   "outputs": [
    {
     "data": {
      "image/png": "[encoded data removed]",
      "text/plain": [
       "<Figure size 864x720 with 1 Axes>"
      ]
     },
     "metadata": {
      "needs_background": "light"
     },
     "output_type": "display_data"
    }
   ],
   "source": [
    "plt.figure(figsize=(12,10))                       #It is used for predefined figure size\n",
    "plt.title('Number of Trips made in a year')\n",
    "fig=sns.countplot(data=new_df, x='year')"
   ]
  },
  {
   "cell_type": "markdown",
   "id": "afe27908",
   "metadata": {
    "papermill": {
     "duration": 0.075841,
     "end_time": "2022-02-02T12:45:24.176627",
     "exception": false,
     "start_time": "2022-02-02T12:45:24.100786",
     "status": "completed"
    },
    "tags": []
   },
   "source": [
    "* >  The highest number of trips was made in 2017"
   ]
  },
  {
   "cell_type": "markdown",
   "id": "3baa3497",
   "metadata": {
    "papermill": {
     "duration": 0.073919,
     "end_time": "2022-02-02T12:45:24.327251",
     "exception": false,
     "start_time": "2022-02-02T12:45:24.253332",
     "status": "completed"
    },
    "tags": []
   },
   "source": [
    "# Months Analysis"
   ]
  },
  {
   "cell_type": "markdown",
   "id": "92f416d1",
   "metadata": {
    "papermill": {
     "duration": 0.075068,
     "end_time": "2022-02-02T12:45:24.478618",
     "exception": false,
     "start_time": "2022-02-02T12:45:24.403550",
     "status": "completed"
    },
    "tags": []
   },
   "source": [
    "Below code Explanation:-\n",
    "1. Enumerate():-\n",
    "> * enumerate():-It is used to count the iteration from specified value to length of column,means in the below code we assign enumerate('year',1).\n",
    "> * enumerate('year',1):-means it will count the values in the column from 1 to length of year column.\n",
    "> * In our example 4 year values  are given so it will assign index(i_value) from 1 to 4.\n",
    "> * \"https://www.geeksforgeeks.org/enumerate-in-python/\"\n",
    "\n",
    "2. Unique():-It is used for telling enumerate() to index & count unique years not duplicate year.\n",
    "\n",
    "3. for i,years, in enumerate:-we  know that in enumerate there is 2 columns; 1st one is index(count) we assigned it as i & 2nd one is year & we assigned it as years in for_loop. \n",
    "> * Therefore for every iteration in for_loop both i & year values are consider\n",
    "\n",
    "4. df_out= new_df[new_df['year']==years]:-\n",
    "> * It is very  important to initialize, which year i need to be consider in whole years  dataframe.\n",
    "> * Suppose consider from the 1st line  of the code itself, we know years=2015,but\n",
    "> * in order to plot graph we need to create saperate  data_frame of perticular years_value from the whole data_frame.\n",
    "> * In our code \"new_df[new_df['year'], is the  saperate dataframe\" from \"whole dataframe new_df['year']\"\n",
    "> * And finally we assign this value as years(==years)\n"
   ]
  },
  {
   "cell_type": "code",
   "execution_count": 25,
   "id": "218176ee",
   "metadata": {
    "execution": {
     "iopub.execute_input": "2022-02-02T12:45:24.653475Z",
     "iopub.status.busy": "2022-02-02T12:45:24.652316Z",
     "iopub.status.idle": "2022-02-02T12:45:25.561597Z",
     "shell.execute_reply": "2022-02-02T12:45:25.562256Z",
     "shell.execute_reply.started": "2022-02-02T11:54:22.863072Z"
    },
    "papermill": {
     "duration": 1.008888,
     "end_time": "2022-02-02T12:45:25.562491",
     "exception": false,
     "start_time": "2022-02-02T12:45:24.553603",
     "status": "completed"
    },
    "tags": []
   },
   "outputs": [
    {
     "data": {
      "image/png": "[encoded data removed]",
      "text/plain": [
       "<Figure size 720x720 with 1 Axes>"
      ]
     },
     "metadata": {
      "needs_background": "light"
     },
     "output_type": "display_data"
    },
    {
     "data": {
      "image/png": "[encoded data removed]",
      "text/plain": [
       "<Figure size 720x720 with 1 Axes>"
      ]
     },
     "metadata": {
      "needs_background": "light"
     },
     "output_type": "display_data"
    },
    {
     "data": {
      "image/png": "[encoded data removed]",
      "text/plain": [
       "<Figure size 720x720 with 1 Axes>"
      ]
     },
     "metadata": {
      "needs_background": "light"
     },
     "output_type": "display_data"
    },
    {
     "data": {
      "image/png": "[encoded data removed]",
      "text/plain": [
       "<Figure size 720x720 with 1 Axes>"
      ]
     },
     "metadata": {
      "needs_background": "light"
     },
     "output_type": "display_data"
    }
   ],
   "source": [
    "# To to see monthly trips in all years\n",
    "for i,years, in enumerate(new_df['year'].unique(), 1):\n",
    "    plt.figure(figsize=(10,10))\n",
    "    plt.subplot(4,1,i)\n",
    "    plt.xlabel('Months for the year of {}'.format(years))\n",
    "    plt.ylabel('Number of trips made in {}'.format(years))\n",
    "    plt.xticks(rotation=75)\n",
    "    plt.title(\" Trips made in {}\". format(years))\n",
    "    df_out= new_df[new_df['year']==years]\n",
    "    plt.hist(df_out['month'], rwidth=0.8, bins=12)\n"
   ]
  },
  {
   "cell_type": "markdown",
   "id": "19b51f29",
   "metadata": {
    "papermill": {
     "duration": 0.079871,
     "end_time": "2022-02-02T12:45:25.718966",
     "exception": false,
     "start_time": "2022-02-02T12:45:25.639095",
     "status": "completed"
    },
    "tags": []
   },
   "source": [
    "# Total Trip in Month"
   ]
  },
  {
   "cell_type": "code",
   "execution_count": 26,
   "id": "25a615ce",
   "metadata": {
    "execution": {
     "iopub.execute_input": "2022-02-02T12:45:25.900522Z",
     "iopub.status.busy": "2022-02-02T12:45:25.899736Z",
     "iopub.status.idle": "2022-02-02T12:45:25.905217Z",
     "shell.execute_reply": "2022-02-02T12:45:25.904644Z",
     "shell.execute_reply.started": "2022-02-02T11:54:23.651325Z"
    },
    "papermill": {
     "duration": 0.104835,
     "end_time": "2022-02-02T12:45:25.905403",
     "exception": false,
     "start_time": "2022-02-02T12:45:25.800568",
     "status": "completed"
    },
    "tags": []
   },
   "outputs": [
    {
     "data": {
      "text/html": [
       "<div>\n",
       "<style scoped>\n",
       "    .dataframe tbody tr th:only-of-type {\n",
       "        vertical-align: middle;\n",
       "    }\n",
       "\n",
       "    .dataframe tbody tr th {\n",
       "        vertical-align: top;\n",
       "    }\n",
       "\n",
       "    .dataframe thead th {\n",
       "        text-align: right;\n",
       "    }\n",
       "</style>\n",
       "<table border=\"1\" class=\"dataframe\">\n",
       "  <thead>\n",
       "    <tr style=\"text-align: right;\">\n",
       "      <th></th>\n",
       "      <th>Month</th>\n",
       "      <th>count</th>\n",
       "    </tr>\n",
       "  </thead>\n",
       "  <tbody>\n",
       "    <tr>\n",
       "      <th>0</th>\n",
       "      <td>September</td>\n",
       "      <td>90</td>\n",
       "    </tr>\n",
       "    <tr>\n",
       "      <th>1</th>\n",
       "      <td>November</td>\n",
       "      <td>84</td>\n",
       "    </tr>\n",
       "    <tr>\n",
       "      <th>2</th>\n",
       "      <td>December</td>\n",
       "      <td>82</td>\n",
       "    </tr>\n",
       "    <tr>\n",
       "      <th>3</th>\n",
       "      <td>June</td>\n",
       "      <td>78</td>\n",
       "    </tr>\n",
       "    <tr>\n",
       "      <th>4</th>\n",
       "      <td>January</td>\n",
       "      <td>75</td>\n",
       "    </tr>\n",
       "    <tr>\n",
       "      <th>5</th>\n",
       "      <td>February</td>\n",
       "      <td>50</td>\n",
       "    </tr>\n",
       "    <tr>\n",
       "      <th>6</th>\n",
       "      <td>May</td>\n",
       "      <td>47</td>\n",
       "    </tr>\n",
       "    <tr>\n",
       "      <th>7</th>\n",
       "      <td>March</td>\n",
       "      <td>47</td>\n",
       "    </tr>\n",
       "    <tr>\n",
       "      <th>8</th>\n",
       "      <td>April</td>\n",
       "      <td>35</td>\n",
       "    </tr>\n",
       "    <tr>\n",
       "      <th>9</th>\n",
       "      <td>August</td>\n",
       "      <td>32</td>\n",
       "    </tr>\n",
       "    <tr>\n",
       "      <th>10</th>\n",
       "      <td>October</td>\n",
       "      <td>31</td>\n",
       "    </tr>\n",
       "    <tr>\n",
       "      <th>11</th>\n",
       "      <td>July</td>\n",
       "      <td>27</td>\n",
       "    </tr>\n",
       "  </tbody>\n",
       "</table>\n",
       "</div>"
      ],
      "text/plain": [
       "        Month  count\n",
       "0   September     90\n",
       "1    November     84\n",
       "2    December     82\n",
       "3        June     78\n",
       "4     January     75\n",
       "5    February     50\n",
       "6         May     47\n",
       "7       March     47\n",
       "8       April     35\n",
       "9      August     32\n",
       "10    October     31\n",
       "11       July     27"
      ]
     },
     "execution_count": 26,
     "metadata": {},
     "output_type": "execute_result"
    }
   ],
   "source": [
    "month_df= new_df['month'].value_counts().reset_index().rename(columns={'index':'Month', 'month':'count'})\n",
    "month_df"
   ]
  },
  {
   "cell_type": "code",
   "execution_count": 27,
   "id": "cb305f32",
   "metadata": {
    "execution": {
     "iopub.execute_input": "2022-02-02T12:45:26.102899Z",
     "iopub.status.busy": "2022-02-02T12:45:26.098542Z",
     "iopub.status.idle": "2022-02-02T12:45:26.385096Z",
     "shell.execute_reply": "2022-02-02T12:45:26.385663Z",
     "shell.execute_reply.started": "2022-02-02T11:54:23.666290Z"
    },
    "papermill": {
     "duration": 0.400206,
     "end_time": "2022-02-02T12:45:26.385848",
     "exception": false,
     "start_time": "2022-02-02T12:45:25.985642",
     "status": "completed"
    },
    "tags": []
   },
   "outputs": [
    {
     "data": {
      "text/plain": [
       "<AxesSubplot:title={'center':'Total Monthly Trips'}, xlabel='Month', ylabel='count'>"
      ]
     },
     "execution_count": 27,
     "metadata": {},
     "output_type": "execute_result"
    },
    {
     "data": {
      "image/png": "[encoded data removed]",
      "text/plain": [
       "<Figure size 864x576 with 1 Axes>"
      ]
     },
     "metadata": {
      "needs_background": "light"
     },
     "output_type": "display_data"
    }
   ],
   "source": [
    "plt.figure(figsize=(12,8))\n",
    "plt.title('Total Monthly Trips')\n",
    "plt.xticks(rotation=75)\n",
    "sns.barplot(data=month_df, y='count', x='Month')"
   ]
  },
  {
   "cell_type": "markdown",
   "id": "7af91c96",
   "metadata": {
    "papermill": {
     "duration": 0.078291,
     "end_time": "2022-02-02T12:45:26.546969",
     "exception": false,
     "start_time": "2022-02-02T12:45:26.468678",
     "status": "completed"
    },
    "tags": []
   },
   "source": [
    "> *Conclusion:-\n",
    "> > * The highest trip  is  in September month.So the company release more number of CAB's in September to get more profit.\n",
    "> > * The lowest trip is in July month.So the company reduce the number of CAB's in july.To get less Loss."
   ]
  },
  {
   "cell_type": "markdown",
   "id": "b76646b2",
   "metadata": {
    "papermill": {
     "duration": 0.084128,
     "end_time": "2022-02-02T12:45:26.715446",
     "exception": false,
     "start_time": "2022-02-02T12:45:26.631318",
     "status": "completed"
    },
    "tags": []
   },
   "source": [
    "# Day Analysis"
   ]
  },
  {
   "cell_type": "code",
   "execution_count": 28,
   "id": "a7b50f16",
   "metadata": {
    "execution": {
     "iopub.execute_input": "2022-02-02T12:45:26.886055Z",
     "iopub.status.busy": "2022-02-02T12:45:26.885235Z",
     "iopub.status.idle": "2022-02-02T12:45:27.720563Z",
     "shell.execute_reply": "2022-02-02T12:45:27.721054Z",
     "shell.execute_reply.started": "2022-02-02T11:54:23.932271Z"
    },
    "papermill": {
     "duration": 0.924494,
     "end_time": "2022-02-02T12:45:27.721240",
     "exception": false,
     "start_time": "2022-02-02T12:45:26.796746",
     "status": "completed"
    },
    "tags": []
   },
   "outputs": [
    {
     "data": {
      "image/png": "[encoded data removed]",
      "text/plain": [
       "<Figure size 1440x720 with 1 Axes>"
      ]
     },
     "metadata": {
      "needs_background": "light"
     },
     "output_type": "display_data"
    },
    {
     "data": {
      "image/png": "[encoded data removed]",
      "text/plain": [
       "<Figure size 1440x720 with 1 Axes>"
      ]
     },
     "metadata": {
      "needs_background": "light"
     },
     "output_type": "display_data"
    },
    {
     "data": {
      "image/png": "[encoded data removed]",
      "text/plain": [
       "<Figure size 1440x720 with 1 Axes>"
      ]
     },
     "metadata": {
      "needs_background": "light"
     },
     "output_type": "display_data"
    },
    {
     "data": {
      "image/png": "[encoded data removed]",
      "text/plain": [
       "<Figure size 1440x720 with 1 Axes>"
      ]
     },
     "metadata": {
      "needs_background": "light"
     },
     "output_type": "display_data"
    }
   ],
   "source": [
    "for i ,years, in enumerate(new_df['year'].unique(), 1):\n",
    "    plt.figure(figsize=(20, 10))\n",
    "    plt.subplot(4, 2, i)\n",
    "    plt.ylabel('Number of trips made in {}'.format(years))\n",
    "    plt.xlabel('Days of the week in the year of {}'.format(years))\n",
    "    plt.title('Trips made in {}'.format(years))\n",
    "    sns.countplot(data=df_out, x='day of the week')    #df_out is in the above code\n",
    "    \n",
    "    #Syntax : seaborn.countplot(x=None, y=None, hue=None, data=None, order=None, hue_order=None, orient=None, color=None, palette=None, saturation=0.75, dodge=True, ax=None, **kwargs)\n",
    "    #here also we use df_out, bcz we need to extract days from particular years.So we need to saperate from whole. \n",
    "    #x='day of the week':- BCZ we need to find info of days in perticular  year."
   ]
  },
  {
   "cell_type": "code",
   "execution_count": 29,
   "id": "bed9d0db",
   "metadata": {
    "execution": {
     "iopub.execute_input": "2022-02-02T12:45:27.894088Z",
     "iopub.status.busy": "2022-02-02T12:45:27.893013Z",
     "iopub.status.idle": "2022-02-02T12:45:27.906498Z",
     "shell.execute_reply": "2022-02-02T12:45:27.905862Z",
     "shell.execute_reply.started": "2022-02-02T11:54:24.645140Z"
    },
    "papermill": {
     "duration": 0.103785,
     "end_time": "2022-02-02T12:45:27.906675",
     "exception": false,
     "start_time": "2022-02-02T12:45:27.802890",
     "status": "completed"
    },
    "tags": []
   },
   "outputs": [
    {
     "data": {
      "text/html": [
       "<div>\n",
       "<style scoped>\n",
       "    .dataframe tbody tr th:only-of-type {\n",
       "        vertical-align: middle;\n",
       "    }\n",
       "\n",
       "    .dataframe tbody tr th {\n",
       "        vertical-align: top;\n",
       "    }\n",
       "\n",
       "    .dataframe thead th {\n",
       "        text-align: right;\n",
       "    }\n",
       "</style>\n",
       "<table border=\"1\" class=\"dataframe\">\n",
       "  <thead>\n",
       "    <tr style=\"text-align: right;\">\n",
       "      <th></th>\n",
       "      <th>Days</th>\n",
       "      <th>count</th>\n",
       "    </tr>\n",
       "  </thead>\n",
       "  <tbody>\n",
       "    <tr>\n",
       "      <th>0</th>\n",
       "      <td>Friday</td>\n",
       "      <td>114</td>\n",
       "    </tr>\n",
       "    <tr>\n",
       "      <th>1</th>\n",
       "      <td>Tuesday</td>\n",
       "      <td>109</td>\n",
       "    </tr>\n",
       "    <tr>\n",
       "      <th>2</th>\n",
       "      <td>Monday</td>\n",
       "      <td>105</td>\n",
       "    </tr>\n",
       "    <tr>\n",
       "      <th>3</th>\n",
       "      <td>Saturday</td>\n",
       "      <td>94</td>\n",
       "    </tr>\n",
       "    <tr>\n",
       "      <th>4</th>\n",
       "      <td>Wednesday</td>\n",
       "      <td>92</td>\n",
       "    </tr>\n",
       "    <tr>\n",
       "      <th>5</th>\n",
       "      <td>Thursday</td>\n",
       "      <td>87</td>\n",
       "    </tr>\n",
       "    <tr>\n",
       "      <th>6</th>\n",
       "      <td>Sunday</td>\n",
       "      <td>77</td>\n",
       "    </tr>\n",
       "  </tbody>\n",
       "</table>\n",
       "</div>"
      ],
      "text/plain": [
       "        Days  count\n",
       "0     Friday    114\n",
       "1    Tuesday    109\n",
       "2     Monday    105\n",
       "3   Saturday     94\n",
       "4  Wednesday     92\n",
       "5   Thursday     87\n",
       "6     Sunday     77"
      ]
     },
     "execution_count": 29,
     "metadata": {},
     "output_type": "execute_result"
    }
   ],
   "source": [
    "day_df= new_df['day of the week'].value_counts().reset_index().rename(columns={'index':'Days', 'day of the week':'count'})\n",
    "day_df"
   ]
  },
  {
   "cell_type": "markdown",
   "id": "1ac0efaa",
   "metadata": {
    "papermill": {
     "duration": 0.083351,
     "end_time": "2022-02-02T12:45:28.074720",
     "exception": false,
     "start_time": "2022-02-02T12:45:27.991369",
     "status": "completed"
    },
    "tags": []
   },
   "source": [
    "Conclusion:-\n",
    "* > Trips in Friday was more compare to other days, so company facilitate more CAB'S on Friday in order to get more profit.\n",
    "* > Trips in Sunday was very less compare to others days, so company reduce CAB's on Sunday in order to get less Loss."
   ]
  },
  {
   "cell_type": "markdown",
   "id": "ff6ec2a1",
   "metadata": {
    "papermill": {
     "duration": 0.082139,
     "end_time": "2022-02-02T12:45:28.239710",
     "exception": false,
     "start_time": "2022-02-02T12:45:28.157571",
     "status": "completed"
    },
    "tags": []
   },
   "source": [
    "# CAB Vehicle Company name"
   ]
  },
  {
   "cell_type": "code",
   "execution_count": 30,
   "id": "2f4581dc",
   "metadata": {
    "execution": {
     "iopub.execute_input": "2022-02-02T12:45:28.411557Z",
     "iopub.status.busy": "2022-02-02T12:45:28.410804Z",
     "iopub.status.idle": "2022-02-02T12:45:29.127692Z",
     "shell.execute_reply": "2022-02-02T12:45:29.127023Z",
     "shell.execute_reply.started": "2022-02-02T11:54:24.660605Z"
    },
    "papermill": {
     "duration": 0.807246,
     "end_time": "2022-02-02T12:45:29.127851",
     "exception": false,
     "start_time": "2022-02-02T12:45:28.320605",
     "status": "completed"
    },
    "tags": []
   },
   "outputs": [
    {
     "data": {
      "text/plain": [
       "<AxesSubplot:title={'center':'Car Company Name'}, xlabel='vehicle_make', ylabel='count'>"
      ]
     },
     "execution_count": 30,
     "metadata": {},
     "output_type": "execute_result"
    },
    {
     "data": {
      "image/png": "[encoded data removed]",
      "text/plain": [
       "<Figure size 1080x720 with 1 Axes>"
      ]
     },
     "metadata": {
      "needs_background": "light"
     },
     "output_type": "display_data"
    }
   ],
   "source": [
    "plt.figure(figsize=(15,10))\n",
    "plt.xticks(rotation=75)\n",
    "plt.title(\"Car Company Name\")\n",
    "sns.countplot(data=new_df, x='vehicle_make')            "
   ]
  },
  {
   "cell_type": "code",
   "execution_count": 31,
   "id": "f8ddfaab",
   "metadata": {
    "execution": {
     "iopub.execute_input": "2022-02-02T12:45:29.311503Z",
     "iopub.status.busy": "2022-02-02T12:45:29.310718Z",
     "iopub.status.idle": "2022-02-02T12:45:29.322091Z",
     "shell.execute_reply": "2022-02-02T12:45:29.322651Z",
     "shell.execute_reply.started": "2022-02-02T11:54:25.315750Z"
    },
    "papermill": {
     "duration": 0.109868,
     "end_time": "2022-02-02T12:45:29.322831",
     "exception": false,
     "start_time": "2022-02-02T12:45:29.212963",
     "status": "completed"
    },
    "tags": []
   },
   "outputs": [
    {
     "data": {
      "text/html": [
       "<div>\n",
       "<style scoped>\n",
       "    .dataframe tbody tr th:only-of-type {\n",
       "        vertical-align: middle;\n",
       "    }\n",
       "\n",
       "    .dataframe tbody tr th {\n",
       "        vertical-align: top;\n",
       "    }\n",
       "\n",
       "    .dataframe thead th {\n",
       "        text-align: right;\n",
       "    }\n",
       "</style>\n",
       "<table border=\"1\" class=\"dataframe\">\n",
       "  <thead>\n",
       "    <tr style=\"text-align: right;\">\n",
       "      <th></th>\n",
       "      <th>Car Company</th>\n",
       "      <th>count</th>\n",
       "    </tr>\n",
       "  </thead>\n",
       "  <tbody>\n",
       "    <tr>\n",
       "      <th>0</th>\n",
       "      <td>Hyundai</td>\n",
       "      <td>118</td>\n",
       "    </tr>\n",
       "    <tr>\n",
       "      <th>1</th>\n",
       "      <td>Volkswagen</td>\n",
       "      <td>79</td>\n",
       "    </tr>\n",
       "    <tr>\n",
       "      <th>2</th>\n",
       "      <td>Kia</td>\n",
       "      <td>73</td>\n",
       "    </tr>\n",
       "    <tr>\n",
       "      <th>3</th>\n",
       "      <td>Renault</td>\n",
       "      <td>57</td>\n",
       "    </tr>\n",
       "    <tr>\n",
       "      <th>4</th>\n",
       "      <td>Nissan</td>\n",
       "      <td>49</td>\n",
       "    </tr>\n",
       "    <tr>\n",
       "      <th>5</th>\n",
       "      <td>Ford</td>\n",
       "      <td>47</td>\n",
       "    </tr>\n",
       "    <tr>\n",
       "      <th>6</th>\n",
       "      <td>Chevrolet</td>\n",
       "      <td>43</td>\n",
       "    </tr>\n",
       "    <tr>\n",
       "      <th>7</th>\n",
       "      <td>Skoda</td>\n",
       "      <td>42</td>\n",
       "    </tr>\n",
       "    <tr>\n",
       "      <th>8</th>\n",
       "      <td>Mitsubishi</td>\n",
       "      <td>19</td>\n",
       "    </tr>\n",
       "    <tr>\n",
       "      <th>9</th>\n",
       "      <td>Mercedes-Benz</td>\n",
       "      <td>18</td>\n",
       "    </tr>\n",
       "    <tr>\n",
       "      <th>10</th>\n",
       "      <td>Toyota</td>\n",
       "      <td>18</td>\n",
       "    </tr>\n",
       "    <tr>\n",
       "      <th>11</th>\n",
       "      <td>Opel</td>\n",
       "      <td>13</td>\n",
       "    </tr>\n",
       "    <tr>\n",
       "      <th>12</th>\n",
       "      <td>Mazda</td>\n",
       "      <td>12</td>\n",
       "    </tr>\n",
       "    <tr>\n",
       "      <th>13</th>\n",
       "      <td>Lifan</td>\n",
       "      <td>10</td>\n",
       "    </tr>\n",
       "    <tr>\n",
       "      <th>14</th>\n",
       "      <td>Audi</td>\n",
       "      <td>10</td>\n",
       "    </tr>\n",
       "    <tr>\n",
       "      <th>15</th>\n",
       "      <td>Citroen</td>\n",
       "      <td>10</td>\n",
       "    </tr>\n",
       "    <tr>\n",
       "      <th>16</th>\n",
       "      <td>Honda</td>\n",
       "      <td>9</td>\n",
       "    </tr>\n",
       "    <tr>\n",
       "      <th>17</th>\n",
       "      <td>Peugeot</td>\n",
       "      <td>7</td>\n",
       "    </tr>\n",
       "    <tr>\n",
       "      <th>18</th>\n",
       "      <td>BMW</td>\n",
       "      <td>7</td>\n",
       "    </tr>\n",
       "    <tr>\n",
       "      <th>19</th>\n",
       "      <td>Lada</td>\n",
       "      <td>7</td>\n",
       "    </tr>\n",
       "    <tr>\n",
       "      <th>20</th>\n",
       "      <td>Geely</td>\n",
       "      <td>5</td>\n",
       "    </tr>\n",
       "    <tr>\n",
       "      <th>21</th>\n",
       "      <td>Dacia</td>\n",
       "      <td>4</td>\n",
       "    </tr>\n",
       "    <tr>\n",
       "      <th>22</th>\n",
       "      <td>Chrysler</td>\n",
       "      <td>2</td>\n",
       "    </tr>\n",
       "    <tr>\n",
       "      <th>23</th>\n",
       "      <td>Saturn</td>\n",
       "      <td>2</td>\n",
       "    </tr>\n",
       "    <tr>\n",
       "      <th>24</th>\n",
       "      <td>Volvo</td>\n",
       "      <td>2</td>\n",
       "    </tr>\n",
       "    <tr>\n",
       "      <th>25</th>\n",
       "      <td>Datsun</td>\n",
       "      <td>2</td>\n",
       "    </tr>\n",
       "    <tr>\n",
       "      <th>26</th>\n",
       "      <td>Suzuki</td>\n",
       "      <td>2</td>\n",
       "    </tr>\n",
       "    <tr>\n",
       "      <th>27</th>\n",
       "      <td>Fiat</td>\n",
       "      <td>2</td>\n",
       "    </tr>\n",
       "    <tr>\n",
       "      <th>28</th>\n",
       "      <td>Seat</td>\n",
       "      <td>1</td>\n",
       "    </tr>\n",
       "    <tr>\n",
       "      <th>29</th>\n",
       "      <td>SsangYong</td>\n",
       "      <td>1</td>\n",
       "    </tr>\n",
       "    <tr>\n",
       "      <th>30</th>\n",
       "      <td>Lexus</td>\n",
       "      <td>1</td>\n",
       "    </tr>\n",
       "    <tr>\n",
       "      <th>31</th>\n",
       "      <td>Ssangyong</td>\n",
       "      <td>1</td>\n",
       "    </tr>\n",
       "    <tr>\n",
       "      <th>32</th>\n",
       "      <td>Chery</td>\n",
       "      <td>1</td>\n",
       "    </tr>\n",
       "    <tr>\n",
       "      <th>33</th>\n",
       "      <td>Ravon</td>\n",
       "      <td>1</td>\n",
       "    </tr>\n",
       "    <tr>\n",
       "      <th>34</th>\n",
       "      <td>Hummer</td>\n",
       "      <td>1</td>\n",
       "    </tr>\n",
       "    <tr>\n",
       "      <th>35</th>\n",
       "      <td>Subaru</td>\n",
       "      <td>1</td>\n",
       "    </tr>\n",
       "    <tr>\n",
       "      <th>36</th>\n",
       "      <td>Dongfeng</td>\n",
       "      <td>1</td>\n",
       "    </tr>\n",
       "  </tbody>\n",
       "</table>\n",
       "</div>"
      ],
      "text/plain": [
       "      Car Company  count\n",
       "0         Hyundai    118\n",
       "1      Volkswagen     79\n",
       "2             Kia     73\n",
       "3         Renault     57\n",
       "4          Nissan     49\n",
       "5            Ford     47\n",
       "6       Chevrolet     43\n",
       "7           Skoda     42\n",
       "8      Mitsubishi     19\n",
       "9   Mercedes-Benz     18\n",
       "10         Toyota     18\n",
       "11           Opel     13\n",
       "12          Mazda     12\n",
       "13          Lifan     10\n",
       "14           Audi     10\n",
       "15        Citroen     10\n",
       "16          Honda      9\n",
       "17        Peugeot      7\n",
       "18            BMW      7\n",
       "19           Lada      7\n",
       "20          Geely      5\n",
       "21          Dacia      4\n",
       "22       Chrysler      2\n",
       "23         Saturn      2\n",
       "24          Volvo      2\n",
       "25         Datsun      2\n",
       "26         Suzuki      2\n",
       "27           Fiat      2\n",
       "28           Seat      1\n",
       "29      SsangYong      1\n",
       "30          Lexus      1\n",
       "31      Ssangyong      1\n",
       "32          Chery      1\n",
       "33          Ravon      1\n",
       "34         Hummer      1\n",
       "35         Subaru      1\n",
       "36       Dongfeng      1"
      ]
     },
     "execution_count": 31,
     "metadata": {},
     "output_type": "execute_result"
    }
   ],
   "source": [
    "veh_name_df= new_df['vehicle_make'].value_counts().reset_index().rename(columns={'index':'Car Company', 'vehicle_make':'count'})\n",
    "veh_name_df"
   ]
  },
  {
   "cell_type": "markdown",
   "id": "7405ab04",
   "metadata": {
    "papermill": {
     "duration": 0.090885,
     "end_time": "2022-02-02T12:45:29.502571",
     "exception": false,
     "start_time": "2022-02-02T12:45:29.411686",
     "status": "completed"
    },
    "tags": []
   },
   "source": [
    "conclusion:-\n",
    "* > Most of the trip is did from \"Hyundai Company Cars\".\n",
    "* > So company should increase of using \"Hyundai Company Cars\" for getting more profit. "
   ]
  },
  {
   "cell_type": "markdown",
   "id": "691769c7",
   "metadata": {
    "papermill": {
     "duration": 0.090017,
     "end_time": "2022-02-02T12:45:29.681627",
     "exception": false,
     "start_time": "2022-02-02T12:45:29.591610",
     "status": "completed"
    },
    "tags": []
   },
   "source": [
    "# CAB Vehicle Model"
   ]
  },
  {
   "cell_type": "code",
   "execution_count": 32,
   "id": "49b9eff8",
   "metadata": {
    "execution": {
     "iopub.execute_input": "2022-02-02T12:45:29.875382Z",
     "iopub.status.busy": "2022-02-02T12:45:29.857021Z",
     "iopub.status.idle": "2022-02-02T12:45:31.959401Z",
     "shell.execute_reply": "2022-02-02T12:45:31.959977Z",
     "shell.execute_reply.started": "2022-02-02T11:54:25.331600Z"
    },
    "papermill": {
     "duration": 2.191359,
     "end_time": "2022-02-02T12:45:31.960163",
     "exception": false,
     "start_time": "2022-02-02T12:45:29.768804",
     "status": "completed"
    },
    "tags": []
   },
   "outputs": [
    {
     "data": {
      "text/plain": [
       "<AxesSubplot:title={'center':'CAB Vehicle Model'}, xlabel='vehicle_model', ylabel='count'>"
      ]
     },
     "execution_count": 32,
     "metadata": {},
     "output_type": "execute_result"
    },
    {
     "data": {
      "image/png": "[encoded data removed]",
      "text/plain": [
       "<Figure size 1440x1080 with 1 Axes>"
      ]
     },
     "metadata": {
      "needs_background": "light"
     },
     "output_type": "display_data"
    }
   ],
   "source": [
    "plt.figure(figsize=(20,15))\n",
    "plt.title(\"CAB Vehicle Model\")\n",
    "plt.xticks(rotation=75)\n",
    "sns.countplot(data=new_df, x='vehicle_model')"
   ]
  },
  {
   "cell_type": "markdown",
   "id": "ebee4940",
   "metadata": {
    "papermill": {
     "duration": 0.097258,
     "end_time": "2022-02-02T12:45:32.150821",
     "exception": false,
     "start_time": "2022-02-02T12:45:32.053563",
     "status": "completed"
    },
    "tags": []
   },
   "source": [
    "# Combination of CAB_Company_Name & CAB_Model\n",
    "By this we can get proper CAB Vehicle Specification for Analysis"
   ]
  },
  {
   "cell_type": "markdown",
   "id": "ba648fcc",
   "metadata": {
    "papermill": {
     "duration": 0.09393,
     "end_time": "2022-02-02T12:45:32.343831",
     "exception": false,
     "start_time": "2022-02-02T12:45:32.249901",
     "status": "completed"
    },
    "tags": []
   },
   "source": [
    "Explanation of code:-\n",
    "* In the below code we need to get proper vehicle specifications with vehicle_name & vehicle_model.\n",
    "1. Groupby():-Therefore we need to group the vehicle  by both vehicle_name & vehicle_model.So groupby is used.\n",
    "2. size():- After using Groupby we must and should use any one of Aggregate functions.So here size() is also similar to count. \n",
    "> > > size():- calculates number of rows present in each group.similarly to count.\n",
    "> > > The aggregating function size() computes the size per each group. In this example, the function size() computes the number of rows per each continent.\n",
    "read this for all kind of aggregate function:-\"https://cmdlinetips.com/2019/10/pandas-groupby-13-functions-to-aggregate/#:~:text=The%20aggregating%20function%20size(),of%20rows%20per%20each%20continent.&text=Here%20is%20the%20resulting%20dataframe%20after%20applying%20Pandas%20groupby%20operation,the%20aggregating%20function%20size().\"\n"
   ]
  },
  {
   "cell_type": "code",
   "execution_count": 33,
   "id": "9dc568c1",
   "metadata": {
    "execution": {
     "iopub.execute_input": "2022-02-02T12:45:32.537557Z",
     "iopub.status.busy": "2022-02-02T12:45:32.536762Z",
     "iopub.status.idle": "2022-02-02T12:45:32.554316Z",
     "shell.execute_reply": "2022-02-02T12:45:32.554834Z",
     "shell.execute_reply.started": "2022-02-02T11:54:26.997026Z"
    },
    "papermill": {
     "duration": 0.11589,
     "end_time": "2022-02-02T12:45:32.555025",
     "exception": false,
     "start_time": "2022-02-02T12:45:32.439135",
     "status": "completed"
    },
    "tags": []
   },
   "outputs": [
    {
     "data": {
      "text/html": [
       "<div>\n",
       "<style scoped>\n",
       "    .dataframe tbody tr th:only-of-type {\n",
       "        vertical-align: middle;\n",
       "    }\n",
       "\n",
       "    .dataframe tbody tr th {\n",
       "        vertical-align: top;\n",
       "    }\n",
       "\n",
       "    .dataframe thead th {\n",
       "        text-align: right;\n",
       "    }\n",
       "</style>\n",
       "<table border=\"1\" class=\"dataframe\">\n",
       "  <thead>\n",
       "    <tr style=\"text-align: right;\">\n",
       "      <th></th>\n",
       "      <th>vehicle_make</th>\n",
       "      <th>vehicle_model</th>\n",
       "      <th>Count</th>\n",
       "    </tr>\n",
       "  </thead>\n",
       "  <tbody>\n",
       "    <tr>\n",
       "      <th>40</th>\n",
       "      <td>Hyundai</td>\n",
       "      <td>Solaris</td>\n",
       "      <td>104</td>\n",
       "    </tr>\n",
       "    <tr>\n",
       "      <th>115</th>\n",
       "      <td>Volkswagen</td>\n",
       "      <td>Polo</td>\n",
       "      <td>61</td>\n",
       "    </tr>\n",
       "    <tr>\n",
       "      <th>49</th>\n",
       "      <td>Kia</td>\n",
       "      <td>Rio</td>\n",
       "      <td>43</td>\n",
       "    </tr>\n",
       "    <tr>\n",
       "      <th>25</th>\n",
       "      <td>Ford</td>\n",
       "      <td>Focus</td>\n",
       "      <td>35</td>\n",
       "    </tr>\n",
       "    <tr>\n",
       "      <th>67</th>\n",
       "      <td>Nissan</td>\n",
       "      <td>Almera</td>\n",
       "      <td>33</td>\n",
       "    </tr>\n",
       "    <tr>\n",
       "      <th>...</th>\n",
       "      <td>...</td>\n",
       "      <td>...</td>\n",
       "      <td>...</td>\n",
       "    </tr>\n",
       "    <tr>\n",
       "      <th>30</th>\n",
       "      <td>Geely</td>\n",
       "      <td>Emgrand X7</td>\n",
       "      <td>1</td>\n",
       "    </tr>\n",
       "    <tr>\n",
       "      <th>29</th>\n",
       "      <td>Geely</td>\n",
       "      <td>Emgrand EC7</td>\n",
       "      <td>1</td>\n",
       "    </tr>\n",
       "    <tr>\n",
       "      <th>89</th>\n",
       "      <td>Renault</td>\n",
       "      <td>Kangoo</td>\n",
       "      <td>1</td>\n",
       "    </tr>\n",
       "    <tr>\n",
       "      <th>56</th>\n",
       "      <td>Lexus</td>\n",
       "      <td>IS</td>\n",
       "      <td>1</td>\n",
       "    </tr>\n",
       "    <tr>\n",
       "      <th>120</th>\n",
       "      <td>Volvo</td>\n",
       "      <td>XC90</td>\n",
       "      <td>1</td>\n",
       "    </tr>\n",
       "  </tbody>\n",
       "</table>\n",
       "<p>121 rows × 3 columns</p>\n",
       "</div>"
      ],
      "text/plain": [
       "    vehicle_make vehicle_model  Count\n",
       "40       Hyundai       Solaris    104\n",
       "115   Volkswagen          Polo     61\n",
       "49           Kia           Rio     43\n",
       "25          Ford         Focus     35\n",
       "67        Nissan        Almera     33\n",
       "..           ...           ...    ...\n",
       "30         Geely    Emgrand X7      1\n",
       "29         Geely   Emgrand EC7      1\n",
       "89       Renault        Kangoo      1\n",
       "56         Lexus            IS      1\n",
       "120        Volvo          XC90      1\n",
       "\n",
       "[121 rows x 3 columns]"
      ]
     },
     "execution_count": 33,
     "metadata": {},
     "output_type": "execute_result"
    }
   ],
   "source": [
    "proper_vehicle= new_df.groupby(['vehicle_make', 'vehicle_model']).size().reset_index().rename(columns={0:\"Count\"}).sort_values(by=\"Count\",ascending=False)\n",
    "proper_vehicle"
   ]
  },
  {
   "cell_type": "markdown",
   "id": "78303472",
   "metadata": {
    "papermill": {
     "duration": 0.095727,
     "end_time": "2022-02-02T12:45:32.743953",
     "exception": false,
     "start_time": "2022-02-02T12:45:32.648226",
     "status": "completed"
    },
    "tags": []
   },
   "source": [
    "****Concatenate the string of both vehical_company_name & vehicle_model to make new string name called \"Name of Vehicle\""
   ]
  },
  {
   "cell_type": "code",
   "execution_count": 34,
   "id": "82575321",
   "metadata": {
    "execution": {
     "iopub.execute_input": "2022-02-02T12:45:32.951733Z",
     "iopub.status.busy": "2022-02-02T12:45:32.950705Z",
     "iopub.status.idle": "2022-02-02T12:45:32.955232Z",
     "shell.execute_reply": "2022-02-02T12:45:32.955907Z",
     "shell.execute_reply.started": "2022-02-02T11:54:27.018717Z"
    },
    "papermill": {
     "duration": 0.118569,
     "end_time": "2022-02-02T12:45:32.956158",
     "exception": false,
     "start_time": "2022-02-02T12:45:32.837589",
     "status": "completed"
    },
    "tags": []
   },
   "outputs": [
    {
     "data": {
      "text/html": [
       "<div>\n",
       "<style scoped>\n",
       "    .dataframe tbody tr th:only-of-type {\n",
       "        vertical-align: middle;\n",
       "    }\n",
       "\n",
       "    .dataframe tbody tr th {\n",
       "        vertical-align: top;\n",
       "    }\n",
       "\n",
       "    .dataframe thead th {\n",
       "        text-align: right;\n",
       "    }\n",
       "</style>\n",
       "<table border=\"1\" class=\"dataframe\">\n",
       "  <thead>\n",
       "    <tr style=\"text-align: right;\">\n",
       "      <th></th>\n",
       "      <th>vehicle_make</th>\n",
       "      <th>vehicle_model</th>\n",
       "      <th>Count</th>\n",
       "      <th>Name of Vehicle</th>\n",
       "    </tr>\n",
       "  </thead>\n",
       "  <tbody>\n",
       "    <tr>\n",
       "      <th>40</th>\n",
       "      <td>Hyundai</td>\n",
       "      <td>Solaris</td>\n",
       "      <td>104</td>\n",
       "      <td>Hyundai Solaris</td>\n",
       "    </tr>\n",
       "    <tr>\n",
       "      <th>115</th>\n",
       "      <td>Volkswagen</td>\n",
       "      <td>Polo</td>\n",
       "      <td>61</td>\n",
       "      <td>Volkswagen Polo</td>\n",
       "    </tr>\n",
       "    <tr>\n",
       "      <th>49</th>\n",
       "      <td>Kia</td>\n",
       "      <td>Rio</td>\n",
       "      <td>43</td>\n",
       "      <td>Kia Rio</td>\n",
       "    </tr>\n",
       "    <tr>\n",
       "      <th>25</th>\n",
       "      <td>Ford</td>\n",
       "      <td>Focus</td>\n",
       "      <td>35</td>\n",
       "      <td>Ford Focus</td>\n",
       "    </tr>\n",
       "    <tr>\n",
       "      <th>67</th>\n",
       "      <td>Nissan</td>\n",
       "      <td>Almera</td>\n",
       "      <td>33</td>\n",
       "      <td>Nissan Almera</td>\n",
       "    </tr>\n",
       "    <tr>\n",
       "      <th>...</th>\n",
       "      <td>...</td>\n",
       "      <td>...</td>\n",
       "      <td>...</td>\n",
       "      <td>...</td>\n",
       "    </tr>\n",
       "    <tr>\n",
       "      <th>30</th>\n",
       "      <td>Geely</td>\n",
       "      <td>Emgrand X7</td>\n",
       "      <td>1</td>\n",
       "      <td>Geely Emgrand X7</td>\n",
       "    </tr>\n",
       "    <tr>\n",
       "      <th>29</th>\n",
       "      <td>Geely</td>\n",
       "      <td>Emgrand EC7</td>\n",
       "      <td>1</td>\n",
       "      <td>Geely Emgrand EC7</td>\n",
       "    </tr>\n",
       "    <tr>\n",
       "      <th>89</th>\n",
       "      <td>Renault</td>\n",
       "      <td>Kangoo</td>\n",
       "      <td>1</td>\n",
       "      <td>Renault Kangoo</td>\n",
       "    </tr>\n",
       "    <tr>\n",
       "      <th>56</th>\n",
       "      <td>Lexus</td>\n",
       "      <td>IS</td>\n",
       "      <td>1</td>\n",
       "      <td>Lexus IS</td>\n",
       "    </tr>\n",
       "    <tr>\n",
       "      <th>120</th>\n",
       "      <td>Volvo</td>\n",
       "      <td>XC90</td>\n",
       "      <td>1</td>\n",
       "      <td>Volvo XC90</td>\n",
       "    </tr>\n",
       "  </tbody>\n",
       "</table>\n",
       "<p>121 rows × 4 columns</p>\n",
       "</div>"
      ],
      "text/plain": [
       "    vehicle_make vehicle_model  Count    Name of Vehicle\n",
       "40       Hyundai       Solaris    104    Hyundai Solaris\n",
       "115   Volkswagen          Polo     61    Volkswagen Polo\n",
       "49           Kia           Rio     43            Kia Rio\n",
       "25          Ford         Focus     35         Ford Focus\n",
       "67        Nissan        Almera     33      Nissan Almera\n",
       "..           ...           ...    ...                ...\n",
       "30         Geely    Emgrand X7      1   Geely Emgrand X7\n",
       "29         Geely   Emgrand EC7      1  Geely Emgrand EC7\n",
       "89       Renault        Kangoo      1     Renault Kangoo\n",
       "56         Lexus            IS      1           Lexus IS\n",
       "120        Volvo          XC90      1         Volvo XC90\n",
       "\n",
       "[121 rows x 4 columns]"
      ]
     },
     "execution_count": 34,
     "metadata": {},
     "output_type": "execute_result"
    }
   ],
   "source": [
    "# join the both the vehicle make and vehicle model to form the name of vehicle for getting proper column name of vehicle_specification\n",
    "proper_vehicle['Name of Vehicle']= proper_vehicle['vehicle_make'].str.cat(proper_vehicle['vehicle_model'], sep=' ')\n",
    "proper_vehicle\n"
   ]
  },
  {
   "cell_type": "markdown",
   "id": "1ad4511b",
   "metadata": {
    "papermill": {
     "duration": 0.095179,
     "end_time": "2022-02-02T12:45:33.145754",
     "exception": false,
     "start_time": "2022-02-02T12:45:33.050575",
     "status": "completed"
    },
    "tags": []
   },
   "source": [
    "code Explanation:-\n",
    "> Syntax for Concatenate strings:-Series.str.cat(others=None, sep=None, na_rep=None, join='left')\n",
    "* sep:-The separator between the different elements/columns. By default the empty string ‘’ is used."
   ]
  },
  {
   "cell_type": "markdown",
   "id": "3acb1c3a",
   "metadata": {
    "papermill": {
     "duration": 0.087551,
     "end_time": "2022-02-02T12:45:33.323770",
     "exception": false,
     "start_time": "2022-02-02T12:45:33.236219",
     "status": "completed"
    },
    "tags": []
   },
   "source": [
    "# Visualization of More Number of Vehicles used for Trips."
   ]
  },
  {
   "cell_type": "code",
   "execution_count": 35,
   "id": "afc7d399",
   "metadata": {
    "execution": {
     "iopub.execute_input": "2022-02-02T12:45:33.528586Z",
     "iopub.status.busy": "2022-02-02T12:45:33.527835Z",
     "iopub.status.idle": "2022-02-02T12:45:33.691248Z",
     "shell.execute_reply": "2022-02-02T12:45:33.691789Z",
     "shell.execute_reply.started": "2022-02-02T11:54:27.035625Z"
    },
    "papermill": {
     "duration": 0.276526,
     "end_time": "2022-02-02T12:45:33.691982",
     "exception": false,
     "start_time": "2022-02-02T12:45:33.415456",
     "status": "completed"
    },
    "tags": []
   },
   "outputs": [
    {
     "data": {
      "text/html": [
       "<div>                            <div id=\"e5f28856-dbff-46d9-8a24-903c531f2080\" class=\"plotly-graph-div\" style=\"height:525px; width:100%;\"></div>            <script type=\"text/javascript\">                require([\"plotly\"], function(Plotly) {                    window.PLOTLYENV=window.PLOTLYENV || {};                                    if (document.getElementById(\"e5f28856-dbff-46d9-8a24-903c531f2080\")) {                    Plotly.newPlot(                        \"e5f28856-dbff-46d9-8a24-903c531f2080\",                        [{\"branchvalues\":\"total\",\"customdata\":[[2.0],[4.0],[2.0],[2.0],[4.0],[1.0],[1.0],[1.0],[1.0],[6.0],[3.0],[19.0],[1.0],[14.0],[2.0],[2.0],[1.0],[5.0],[2.0],[4.0],[2.0],[1.0],[2.0],[1.0],[2.0],[35.0],[1.0],[7.0],[1.0],[1.0],[1.0],[2.0],[1.0],[1.0],[3.0],[5.0],[1.0],[3.0],[1.0],[1.0],[104.0],[5.0],[4.0],[1.0],[11.0],[2.0],[4.0],[3.0],[1.0],[43.0],[3.0],[3.0],[2.0],[4.0],[1.0],[2.0],[1.0],[9.0],[1.0],[9.0],[3.0],[13.0],[5.0],[3.0],[1.0],[10.0],[5.0],[33.0],[1.0],[1.0],[6.0],[1.0],[2.0],[1.0],[1.0],[1.0],[2.0],[2.0],[9.0],[1.0],[1.0],[1.0],[2.0],[3.0],[1.0],[1.0],[1.0],[7.0],[6.0],[1.0],[1.0],[18.0],[9.0],[5.0],[7.0],[2.0],[2.0],[1.0],[3.0],[16.0],[22.0],[1.0],[1.0],[1.0],[1.0],[2.0],[1.0],[3.0],[2.0],[8.0],[1.0],[3.0],[7.0],[5.0],[3.0],[61.0],[1.0],[1.0],[1.0],[1.0],[1.0]],\"domain\":{\"x\":[0.0,1.0],\"y\":[0.0,1.0]},\"hovertemplate\":\"labels=%{label}<br>Count_sum=%{value}<br>parent=%{parent}<br>id=%{id}<br>Count=%{color}<extra></extra>\",\"ids\":[\"Audi A3\",\"Audi A6\",\"Audi A7\",\"Audi Q3\",\"BMW 5-series\",\"BMW 7-series\",\"BMW X1\",\"BMW X6\",\"Chery Tiggo\",\"Chevrolet Aveo\",\"Chevrolet Cobalt\",\"Chevrolet Cruze\",\"Chevrolet Epica\",\"Chevrolet Lacetti\",\"Chrysler Voyager\",\"Citroen Berlingo\",\"Citroen C-Elysee\",\"Citroen C4\",\"Citroen C5\",\"Dacia Duster\",\"Datsun On-Do\",\"Dongfeng H30\",\"Fiat Albea\",\"Ford EcoSport\",\"Ford Fiesta\",\"Ford Focus\",\"Ford Kuga\",\"Ford Mondeo\",\"Ford Tourneo\",\"Geely Emgrand EC7\",\"Geely Emgrand X7\",\"Geely MK\",\"Geely MK Cross\",\"Honda Accord\",\"Honda CR-V\",\"Honda Civic\",\"Hummer H3\",\"Hyundai Elantra\",\"Hyundai Equus\",\"Hyundai Getz\",\"Hyundai Solaris\",\"Hyundai Sonata\",\"Hyundai ix35\",\"Kia Carens\",\"Kia Cee'd\",\"Kia Cee'd Sportswagon\",\"Kia Cerato\",\"Kia Optima\",\"Kia Picanto\",\"Kia Rio\",\"Kia Sorento\",\"Kia Spectra\",\"Kia Sportage\",\"Lada Granta\",\"Lada Largus\",\"Lada Vesta\",\"Lexus IS\",\"Lifan Solano\",\"Lifan X60\",\"Mazda MAZDA3\",\"Mazda MAZDA6\",\"Mercedes-Benz E-Class\",\"Mercedes-Benz S-Class\",\"Mitsubishi ASX\",\"Mitsubishi L200\",\"Mitsubishi Lancer\",\"Mitsubishi Outlander\",\"Nissan Almera\",\"Nissan Juke\",\"Nissan Note\",\"Nissan Qashqai\",\"Nissan Sentra\",\"Nissan Teana\",\"Nissan Terrano\",\"Nissan Tiida\",\"Nissan Tilda\",\"Nissan X-Trail\",\"Opel Antara\",\"Opel Astra\",\"Opel Meriva\",\"Opel Zafira\",\"Peugeot 206\",\"Peugeot 207\",\"Peugeot 307\",\"Peugeot 408\",\"Ravon Gentra\",\"Renault Clio\",\"Renault Duster\",\"Renault Fluence\",\"Renault Kangoo\",\"Renault Koleos\",\"Renault Logan\",\"Renault Megane\",\"Renault New Logan\",\"Renault Sandero\",\"Renault Symbol\",\"Saturn Astra\",\"Seat Ibiza\",\"Skoda Fabia\",\"Skoda Octavia\",\"Skoda Rapid\",\"Skoda Yeti\",\"SsangYong Kyron II\",\"Ssangyong Actyon\",\"Subaru Impreza\",\"Suzuki Swift\",\"Toyota Auris\",\"Toyota Avensis\",\"Toyota Camry\",\"Toyota Corolla\",\"Toyota Land Cruiser\",\"Toyota RAV4\",\"Volkswagen Golf\",\"Volkswagen Jetta\",\"Volkswagen Passat\",\"Volkswagen Polo\",\"Volkswagen Tiguan\",\"Volkswagen Touran\",\"Volkswagen Transporter\",\"Volvo XC70\",\"Volvo XC90\"],\"labels\":[\"Audi A3\",\"Audi A6\",\"Audi A7\",\"Audi Q3\",\"BMW 5-series\",\"BMW 7-series\",\"BMW X1\",\"BMW X6\",\"Chery Tiggo\",\"Chevrolet Aveo\",\"Chevrolet Cobalt\",\"Chevrolet Cruze\",\"Chevrolet Epica\",\"Chevrolet Lacetti\",\"Chrysler Voyager\",\"Citroen Berlingo\",\"Citroen C-Elysee\",\"Citroen C4\",\"Citroen C5\",\"Dacia Duster\",\"Datsun On-Do\",\"Dongfeng H30\",\"Fiat Albea\",\"Ford EcoSport\",\"Ford Fiesta\",\"Ford Focus\",\"Ford Kuga\",\"Ford Mondeo\",\"Ford Tourneo\",\"Geely Emgrand EC7\",\"Geely Emgrand X7\",\"Geely MK\",\"Geely MK Cross\",\"Honda Accord\",\"Honda CR-V\",\"Honda Civic\",\"Hummer H3\",\"Hyundai Elantra\",\"Hyundai Equus\",\"Hyundai Getz\",\"Hyundai Solaris\",\"Hyundai Sonata\",\"Hyundai ix35\",\"Kia Carens\",\"Kia Cee'd\",\"Kia Cee'd Sportswagon\",\"Kia Cerato\",\"Kia Optima\",\"Kia Picanto\",\"Kia Rio\",\"Kia Sorento\",\"Kia Spectra\",\"Kia Sportage\",\"Lada Granta\",\"Lada Largus\",\"Lada Vesta\",\"Lexus IS\",\"Lifan Solano\",\"Lifan X60\",\"Mazda MAZDA3\",\"Mazda MAZDA6\",\"Mercedes-Benz E-Class\",\"Mercedes-Benz S-Class\",\"Mitsubishi ASX\",\"Mitsubishi L200\",\"Mitsubishi Lancer\",\"Mitsubishi Outlander\",\"Nissan Almera\",\"Nissan Juke\",\"Nissan Note\",\"Nissan Qashqai\",\"Nissan Sentra\",\"Nissan Teana\",\"Nissan Terrano\",\"Nissan Tiida\",\"Nissan Tilda\",\"Nissan X-Trail\",\"Opel Antara\",\"Opel Astra\",\"Opel Meriva\",\"Opel Zafira\",\"Peugeot 206\",\"Peugeot 207\",\"Peugeot 307\",\"Peugeot 408\",\"Ravon Gentra\",\"Renault Clio\",\"Renault Duster\",\"Renault Fluence\",\"Renault Kangoo\",\"Renault Koleos\",\"Renault Logan\",\"Renault Megane\",\"Renault New Logan\",\"Renault Sandero\",\"Renault Symbol\",\"Saturn Astra\",\"Seat Ibiza\",\"Skoda Fabia\",\"Skoda Octavia\",\"Skoda Rapid\",\"Skoda Yeti\",\"SsangYong Kyron II\",\"Ssangyong Actyon\",\"Subaru Impreza\",\"Suzuki Swift\",\"Toyota Auris\",\"Toyota Avensis\",\"Toyota Camry\",\"Toyota Corolla\",\"Toyota Land Cruiser\",\"Toyota RAV4\",\"Volkswagen Golf\",\"Volkswagen Jetta\",\"Volkswagen Passat\",\"Volkswagen Polo\",\"Volkswagen Tiguan\",\"Volkswagen Touran\",\"Volkswagen Transporter\",\"Volvo XC70\",\"Volvo XC90\"],\"marker\":{\"coloraxis\":\"coloraxis\",\"colors\":[2.0,4.0,2.0,2.0,4.0,1.0,1.0,1.0,1.0,6.0,3.0,19.0,1.0,14.0,2.0,2.0,1.0,5.0,2.0,4.0,2.0,1.0,2.0,1.0,2.0,35.0,1.0,7.0,1.0,1.0,1.0,2.0,1.0,1.0,3.0,5.0,1.0,3.0,1.0,1.0,104.0,5.0,4.0,1.0,11.0,2.0,4.0,3.0,1.0,43.0,3.0,3.0,2.0,4.0,1.0,2.0,1.0,9.0,1.0,9.0,3.0,13.0,5.0,3.0,1.0,10.0,5.0,33.0,1.0,1.0,6.0,1.0,2.0,1.0,1.0,1.0,2.0,2.0,9.0,1.0,1.0,1.0,2.0,3.0,1.0,1.0,1.0,7.0,6.0,1.0,1.0,18.0,9.0,5.0,7.0,2.0,2.0,1.0,3.0,16.0,22.0,1.0,1.0,1.0,1.0,2.0,1.0,3.0,2.0,8.0,1.0,3.0,7.0,5.0,3.0,61.0,1.0,1.0,1.0,1.0,1.0]},\"name\":\"\",\"parents\":[\"\",\"\",\"\",\"\",\"\",\"\",\"\",\"\",\"\",\"\",\"\",\"\",\"\",\"\",\"\",\"\",\"\",\"\",\"\",\"\",\"\",\"\",\"\",\"\",\"\",\"\",\"\",\"\",\"\",\"\",\"\",\"\",\"\",\"\",\"\",\"\",\"\",\"\",\"\",\"\",\"\",\"\",\"\",\"\",\"\",\"\",\"\",\"\",\"\",\"\",\"\",\"\",\"\",\"\",\"\",\"\",\"\",\"\",\"\",\"\",\"\",\"\",\"\",\"\",\"\",\"\",\"\",\"\",\"\",\"\",\"\",\"\",\"\",\"\",\"\",\"\",\"\",\"\",\"\",\"\",\"\",\"\",\"\",\"\",\"\",\"\",\"\",\"\",\"\",\"\",\"\",\"\",\"\",\"\",\"\",\"\",\"\",\"\",\"\",\"\",\"\",\"\",\"\",\"\",\"\",\"\",\"\",\"\",\"\",\"\",\"\",\"\",\"\",\"\",\"\",\"\",\"\",\"\",\"\",\"\",\"\"],\"values\":[2,4,2,2,4,1,1,1,1,6,3,19,1,14,2,2,1,5,2,4,2,1,2,1,2,35,1,7,1,1,1,2,1,1,3,5,1,3,1,1,104,5,4,1,11,2,4,3,1,43,3,3,2,4,1,2,1,9,1,9,3,13,5,3,1,10,5,33,1,1,6,1,2,1,1,1,2,2,9,1,1,1,2,3,1,1,1,7,6,1,1,18,9,5,7,2,2,1,3,16,22,1,1,1,1,2,1,3,2,8,1,3,7,5,3,61,1,1,1,1,1],\"type\":\"treemap\"}],                        {\"template\":{\"data\":{\"bar\":[{\"error_x\":{\"color\":\"#2a3f5f\"},\"error_y\":{\"color\":\"#2a3f5f\"},\"marker\":{\"line\":{\"color\":\"#E5ECF6\",\"width\":0.5},\"pattern\":{\"fillmode\":\"overlay\",\"size\":10,\"solidity\":0.2}},\"type\":\"bar\"}],\"barpolar\":[{\"marker\":{\"line\":{\"color\":\"#E5ECF6\",\"width\":0.5},\"pattern\":{\"fillmode\":\"overlay\",\"size\":10,\"solidity\":0.2}},\"type\":\"barpolar\"}],\"carpet\":[{\"aaxis\":{\"endlinecolor\":\"#2a3f5f\",\"gridcolor\":\"white\",\"linecolor\":\"white\",\"minorgridcolor\":\"white\",\"startlinecolor\":\"#2a3f5f\"},\"baxis\":{\"endlinecolor\":\"#2a3f5f\",\"gridcolor\":\"white\",\"linecolor\":\"white\",\"minorgridcolor\":\"white\",\"startlinecolor\":\"#2a3f5f\"},\"type\":\"carpet\"}],\"choropleth\":[{\"colorbar\":{\"outlinewidth\":0,\"ticks\":\"\"},\"type\":\"choropleth\"}],\"contour\":[{\"colorbar\":{\"outlinewidth\":0,\"ticks\":\"\"},\"colorscale\":[[0.0,\"#0d0887\"],[0.1111111111111111,\"#46039f\"],[0.2222222222222222,\"#7201a8\"],[0.3333333333333333,\"#9c179e\"],[0.4444444444444444,\"#bd3786\"],[0.5555555555555556,\"#d8576b\"],[0.6666666666666666,\"#ed7953\"],[0.7777777777777778,\"#fb9f3a\"],[0.8888888888888888,\"#fdca26\"],[1.0,\"#f0f921\"]],\"type\":\"contour\"}],\"contourcarpet\":[{\"colorbar\":{\"outlinewidth\":0,\"ticks\":\"\"},\"type\":\"contourcarpet\"}],\"heatmap\":[{\"colorbar\":{\"outlinewidth\":0,\"ticks\":\"\"},\"colorscale\":[[0.0,\"#0d0887\"],[0.1111111111111111,\"#46039f\"],[0.2222222222222222,\"#7201a8\"],[0.3333333333333333,\"#9c179e\"],[0.4444444444444444,\"#bd3786\"],[0.5555555555555556,\"#d8576b\"],[0.6666666666666666,\"#ed7953\"],[0.7777777777777778,\"#fb9f3a\"],[0.8888888888888888,\"#fdca26\"],[1.0,\"#f0f921\"]],\"type\":\"heatmap\"}],\"heatmapgl\":[{\"colorbar\":{\"outlinewidth\":0,\"ticks\":\"\"},\"colorscale\":[[0.0,\"#0d0887\"],[0.1111111111111111,\"#46039f\"],[0.2222222222222222,\"#7201a8\"],[0.3333333333333333,\"#9c179e\"],[0.4444444444444444,\"#bd3786\"],[0.5555555555555556,\"#d8576b\"],[0.6666666666666666,\"#ed7953\"],[0.7777777777777778,\"#fb9f3a\"],[0.8888888888888888,\"#fdca26\"],[1.0,\"#f0f921\"]],\"type\":\"heatmapgl\"}],\"histogram\":[{\"marker\":{\"pattern\":{\"fillmode\":\"overlay\",\"size\":10,\"solidity\":0.2}},\"type\":\"histogram\"}],\"histogram2d\":[{\"colorbar\":{\"outlinewidth\":0,\"ticks\":\"\"},\"colorscale\":[[0.0,\"#0d0887\"],[0.1111111111111111,\"#46039f\"],[0.2222222222222222,\"#7201a8\"],[0.3333333333333333,\"#9c179e\"],[0.4444444444444444,\"#bd3786\"],[0.5555555555555556,\"#d8576b\"],[0.6666666666666666,\"#ed7953\"],[0.7777777777777778,\"#fb9f3a\"],[0.8888888888888888,\"#fdca26\"],[1.0,\"#f0f921\"]],\"type\":\"histogram2d\"}],\"histogram2dcontour\":[{\"colorbar\":{\"outlinewidth\":0,\"ticks\":\"\"},\"colorscale\":[[0.0,\"#0d0887\"],[0.1111111111111111,\"#46039f\"],[0.2222222222222222,\"#7201a8\"],[0.3333333333333333,\"#9c179e\"],[0.4444444444444444,\"#bd3786\"],[0.5555555555555556,\"#d8576b\"],[0.6666666666666666,\"#ed7953\"],[0.7777777777777778,\"#fb9f3a\"],[0.8888888888888888,\"#fdca26\"],[1.0,\"#f0f921\"]],\"type\":\"histogram2dcontour\"}],\"mesh3d\":[{\"colorbar\":{\"outlinewidth\":0,\"ticks\":\"\"},\"type\":\"mesh3d\"}],\"parcoords\":[{\"line\":{\"colorbar\":{\"outlinewidth\":0,\"ticks\":\"\"}},\"type\":\"parcoords\"}],\"pie\":[{\"automargin\":true,\"type\":\"pie\"}],\"scatter\":[{\"marker\":{\"colorbar\":{\"outlinewidth\":0,\"ticks\":\"\"}},\"type\":\"scatter\"}],\"scatter3d\":[{\"line\":{\"colorbar\":{\"outlinewidth\":0,\"ticks\":\"\"}},\"marker\":{\"colorbar\":{\"outlinewidth\":0,\"ticks\":\"\"}},\"type\":\"scatter3d\"}],\"scattercarpet\":[{\"marker\":{\"colorbar\":{\"outlinewidth\":0,\"ticks\":\"\"}},\"type\":\"scattercarpet\"}],\"scattergeo\":[{\"marker\":{\"colorbar\":{\"outlinewidth\":0,\"ticks\":\"\"}},\"type\":\"scattergeo\"}],\"scattergl\":[{\"marker\":{\"colorbar\":{\"outlinewidth\":0,\"ticks\":\"\"}},\"type\":\"scattergl\"}],\"scattermapbox\":[{\"marker\":{\"colorbar\":{\"outlinewidth\":0,\"ticks\":\"\"}},\"type\":\"scattermapbox\"}],\"scatterpolar\":[{\"marker\":{\"colorbar\":{\"outlinewidth\":0,\"ticks\":\"\"}},\"type\":\"scatterpolar\"}],\"scatterpolargl\":[{\"marker\":{\"colorbar\":{\"outlinewidth\":0,\"ticks\":\"\"}},\"type\":\"scatterpolargl\"}],\"scatterternary\":[{\"marker\":{\"colorbar\":{\"outlinewidth\":0,\"ticks\":\"\"}},\"type\":\"scatterternary\"}],\"surface\":[{\"colorbar\":{\"outlinewidth\":0,\"ticks\":\"\"},\"colorscale\":[[0.0,\"#0d0887\"],[0.1111111111111111,\"#46039f\"],[0.2222222222222222,\"#7201a8\"],[0.3333333333333333,\"#9c179e\"],[0.4444444444444444,\"#bd3786\"],[0.5555555555555556,\"#d8576b\"],[0.6666666666666666,\"#ed7953\"],[0.7777777777777778,\"#fb9f3a\"],[0.8888888888888888,\"#fdca26\"],[1.0,\"#f0f921\"]],\"type\":\"surface\"}],\"table\":[{\"cells\":{\"fill\":{\"color\":\"#EBF0F8\"},\"line\":{\"color\":\"white\"}},\"header\":{\"fill\":{\"color\":\"#C8D4E3\"},\"line\":{\"color\":\"white\"}},\"type\":\"table\"}]},\"layout\":{\"annotationdefaults\":{\"arrowcolor\":\"#2a3f5f\",\"arrowhead\":0,\"arrowwidth\":1},\"autotypenumbers\":\"strict\",\"coloraxis\":{\"colorbar\":{\"outlinewidth\":0,\"ticks\":\"\"}},\"colorscale\":{\"diverging\":[[0,\"#8e0152\"],[0.1,\"#c51b7d\"],[0.2,\"#de77ae\"],[0.3,\"#f1b6da\"],[0.4,\"#fde0ef\"],[0.5,\"#f7f7f7\"],[0.6,\"#e6f5d0\"],[0.7,\"#b8e186\"],[0.8,\"#7fbc41\"],[0.9,\"#4d9221\"],[1,\"#276419\"]],\"sequential\":[[0.0,\"#0d0887\"],[0.1111111111111111,\"#46039f\"],[0.2222222222222222,\"#7201a8\"],[0.3333333333333333,\"#9c179e\"],[0.4444444444444444,\"#bd3786\"],[0.5555555555555556,\"#d8576b\"],[0.6666666666666666,\"#ed7953\"],[0.7777777777777778,\"#fb9f3a\"],[0.8888888888888888,\"#fdca26\"],[1.0,\"#f0f921\"]],\"sequentialminus\":[[0.0,\"#0d0887\"],[0.1111111111111111,\"#46039f\"],[0.2222222222222222,\"#7201a8\"],[0.3333333333333333,\"#9c179e\"],[0.4444444444444444,\"#bd3786\"],[0.5555555555555556,\"#d8576b\"],[0.6666666666666666,\"#ed7953\"],[0.7777777777777778,\"#fb9f3a\"],[0.8888888888888888,\"#fdca26\"],[1.0,\"#f0f921\"]]},\"colorway\":[\"#636efa\",\"#EF553B\",\"#00cc96\",\"#ab63fa\",\"#FFA15A\",\"#19d3f3\",\"#FF6692\",\"#B6E880\",\"#FF97FF\",\"#FECB52\"],\"font\":{\"color\":\"#2a3f5f\"},\"geo\":{\"bgcolor\":\"white\",\"lakecolor\":\"white\",\"landcolor\":\"#E5ECF6\",\"showlakes\":true,\"showland\":true,\"subunitcolor\":\"white\"},\"hoverlabel\":{\"align\":\"left\"},\"hovermode\":\"closest\",\"mapbox\":{\"style\":\"light\"},\"paper_bgcolor\":\"white\",\"plot_bgcolor\":\"#E5ECF6\",\"polar\":{\"angularaxis\":{\"gridcolor\":\"white\",\"linecolor\":\"white\",\"ticks\":\"\"},\"bgcolor\":\"#E5ECF6\",\"radialaxis\":{\"gridcolor\":\"white\",\"linecolor\":\"white\",\"ticks\":\"\"}},\"scene\":{\"xaxis\":{\"backgroundcolor\":\"#E5ECF6\",\"gridcolor\":\"white\",\"gridwidth\":2,\"linecolor\":\"white\",\"showbackground\":true,\"ticks\":\"\",\"zerolinecolor\":\"white\"},\"yaxis\":{\"backgroundcolor\":\"#E5ECF6\",\"gridcolor\":\"white\",\"gridwidth\":2,\"linecolor\":\"white\",\"showbackground\":true,\"ticks\":\"\",\"zerolinecolor\":\"white\"},\"zaxis\":{\"backgroundcolor\":\"#E5ECF6\",\"gridcolor\":\"white\",\"gridwidth\":2,\"linecolor\":\"white\",\"showbackground\":true,\"ticks\":\"\",\"zerolinecolor\":\"white\"}},\"shapedefaults\":{\"line\":{\"color\":\"#2a3f5f\"}},\"ternary\":{\"aaxis\":{\"gridcolor\":\"white\",\"linecolor\":\"white\",\"ticks\":\"\"},\"baxis\":{\"gridcolor\":\"white\",\"linecolor\":\"white\",\"ticks\":\"\"},\"bgcolor\":\"#E5ECF6\",\"caxis\":{\"gridcolor\":\"white\",\"linecolor\":\"white\",\"ticks\":\"\"}},\"title\":{\"x\":0.05},\"xaxis\":{\"automargin\":true,\"gridcolor\":\"white\",\"linecolor\":\"white\",\"ticks\":\"\",\"title\":{\"standoff\":15},\"zerolinecolor\":\"white\",\"zerolinewidth\":2},\"yaxis\":{\"automargin\":true,\"gridcolor\":\"white\",\"linecolor\":\"white\",\"ticks\":\"\",\"title\":{\"standoff\":15},\"zerolinecolor\":\"white\",\"zerolinewidth\":2}}},\"coloraxis\":{\"colorbar\":{\"title\":{\"text\":\"Count\"}},\"colorscale\":[[0.0,\"#0d0887\"],[0.1111111111111111,\"#46039f\"],[0.2222222222222222,\"#7201a8\"],[0.3333333333333333,\"#9c179e\"],[0.4444444444444444,\"#bd3786\"],[0.5555555555555556,\"#d8576b\"],[0.6666666666666666,\"#ed7953\"],[0.7777777777777778,\"#fb9f3a\"],[0.8888888888888888,\"#fdca26\"],[1.0,\"#f0f921\"]]},\"legend\":{\"tracegroupgap\":0},\"title\":{\"text\":\"Number of Vehicles\"}},                        {\"responsive\": true}                    ).then(function(){\n",
       "                            \n",
       "var gd = document.getElementById('e5f28856-dbff-46d9-8a24-903c531f2080');\n",
       "var x = new MutationObserver(function (mutations, observer) {{\n",
       "        var display = window.getComputedStyle(gd).display;\n",
       "        if (!display || display === 'none') {{\n",
       "            console.log([gd, 'removed!']);\n",
       "            Plotly.purge(gd);\n",
       "            observer.disconnect();\n",
       "        }}\n",
       "}});\n",
       "\n",
       "// Listen for the removal of the full notebook cells\n",
       "var notebookContainer = gd.closest('#notebook-container');\n",
       "if (notebookContainer) {{\n",
       "    x.observe(notebookContainer, {childList: true});\n",
       "}}\n",
       "\n",
       "// Listen for the clearing of the current output cell\n",
       "var outputEl = gd.closest('.output');\n",
       "if (outputEl) {{\n",
       "    x.observe(outputEl, {childList: true});\n",
       "}}\n",
       "\n",
       "                        })                };                });            </script>        </div>"
      ]
     },
     "metadata": {},
     "output_type": "display_data"
    }
   ],
   "source": [
    "fig= px.treemap(proper_vehicle, path=['Name of Vehicle'],\n",
    "               values='Count',\n",
    "               color='Count',\n",
    "              title='Number of Vehicles')\n",
    "fig.show()"
   ]
  },
  {
   "cell_type": "markdown",
   "id": "ab7336f9",
   "metadata": {
    "papermill": {
     "duration": 0.091678,
     "end_time": "2022-02-02T12:45:33.878709",
     "exception": false,
     "start_time": "2022-02-02T12:45:33.787031",
     "status": "completed"
    },
    "tags": []
   },
   "source": [
    "Treemap:-A treemap in Python is a visualization of data that splits a rectangle into sub-parts. The size of each subpart is in proportion to the data it represents. It is somewhat like a pie-chart. Although, treemaps can represent much-more complex data as compared to a pie-chart.A treemap plot represents hierarchial data as nested rectangular sectors.\n",
    "\n",
    "*path=Name of vehicle:- names or columns of a rectangular dataframe defining the hierarchy of sectors, from root to leaves.Ex:-it shows the name of perticular name of vehical wrt sector.\n",
    "\n",
    "*values=count:-Values from this column or array_like are used to set values associated to sectors.it is used to display values by cliking on the perticular sector.by clicking \"Hyundai Solaris sector\" it will shows count value 104.\n",
    "\n",
    "*color=count:-It assign color for each sector is equal to it's count values.i,e,, for \"Hyundai Solaris sector\" it will assign color values as 104. Similarly for others."
   ]
  },
  {
   "cell_type": "markdown",
   "id": "3a5d7b7d",
   "metadata": {
    "papermill": {
     "duration": 0.093897,
     "end_time": "2022-02-02T12:45:34.064875",
     "exception": false,
     "start_time": "2022-02-02T12:45:33.970978",
     "status": "completed"
    },
    "tags": []
   },
   "source": [
    "Conclusion:-\n",
    "* The above treemap depicts that \"Hyundai Solaris\" was highly used CAB Vehicle for maximum of times. Therefore company shows more affection about \"Hyundai Solaris\" vehicles for getting more profit."
   ]
  },
  {
   "cell_type": "markdown",
   "id": "dca16936",
   "metadata": {
    "papermill": {
     "duration": 0.09052,
     "end_time": "2022-02-02T12:45:34.248344",
     "exception": false,
     "start_time": "2022-02-02T12:45:34.157824",
     "status": "completed"
    },
    "tags": []
   },
   "source": [
    "# Time of the Day"
   ]
  },
  {
   "cell_type": "code",
   "execution_count": 36,
   "id": "7e1b7e58",
   "metadata": {
    "execution": {
     "iopub.execute_input": "2022-02-02T12:45:34.446642Z",
     "iopub.status.busy": "2022-02-02T12:45:34.444658Z",
     "iopub.status.idle": "2022-02-02T12:45:34.455513Z",
     "shell.execute_reply": "2022-02-02T12:45:34.456006Z",
     "shell.execute_reply.started": "2022-02-02T12:00:04.828968Z"
    },
    "papermill": {
     "duration": 0.112986,
     "end_time": "2022-02-02T12:45:34.456197",
     "exception": false,
     "start_time": "2022-02-02T12:45:34.343211",
     "status": "completed"
    },
    "tags": []
   },
   "outputs": [
    {
     "data": {
      "text/plain": [
       "Noon       301\n",
       "Morning    213\n",
       "Evening    164\n",
       "Name: Morning_Noon_Evening, dtype: int64"
      ]
     },
     "execution_count": 36,
     "metadata": {},
     "output_type": "execute_result"
    }
   ],
   "source": [
    "TOD_count= new_df['Morning_Noon_Evening'].value_counts()\n",
    "TOD_count"
   ]
  },
  {
   "cell_type": "code",
   "execution_count": 37,
   "id": "2739cf68",
   "metadata": {
    "execution": {
     "iopub.execute_input": "2022-02-02T12:45:34.647305Z",
     "iopub.status.busy": "2022-02-02T12:45:34.646600Z",
     "iopub.status.idle": "2022-02-02T12:45:34.840922Z",
     "shell.execute_reply": "2022-02-02T12:45:34.841574Z",
     "shell.execute_reply.started": "2022-02-02T12:44:27.384842Z"
    },
    "papermill": {
     "duration": 0.29339,
     "end_time": "2022-02-02T12:45:34.841859",
     "exception": false,
     "start_time": "2022-02-02T12:45:34.548469",
     "status": "completed"
    },
    "tags": []
   },
   "outputs": [
    {
     "data": {
      "image/png": "[encoded data removed]",
      "text/plain": [
       "<Figure size 720x720 with 1 Axes>"
      ]
     },
     "metadata": {},
     "output_type": "display_data"
    }
   ],
   "source": [
    "plt.figure(figsize=(10,10))\n",
    "plt.title('Time of the Day')\n",
    "plt.pie(TOD_count, labels=TOD_count.index,autopct='%1.1f%%', shadow=True );"
   ]
  },
  {
   "cell_type": "markdown",
   "id": "537b4674",
   "metadata": {
    "papermill": {
     "duration": 0.091147,
     "end_time": "2022-02-02T12:45:35.036387",
     "exception": false,
     "start_time": "2022-02-02T12:45:34.945240",
     "status": "completed"
    },
    "tags": []
   },
   "source": [
    "Code Explanation:-\n",
    "1. labels=TOD_count.index:-means that label is used by TOD_count accordind to it's index value, it will label the pie_wedge.i,e,,index 0->noon ,1->morng, 2->Eveg\n",
    "2. autopct='%1.1f%%':-autopct enables you to display the percent value using Python string formatting.\n",
    "3. %1.1f%%:-only one value after decimal.\n"
   ]
  },
  {
   "cell_type": "markdown",
   "id": "2fff753f",
   "metadata": {
    "papermill": {
     "duration": 0.092101,
     "end_time": "2022-02-02T12:45:35.219833",
     "exception": false,
     "start_time": "2022-02-02T12:45:35.127732",
     "status": "completed"
    },
    "tags": []
   },
   "source": [
    "Conclusion:-\n",
    "* > 44% of the trips were made in the afternoon.This shows peak_hour.So the company increse the fare at afternoon in order to increase the profit."
   ]
  },
  {
   "cell_type": "markdown",
   "id": "e7549116",
   "metadata": {
    "papermill": {
     "duration": 0.09591,
     "end_time": "2022-02-02T12:45:35.410024",
     "exception": false,
     "start_time": "2022-02-02T12:45:35.314114",
     "status": "completed"
    },
    "tags": []
   },
   "source": [
    "# Whole year Cost & Distance Analysis"
   ]
  },
  {
   "cell_type": "code",
   "execution_count": 38,
   "id": "574828e7",
   "metadata": {
    "execution": {
     "iopub.execute_input": "2022-02-02T12:45:35.612460Z",
     "iopub.status.busy": "2022-02-02T12:45:35.611711Z",
     "iopub.status.idle": "2022-02-02T12:45:35.622349Z",
     "shell.execute_reply": "2022-02-02T12:45:35.622988Z",
     "shell.execute_reply.started": "2022-02-02T12:19:45.980085Z"
    },
    "papermill": {
     "duration": 0.120667,
     "end_time": "2022-02-02T12:45:35.623176",
     "exception": false,
     "start_time": "2022-02-02T12:45:35.502509",
     "status": "completed"
    },
    "tags": []
   },
   "outputs": [
    {
     "data": {
      "text/html": [
       "<div>\n",
       "<style scoped>\n",
       "    .dataframe tbody tr th:only-of-type {\n",
       "        vertical-align: middle;\n",
       "    }\n",
       "\n",
       "    .dataframe tbody tr th {\n",
       "        vertical-align: top;\n",
       "    }\n",
       "\n",
       "    .dataframe thead th {\n",
       "        text-align: right;\n",
       "    }\n",
       "</style>\n",
       "<table border=\"1\" class=\"dataframe\">\n",
       "  <thead>\n",
       "    <tr style=\"text-align: right;\">\n",
       "      <th></th>\n",
       "      <th>year</th>\n",
       "      <th>price_usd</th>\n",
       "    </tr>\n",
       "  </thead>\n",
       "  <tbody>\n",
       "    <tr>\n",
       "      <th>0</th>\n",
       "      <td>2015</td>\n",
       "      <td>826.77</td>\n",
       "    </tr>\n",
       "    <tr>\n",
       "      <th>1</th>\n",
       "      <td>2016</td>\n",
       "      <td>722.28</td>\n",
       "    </tr>\n",
       "    <tr>\n",
       "      <th>2</th>\n",
       "      <td>2017</td>\n",
       "      <td>1286.25</td>\n",
       "    </tr>\n",
       "    <tr>\n",
       "      <th>3</th>\n",
       "      <td>2018</td>\n",
       "      <td>596.46</td>\n",
       "    </tr>\n",
       "  </tbody>\n",
       "</table>\n",
       "</div>"
      ],
      "text/plain": [
       "   year  price_usd\n",
       "0  2015     826.77\n",
       "1  2016     722.28\n",
       "2  2017    1286.25\n",
       "3  2018     596.46"
      ]
     },
     "execution_count": 38,
     "metadata": {},
     "output_type": "execute_result"
    }
   ],
   "source": [
    "cost_per_year= new_df.groupby('year')[['price_usd']].sum().reset_index()\n",
    "cost_per_year"
   ]
  },
  {
   "cell_type": "code",
   "execution_count": 39,
   "id": "1d7d580c",
   "metadata": {
    "execution": {
     "iopub.execute_input": "2022-02-02T12:45:35.828781Z",
     "iopub.status.busy": "2022-02-02T12:45:35.828040Z",
     "iopub.status.idle": "2022-02-02T12:45:35.831621Z",
     "shell.execute_reply": "2022-02-02T12:45:35.831070Z",
     "shell.execute_reply.started": "2022-02-02T12:20:24.811479Z"
    },
    "papermill": {
     "duration": 0.112912,
     "end_time": "2022-02-02T12:45:35.831770",
     "exception": false,
     "start_time": "2022-02-02T12:45:35.718858",
     "status": "completed"
    },
    "tags": []
   },
   "outputs": [
    {
     "data": {
      "text/html": [
       "<div>\n",
       "<style scoped>\n",
       "    .dataframe tbody tr th:only-of-type {\n",
       "        vertical-align: middle;\n",
       "    }\n",
       "\n",
       "    .dataframe tbody tr th {\n",
       "        vertical-align: top;\n",
       "    }\n",
       "\n",
       "    .dataframe thead th {\n",
       "        text-align: right;\n",
       "    }\n",
       "</style>\n",
       "<table border=\"1\" class=\"dataframe\">\n",
       "  <thead>\n",
       "    <tr style=\"text-align: right;\">\n",
       "      <th></th>\n",
       "      <th>year</th>\n",
       "      <th>price_usd</th>\n",
       "    </tr>\n",
       "  </thead>\n",
       "  <tbody>\n",
       "    <tr>\n",
       "      <th>0</th>\n",
       "      <td>2015</td>\n",
       "      <td>6.561667</td>\n",
       "    </tr>\n",
       "    <tr>\n",
       "      <th>1</th>\n",
       "      <td>2016</td>\n",
       "      <td>4.127314</td>\n",
       "    </tr>\n",
       "    <tr>\n",
       "      <th>2</th>\n",
       "      <td>2017</td>\n",
       "      <td>5.568182</td>\n",
       "    </tr>\n",
       "    <tr>\n",
       "      <th>3</th>\n",
       "      <td>2018</td>\n",
       "      <td>4.085342</td>\n",
       "    </tr>\n",
       "  </tbody>\n",
       "</table>\n",
       "</div>"
      ],
      "text/plain": [
       "   year  price_usd\n",
       "0  2015   6.561667\n",
       "1  2016   4.127314\n",
       "2  2017   5.568182\n",
       "3  2018   4.085342"
      ]
     },
     "execution_count": 39,
     "metadata": {},
     "output_type": "execute_result"
    }
   ],
   "source": [
    "avg_cost_per_year=new_df.groupby('year')[['price_usd']].mean().reset_index()\n",
    "avg_cost_per_year"
   ]
  },
  {
   "cell_type": "code",
   "execution_count": 40,
   "id": "45ca8d84",
   "metadata": {
    "execution": {
     "iopub.execute_input": "2022-02-02T12:45:36.032894Z",
     "iopub.status.busy": "2022-02-02T12:45:36.031839Z",
     "iopub.status.idle": "2022-02-02T12:45:36.040367Z",
     "shell.execute_reply": "2022-02-02T12:45:36.040971Z",
     "shell.execute_reply.started": "2022-02-02T12:21:42.346403Z"
    },
    "papermill": {
     "duration": 0.113838,
     "end_time": "2022-02-02T12:45:36.041157",
     "exception": false,
     "start_time": "2022-02-02T12:45:35.927319",
     "status": "completed"
    },
    "tags": []
   },
   "outputs": [
    {
     "data": {
      "text/html": [
       "<div>\n",
       "<style scoped>\n",
       "    .dataframe tbody tr th:only-of-type {\n",
       "        vertical-align: middle;\n",
       "    }\n",
       "\n",
       "    .dataframe tbody tr th {\n",
       "        vertical-align: top;\n",
       "    }\n",
       "\n",
       "    .dataframe thead th {\n",
       "        text-align: right;\n",
       "    }\n",
       "</style>\n",
       "<table border=\"1\" class=\"dataframe\">\n",
       "  <thead>\n",
       "    <tr style=\"text-align: right;\">\n",
       "      <th></th>\n",
       "      <th>year</th>\n",
       "      <th>distance_kms</th>\n",
       "    </tr>\n",
       "  </thead>\n",
       "  <tbody>\n",
       "    <tr>\n",
       "      <th>0</th>\n",
       "      <td>2015</td>\n",
       "      <td>10.489286</td>\n",
       "    </tr>\n",
       "    <tr>\n",
       "      <th>1</th>\n",
       "      <td>2016</td>\n",
       "      <td>8.540971</td>\n",
       "    </tr>\n",
       "    <tr>\n",
       "      <th>2</th>\n",
       "      <td>2017</td>\n",
       "      <td>11.936450</td>\n",
       "    </tr>\n",
       "    <tr>\n",
       "      <th>3</th>\n",
       "      <td>2018</td>\n",
       "      <td>8.531096</td>\n",
       "    </tr>\n",
       "  </tbody>\n",
       "</table>\n",
       "</div>"
      ],
      "text/plain": [
       "   year  distance_kms\n",
       "0  2015     10.489286\n",
       "1  2016      8.540971\n",
       "2  2017     11.936450\n",
       "3  2018      8.531096"
      ]
     },
     "execution_count": 40,
     "metadata": {},
     "output_type": "execute_result"
    }
   ],
   "source": [
    "avg_distance_per_year=new_df.groupby('year')[['distance_kms']].mean().reset_index()\n",
    "avg_distance_per_year"
   ]
  },
  {
   "cell_type": "markdown",
   "id": "790cac33",
   "metadata": {
    "papermill": {
     "duration": 0.095134,
     "end_time": "2022-02-02T12:45:36.231604",
     "exception": false,
     "start_time": "2022-02-02T12:45:36.136470",
     "status": "completed"
    },
    "tags": []
   },
   "source": [
    "****Visualization of whole Year & Distance"
   ]
  },
  {
   "cell_type": "code",
   "execution_count": 41,
   "id": "87db3b96",
   "metadata": {
    "execution": {
     "iopub.execute_input": "2022-02-02T12:45:36.427543Z",
     "iopub.status.busy": "2022-02-02T12:45:36.422494Z",
     "iopub.status.idle": "2022-02-02T12:45:37.337911Z",
     "shell.execute_reply": "2022-02-02T12:45:37.338446Z",
     "shell.execute_reply.started": "2022-02-02T12:25:12.137168Z"
    },
    "papermill": {
     "duration": 1.014039,
     "end_time": "2022-02-02T12:45:37.338620",
     "exception": false,
     "start_time": "2022-02-02T12:45:36.324581",
     "status": "completed"
    },
    "scrolled": true,
    "tags": []
   },
   "outputs": [
    {
     "data": {
      "image/png": "[encoded data removed]",
      "text/plain": [
       "<Figure size 720x720 with 4 Axes>"
      ]
     },
     "metadata": {
      "needs_background": "light"
     },
     "output_type": "display_data"
    }
   ],
   "source": [
    "fig,axes=plt.subplots(2, 2, figsize=(10,10))\n",
    "axes[0,0].set_title('Cost per year')\n",
    "sns.barplot(data=cost_per_year,x='year', y='price_usd',\n",
    "           ax=axes[0,0])\n",
    "\n",
    "axes[0,1].set_title('Average Cost per year')\n",
    "sns.barplot(data=avg_cost_per_year,x='year', y='price_usd',\n",
    "           ax=axes[0,1])\n",
    "\n",
    "axes[1,0].set_title(\"Cost and distance\")\n",
    "sns.scatterplot(data=new_df, y='price_usd',hue='ride_hailing_app', x='distance_kms',ax=axes[1,0])\n",
    "\n",
    "axes[1,1].set_title('Average Distance per year')\n",
    "sns.barplot(data=avg_distance_per_year,x='year', y='distance_kms',\n",
    "           ax=axes[1,1])\n",
    "\n",
    "plt.tight_layout(pad=3)          #This codes are explained above "
   ]
  },
  {
   "cell_type": "markdown",
   "id": "4c37721e",
   "metadata": {
    "papermill": {
     "duration": 0.097465,
     "end_time": "2022-02-02T12:45:37.531976",
     "exception": false,
     "start_time": "2022-02-02T12:45:37.434511",
     "status": "completed"
    },
    "tags": []
   },
   "source": [
    "Conclusion:-\n",
    "* > The highest cost of trips was made in 2017 but it's average was in 2015.Company got high profit.\n",
    "* > There is a positive relationship between price and distance covered. This means that, the longer the distance, the higher the price. This particular result is in tune with reality as most of this hailing apps charge based on distance covered.\n",
    "* > By seeing cost and distance plot, we know that Uber hailing App was used the most for his trips,than others.\n",
    "\n",
    "  "
   ]
  }
 ],
 "metadata": {
  "kernelspec": {
   "display_name": "Python 3 (ipykernel)",
   "language": "python",
   "name": "python3"
  },
  "language_info": {
   "codemirror_mode": {
    "name": "ipython",
    "version": 3
   },
   "file_extension": ".py",
   "mimetype": "text/x-python",
   "name": "python",
   "nbconvert_exporter": "python",
   "pygments_lexer": "ipython3",
   "version": "3.9.7"
  },
  "papermill": {
   "default_parameters": {},
   "duration": 39.790733,
   "end_time": "2022-02-02T12:45:38.646418",
   "environment_variables": {},
   "exception": null,
   "input_path": "__notebook__.ipynb",
   "output_path": "__notebook__.ipynb",
   "parameters": {},
   "start_time": "2022-02-02T12:44:58.855685",
   "version": "2.3.3"
  }
 },
 "nbformat": 4,
 "nbformat_minor": 5
}
